{
 "cells": [
  {
   "cell_type": "markdown",
   "metadata": {
    "slideshow": {
     "slide_type": "slide"
    }
   },
   "source": [
    "# IPython\n",
    "\n",
    "* An interactive shell\n",
    "\n",
    "* Much more user-friendly\n",
    "\n",
    "* Very useful for quick test of codes and small-scale calculations\n",
    "\n"
   ]
  },
  {
   "cell_type": "markdown",
   "metadata": {
    "slideshow": {
     "slide_type": "slide"
    }
   },
   "source": [
    "<img src=\"./figs/ipython.png\" width=\"600\">"
   ]
  },
  {
   "cell_type": "markdown",
   "metadata": {
    "slideshow": {
     "slide_type": "slide"
    }
   },
   "source": [
    "# Start ipython\n",
    "\n",
    "- In terminal:\n",
    "\n",
    "```bash\n",
    "$ ipython\n",
    "```"
   ]
  },
  {
   "cell_type": "markdown",
   "metadata": {
    "slideshow": {
     "slide_type": "slide"
    }
   },
   "source": [
    "# Try...\n",
    "\n",
    "```ipython\n",
    "In [1]: print(\"hello world\")\n",
    "\n",
    "In [2]: a = \"hello world\"\n",
    "\n",
    "In [3]: a\n",
    "\n",
    "In [4]: print(a)\n",
    "\n",
    "```"
   ]
  },
  {
   "cell_type": "markdown",
   "metadata": {
    "slideshow": {
     "slide_type": "slide"
    }
   },
   "source": [
    "# Try...\n",
    "\n",
    "```ipython\n",
    "\n",
    "In [1]: import numpy as np\n",
    "\n",
    "In [2]: x = np.linspace(0, 100, 101)\n",
    "\n",
    "In [3]: x\n",
    "\n",
    "In [4]: y = 0.5 * x + 10.\n",
    "\n",
    "In [5]: y\n",
    "```"
   ]
  },
  {
   "cell_type": "markdown",
   "metadata": {},
   "source": [
    "# Conversing with python\n",
    "\n",
    "- Open a terminal and execute the following command.\n",
    "\n",
    "```bash\n",
    "$ python\n",
    "```\n",
    "\n",
    "- Type the following and see what happen.\n",
    "\n",
    "```python\n",
    ">>> I come in peace, please take me to your leader\n",
    "```"
   ]
  },
  {
   "cell_type": "markdown",
   "metadata": {},
   "source": [
    "# Conversing with python\n",
    "\n",
    "- Try:\n",
    "\n",
    "```python\n",
    ">>> print('hello world')\n",
    "```\n",
    "\n",
    "- Try:\n",
    "\n",
    "```python\n",
    ">>> print('hello world)\n",
    "```\n",
    "\n",
    "- Try:\n",
    "\n",
    "```python\n",
    ">>> print('hello world'\n",
    "```"
   ]
  },
  {
   "cell_type": "markdown",
   "metadata": {},
   "source": [
    "# Conversing with python\n",
    "\n",
    "- Let's get out of python.\n",
    "\n",
    "- Try:\n",
    "\n",
    "```python\n",
    ">>> quit\n",
    "```\n",
    "\n",
    "- Try:\n",
    "\n",
    "```python\n",
    ">>> quit()\n",
    "```"
   ]
  }
 ],
 "metadata": {
  "celltoolbar": "Slideshow",
  "kernelspec": {
   "display_name": "Python 3",
   "language": "python",
   "name": "python3"
  },
  "language_info": {
   "codemirror_mode": {
    "name": "ipython",
    "version": 3
   },
   "file_extension": ".py",
   "mimetype": "text/x-python",
   "name": "python",
   "nbconvert_exporter": "python",
   "pygments_lexer": "ipython3",
   "version": "3.7.0"
  }
 },
 "nbformat": 4,
 "nbformat_minor": 2
}

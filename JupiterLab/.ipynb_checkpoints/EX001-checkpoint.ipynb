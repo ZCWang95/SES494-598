{
 "cells": [
  {
   "cell_type": "markdown",
   "metadata": {
    "slideshow": {
     "slide_type": "slide"
    }
   },
   "source": [
    "## Exercises\n",
    "\n",
    "__1.__ A ball is thrown vertically up in the air from a height $h_0$ above\n",
    "the ground at an initial velocity $v_0$. Its subsequent height $h$ and\n",
    "velocity $v$ are given by the equations\n",
    "\n",
    "$$h = h_0 + v_0 t - \\tfrac{1}{2}gt^2 $$ \n",
    "\n",
    "$$v = v_0 - gt$$\n",
    "\n",
    "where $g = 9.8$ is the acceleration due to gravity in\n",
    "$\\mathrm{m/s^2}$. Write a script that finds the height $h$ and velocity $v$ at a time $t$ after the ball is thrown. Start the script by setting $h_0 = 1.2$ m and $v_0 = 5.4$ m/s and have your script print out the values of height and velocity. Then use the script to find the height and velocity after 0.5 seconds. "
   ]
  },
  {
   "cell_type": "code",
   "execution_count": 1,
   "metadata": {
    "slideshow": {
     "slide_type": "slide"
    }
   },
   "outputs": [
    {
     "name": "stdout",
     "output_type": "stream",
     "text": [
      "height at  0.50 s =  2.68\n",
      "velocity at  0.50 s =  0.50\n"
     ]
    }
   ],
   "source": [
    "h0 = 1.2\n",
    "v0 = 5.4\n",
    "t = 0.5\n",
    "g = 9.8\n",
    "h = h0 + v0*t - 0.5 * 9.8 * t**2\n",
    "#print('height at {0: .2f} s = {1: .2f}'.format(t, h0 + v0*t - 0.5 * 9.8 * t**2))\n",
    "print('height at {0: .2f} s = {1: .2f}'.format(t, h))\n",
    "print('velocity at {0: .2f} s = {1: .2f}'.format(t, v0 - g*t))"
   ]
  },
  {
   "cell_type": "markdown",
   "metadata": {
    "slideshow": {
     "slide_type": "slide"
    }
   },
   "source": [
    "Modify your script for $t = 2$ s."
   ]
  },
  {
   "cell_type": "code",
   "execution_count": 2,
   "metadata": {
    "slideshow": {
     "slide_type": "fragment"
    }
   },
   "outputs": [
    {
     "name": "stdout",
     "output_type": "stream",
     "text": [
      "height at  2.00 s = -7.60\n",
      "velocity at  2.00 s = -14.20\n"
     ]
    }
   ],
   "source": [
    "h0 = 1.2\n",
    "v0 = 5.4\n",
    "t = 2.\n",
    "g = 9.8\n",
    "\n",
    "print('height at {0: .2f} s = {1: .2f}'.format(t, h0 + v0*t - 0.5 * 9.8 * t**2))\n",
    "print('velocity at {0: .2f} s = {1: .2f}'.format(t, v0 - g*t))"
   ]
  }
 ],
 "metadata": {
  "celltoolbar": "Slideshow",
  "kernelspec": {
   "display_name": "Python 3",
   "language": "python",
   "name": "python3"
  },
  "language_info": {
   "codemirror_mode": {
    "name": "ipython",
    "version": 3
   },
   "file_extension": ".py",
   "mimetype": "text/x-python",
   "name": "python",
   "nbconvert_exporter": "python",
   "pygments_lexer": "ipython3",
   "version": "3.7.0"
  }
 },
 "nbformat": 4,
 "nbformat_minor": 2
}

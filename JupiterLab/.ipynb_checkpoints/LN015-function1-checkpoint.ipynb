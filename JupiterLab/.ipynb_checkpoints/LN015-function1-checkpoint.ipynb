{
 "cells": [
  {
   "cell_type": "markdown",
   "metadata": {
    "slideshow": {
     "slide_type": "slide"
    }
   },
   "source": [
    "# Functions"
   ]
  },
  {
   "cell_type": "markdown",
   "metadata": {
    "slideshow": {
     "slide_type": "slide"
    }
   },
   "source": [
    "As you develop more complex computer code, it becomes increasingly\n",
    "important to organize your code into modular blocks. \n",
    "\n",
    "User-defined functions\n",
    "are a lot like built-in functions that we have encountered in core\n",
    "Python as well as in NumPy and Matplotlib. The main difference is that\n",
    "user-defined functions are written by you. The idea is to define\n",
    "functions to simplify your code and to allow you to reuse the same code\n",
    "in different contexts."
   ]
  },
  {
   "cell_type": "markdown",
   "metadata": {
    "slideshow": {
     "slide_type": "slide"
    }
   },
   "source": [
    "## User-defined functions\n",
    "\n",
    "The NumPy package contains a lot of mathematical functions. \n",
    "However, you may nevertheless find that you\n",
    "need a function that is not available in the NumPy Python library. In\n",
    "those cases, you will want to write your own function."
   ]
  },
  {
   "cell_type": "markdown",
   "metadata": {
    "slideshow": {
     "slide_type": "slide"
    }
   },
   "source": [
    "In studies of optics and signal processing one often runs into the sinc\n",
    "function, which is defined as\n",
    "\n",
    "$$\\mathrm{sinc}\\,x \\equiv \\frac{\\sin x}{x} \\;.$$\n",
    "\n",
    "Let's write a Python function for the sinc function. Here is our first\n",
    "attempt:"
   ]
  },
  {
   "cell_type": "markdown",
   "metadata": {
    "slideshow": {
     "slide_type": "slide"
    }
   },
   "source": [
    "```python\n",
    "import numpy as np\n",
    "\n",
    "def sinc(x):  \n",
    "    y = np.sin(x)/x \n",
    "    return y\n",
    "```"
   ]
  },
  {
   "cell_type": "markdown",
   "metadata": {
    "slideshow": {
     "slide_type": "slide"
    }
   },
   "source": [
    "Every function definition begins with the word `def` followed by the\n",
    "name you want to give to the function, `sinc` in this case, then a list\n",
    "of arguments enclosed in parentheses, and finally terminated with a\n",
    "colon. \n",
    "\n",
    "In this case there is only one argument, `x`, but in general\n",
    "there can be as many arguments as you want, including no arguments at\n",
    "all. "
   ]
  },
  {
   "cell_type": "markdown",
   "metadata": {
    "slideshow": {
     "slide_type": "slide"
    }
   },
   "source": [
    "The indented block of code following the first line defines what the\n",
    "function does. In this case, the first line calculates\n",
    "$\\mathrm{sinc}\\,x = \\sin x/x$ and sets it equal to `y`. The `return`\n",
    "statement of the last line tells Python to return the value of `y` to\n",
    "the user."
   ]
  },
  {
   "cell_type": "code",
   "execution_count": 5,
   "metadata": {
    "collapsed": false,
    "slideshow": {
     "slide_type": "slide"
    }
   },
   "outputs": [],
   "source": [
    "import numpy as np\n",
    "\n",
    "def sinc(x):  \n",
    "    y = np.sin(x)/x \n",
    "    return y"
   ]
  },
  {
   "cell_type": "code",
   "execution_count": 6,
   "metadata": {
    "collapsed": false,
    "slideshow": {
     "slide_type": "slide"
    }
   },
   "outputs": [
    {
     "data": {
      "text/plain": [
       "-0.18920062382698205"
      ]
     },
     "execution_count": 6,
     "metadata": {},
     "output_type": "execute_result"
    }
   ],
   "source": [
    "sinc(4)"
   ]
  },
  {
   "cell_type": "code",
   "execution_count": 7,
   "metadata": {
    "collapsed": false,
    "slideshow": {
     "slide_type": "fragment"
    }
   },
   "outputs": [],
   "source": [
    "a = sinc(1.2)"
   ]
  },
  {
   "cell_type": "code",
   "execution_count": 9,
   "metadata": {
    "collapsed": false,
    "slideshow": {
     "slide_type": "fragment"
    }
   },
   "outputs": [
    {
     "data": {
      "text/plain": [
       "0.7766992383060219"
      ]
     },
     "execution_count": 9,
     "metadata": {},
     "output_type": "execute_result"
    }
   ],
   "source": [
    "a"
   ]
  },
  {
   "cell_type": "code",
   "execution_count": 10,
   "metadata": {
    "collapsed": false,
    "slideshow": {
     "slide_type": "fragment"
    }
   },
   "outputs": [
    {
     "data": {
      "text/plain": [
       "0.7766992383060219"
      ]
     },
     "execution_count": 10,
     "metadata": {},
     "output_type": "execute_result"
    }
   ],
   "source": [
    "np.sin(1.2)/1.2 "
   ]
  },
  {
   "cell_type": "markdown",
   "metadata": {
    "slideshow": {
     "slide_type": "slide"
    }
   },
   "source": [
    "Inputs and outputs 4 and 5 verify that the function does indeed give the\n",
    "same result as an explicit calculation of $\\sin x/x$.\n",
    "\n",
    "You may have noticed that there is a problem with our definition of\n",
    "$\\mathrm{sinc}\\,x$ when `x=0.0`. Let's try it out and see what happens"
   ]
  },
  {
   "cell_type": "code",
   "execution_count": 6,
   "metadata": {
    "collapsed": false,
    "slideshow": {
     "slide_type": "fragment"
    }
   },
   "outputs": [
    {
     "name": "stderr",
     "output_type": "stream",
     "text": [
      "/ext/anaconda3/lib/python3.5/site-packages/ipykernel/__main__.py:4: RuntimeWarning: invalid value encountered in double_scalars\n"
     ]
    },
    {
     "data": {
      "text/plain": [
       "nan"
      ]
     },
     "execution_count": 6,
     "metadata": {},
     "output_type": "execute_result"
    }
   ],
   "source": [
    "sinc(0.0)"
   ]
  },
  {
   "cell_type": "markdown",
   "metadata": {
    "slideshow": {
     "slide_type": "slide"
    }
   },
   "source": [
    "IPython returns `nan` or \"not a number\", which occurs when Python\n",
    "attempts a division by zero, which is not defined. This is not the\n",
    "desired response as $\\mathrm{sinc}\\,x$ is, in fact, perfectly well\n",
    "defined for $x=0$. "
   ]
  },
  {
   "cell_type": "markdown",
   "metadata": {
    "slideshow": {
     "slide_type": "slide"
    }
   },
   "source": [
    "You can verify this using L'Hopital's rule, which you\n",
    "may have learned in your study of calculus, or you can ascertain the\n",
    "correct answer by calculating the Taylor series for $\\mathrm{sinc}\\,x$.\n",
    "Here is what we get\n",
    "\n",
    "$$\\mathrm{sinc}\\,x = \\frac{\\sin x}{x} \n",
    "                = \\frac{x - \\frac{x^3}{3!} + \\frac{x^5}{5!} + ...}{x} \n",
    "                = 1 - \\frac{x^2}{3!} + \\frac{x^4}{5!} + ... \\;.$$\n",
    "\n",
    "$\\mathrm{sinc}\\,x$ is well-defined at and near $x=0$ and that $\\mathrm{sinc}(0)=1$."
   ]
  },
  {
   "cell_type": "markdown",
   "metadata": {
    "slideshow": {
     "slide_type": "slide"
    }
   },
   "source": [
    "Let's modify our function so that it gives the correct value for `x=0`."
   ]
  },
  {
   "cell_type": "code",
   "execution_count": 14,
   "metadata": {
    "collapsed": false,
    "slideshow": {
     "slide_type": "fragment"
    }
   },
   "outputs": [],
   "source": [
    "def sinc(x):  \n",
    "    if np.abs(x)<1e-10:\n",
    "        y = 1.0\n",
    "    else:\n",
    "        y = np.sin(x)/x\n",
    "    return y"
   ]
  },
  {
   "cell_type": "code",
   "execution_count": 15,
   "metadata": {
    "collapsed": false,
    "slideshow": {
     "slide_type": "slide"
    }
   },
   "outputs": [
    {
     "data": {
      "text/plain": [
       "1.0"
      ]
     },
     "execution_count": 15,
     "metadata": {},
     "output_type": "execute_result"
    }
   ],
   "source": [
    "sinc(0)"
   ]
  },
  {
   "cell_type": "code",
   "execution_count": 13,
   "metadata": {
    "collapsed": false,
    "slideshow": {
     "slide_type": "fragment"
    }
   },
   "outputs": [
    {
     "data": {
      "text/plain": [
       "0.7766992383060219"
      ]
     },
     "execution_count": 13,
     "metadata": {},
     "output_type": "execute_result"
    }
   ],
   "source": [
    "sinc(1.2)"
   ]
  },
  {
   "cell_type": "markdown",
   "metadata": {
    "slideshow": {
     "slide_type": "slide"
    }
   },
   "source": [
    "### Looping over arrays in user-defined functions\n",
    "\n",
    "The code for $\\mathrm{sinc}\\,x$ works just fine when the argument is a\n",
    "single number or a variable that represents a single number. However, if\n",
    "the argument is a NumPy array, we run into a problem, as illustrated\n",
    "below."
   ]
  },
  {
   "cell_type": "code",
   "execution_count": 16,
   "metadata": {
    "collapsed": false,
    "slideshow": {
     "slide_type": "slide"
    }
   },
   "outputs": [],
   "source": [
    "x = np.arange(0, 5., 0.5)"
   ]
  },
  {
   "cell_type": "code",
   "execution_count": 17,
   "metadata": {
    "collapsed": false,
    "slideshow": {
     "slide_type": "fragment"
    }
   },
   "outputs": [
    {
     "data": {
      "text/plain": [
       "array([0. , 0.5, 1. , 1.5, 2. , 2.5, 3. , 3.5, 4. , 4.5])"
      ]
     },
     "execution_count": 17,
     "metadata": {},
     "output_type": "execute_result"
    }
   ],
   "source": [
    "x"
   ]
  },
  {
   "cell_type": "code",
   "execution_count": 18,
   "metadata": {
    "collapsed": false,
    "slideshow": {
     "slide_type": "fragment"
    }
   },
   "outputs": [
    {
     "ename": "ValueError",
     "evalue": "The truth value of an array with more than one element is ambiguous. Use a.any() or a.all()",
     "output_type": "error",
     "traceback": [
      "\u001b[0;31m---------------------------------------------------------------------------\u001b[0m",
      "\u001b[0;31mValueError\u001b[0m                                Traceback (most recent call last)",
      "\u001b[0;32m<ipython-input-18-e7d88dd4fb38>\u001b[0m in \u001b[0;36m<module>\u001b[0;34m()\u001b[0m\n\u001b[0;32m----> 1\u001b[0;31m \u001b[0msinc\u001b[0m\u001b[0;34m(\u001b[0m\u001b[0mx\u001b[0m\u001b[0;34m)\u001b[0m\u001b[0;34m\u001b[0m\u001b[0m\n\u001b[0m",
      "\u001b[0;32m<ipython-input-14-205d17a7d168>\u001b[0m in \u001b[0;36msinc\u001b[0;34m(x)\u001b[0m\n\u001b[1;32m      1\u001b[0m \u001b[0;32mdef\u001b[0m \u001b[0msinc\u001b[0m\u001b[0;34m(\u001b[0m\u001b[0mx\u001b[0m\u001b[0;34m)\u001b[0m\u001b[0;34m:\u001b[0m\u001b[0;34m\u001b[0m\u001b[0m\n\u001b[0;32m----> 2\u001b[0;31m     \u001b[0;32mif\u001b[0m \u001b[0mnp\u001b[0m\u001b[0;34m.\u001b[0m\u001b[0mabs\u001b[0m\u001b[0;34m(\u001b[0m\u001b[0mx\u001b[0m\u001b[0;34m)\u001b[0m\u001b[0;34m<\u001b[0m\u001b[0;36m1e-10\u001b[0m\u001b[0;34m:\u001b[0m\u001b[0;34m\u001b[0m\u001b[0m\n\u001b[0m\u001b[1;32m      3\u001b[0m         \u001b[0my\u001b[0m \u001b[0;34m=\u001b[0m \u001b[0;36m1.0\u001b[0m\u001b[0;34m\u001b[0m\u001b[0m\n\u001b[1;32m      4\u001b[0m     \u001b[0;32melse\u001b[0m\u001b[0;34m:\u001b[0m\u001b[0;34m\u001b[0m\u001b[0m\n\u001b[1;32m      5\u001b[0m         \u001b[0my\u001b[0m \u001b[0;34m=\u001b[0m \u001b[0mnp\u001b[0m\u001b[0;34m.\u001b[0m\u001b[0msin\u001b[0m\u001b[0;34m(\u001b[0m\u001b[0mx\u001b[0m\u001b[0;34m)\u001b[0m\u001b[0;34m/\u001b[0m\u001b[0mx\u001b[0m\u001b[0;34m\u001b[0m\u001b[0m\n",
      "\u001b[0;31mValueError\u001b[0m: The truth value of an array with more than one element is ambiguous. Use a.any() or a.all()"
     ]
    }
   ],
   "source": [
    "sinc(x)"
   ]
  },
  {
   "cell_type": "markdown",
   "metadata": {
    "slideshow": {
     "slide_type": "slide"
    }
   },
   "source": [
    "The `if` statement in Python is set up to evaluate the truth value of a\n",
    "single variable, not of multi-element arrays. \n",
    "\n",
    "An obvious way to handle this problem is to write the code so that it\n",
    "processes the array one element at a time, which you could do using a\n",
    "`for` loop."
   ]
  },
  {
   "cell_type": "code",
   "execution_count": 24,
   "metadata": {
    "collapsed": false,
    "slideshow": {
     "slide_type": "slide"
    }
   },
   "outputs": [],
   "source": [
    "def sinc(x):  \n",
    "    y = [] # creates an empty list to store results \n",
    "    for xx in x: # loops over all elements in x array \n",
    "        if xx == 0.0: # adds result of 1.0 to y list if \n",
    "            y = y + [1.0] # xx is zero \n",
    "        else: # adds result of sin(xx)/xx to y list if \n",
    "            y = y + [np.sin(xx)/xx] # xx is not zero \n",
    "    return np.array(y) #converts y to array and returns array"
   ]
  },
  {
   "cell_type": "code",
   "execution_count": 26,
   "metadata": {
    "collapsed": false,
    "slideshow": {
     "slide_type": "slide"
    }
   },
   "outputs": [
    {
     "data": {
      "image/png": "[encoded data removed]",
      "text/plain": [
       "<Figure size 432x288 with 1 Axes>"
      ]
     },
     "metadata": {
      "needs_background": "light"
     },
     "output_type": "display_data"
    }
   ],
   "source": [
    "import numpy as np \n",
    "import matplotlib.pyplot as plt\n",
    "%matplotlib inline\n",
    "\n",
    "x = np.linspace(-10, 10, 256) \n",
    "y = sinc(x)\n",
    "\n",
    "plt.plot(x, y) \n",
    "plt.show()"
   ]
  },
  {
   "cell_type": "markdown",
   "metadata": {
    "slideshow": {
     "slide_type": "slide"
    }
   },
   "source": [
    "The `for` loop evaluates the elements of the `x` array one by one and\n",
    "appends the results to the list `y` one by one. When it is finished, it\n",
    "converts the list to an array and returns the array. The code following\n",
    "the function definition plots $\\mathrm{sinc}\\,x$ as a function of $x$."
   ]
  },
  {
   "cell_type": "markdown",
   "metadata": {
    "slideshow": {
     "slide_type": "slide"
    }
   },
   "source": [
    "In the program above, you may have noticed that the NumPy library is\n",
    "imported *after* the `sinc(x)` function definition. As the function uses\n",
    "the NumPy functions `sin` and `array`, you may wonder how this program\n",
    "can work. Doesn't the `import numpy` statement have to be called before\n",
    "any NumPy functions are used? The answer it an emphatic \"YES\". "
   ]
  },
  {
   "cell_type": "markdown",
   "metadata": {
    "slideshow": {
     "slide_type": "slide"
    }
   },
   "source": [
    "The function definition is *not executed*\n",
    "when it is defined, nor can it be as it has no input `x` data to\n",
    "process. That part of the code is just a definition. "
   ]
  },
  {
   "cell_type": "markdown",
   "metadata": {
    "slideshow": {
     "slide_type": "slide"
    }
   },
   "source": [
    "### Fast array processing in user-defined functions\n",
    "\n",
    "While using loops to process arrays works just fine, it is usually not\n",
    "the best way to accomplish the task in Python. The reason is that loops\n",
    "in Python are executed rather slowly. "
   ]
  },
  {
   "cell_type": "markdown",
   "metadata": {
    "slideshow": {
     "slide_type": "slide"
    }
   },
   "source": [
    "To deal with this problem, the\n",
    "developers of NumPy introduced a number of functions designed to process\n",
    "arrays quickly and efficiently. \n",
    "\n",
    "The\n",
    "function we want is called `where` and it is a part of the NumPy\n",
    "library. There `where` function has the form\n",
    "\n",
    "```python\n",
    "where(condition, output if True, output if False)\n",
    "```\n",
    "\n",
    "The first argument of the `where` function is a conditional statement\n",
    "involving an array. The `where` function applies the condition to the\n",
    "array element by element, and returns the second argument for those\n",
    "array elements for which the condition is `True`, and returns the third\n",
    "argument for those array elements that are `False`. "
   ]
  },
  {
   "cell_type": "code",
   "execution_count": 14,
   "metadata": {
    "collapsed": false,
    "slideshow": {
     "slide_type": "slide"
    }
   },
   "outputs": [],
   "source": [
    "def sinc(x):  \n",
    "    z = np.where(x==0.0, 1.0, np.sin(x)/x) \n",
    "    return z"
   ]
  },
  {
   "cell_type": "markdown",
   "metadata": {
    "slideshow": {
     "slide_type": "slide"
    }
   },
   "source": [
    "The `where` function creates an array and sets the elements of the array\n",
    "equal to 1.0 where the corresponding elements of `x` are zero, and\n",
    "otherwise sets the corresponding elements to `sin(x)/x`."
   ]
  },
  {
   "cell_type": "markdown",
   "metadata": {
    "slideshow": {
     "slide_type": "slide"
    }
   },
   "source": [
    "The moral of the story is that you should avoid using `for` and `while`\n",
    "loops to process arrays in Python programs whenever an array-processing\n",
    "method is available. \n"
   ]
  },
  {
   "cell_type": "markdown",
   "metadata": {
    "slideshow": {
     "slide_type": "slide"
    }
   },
   "source": [
    "## Functions with more (or less) than one input or output\n",
    "\n",
    "Python functions can have any number of input arguments and can return\n",
    "any number of variables. \n"
   ]
  },
  {
   "cell_type": "markdown",
   "metadata": {
    "slideshow": {
     "slide_type": "slide"
    }
   },
   "source": [
    "Suppose you want a function that\n",
    "outputs $n$ $(x,y)$ coordinates around a circle of radius $r$ centered\n",
    "at the point $(x_0,y_0)$. The inputs to the function would be $r$,\n",
    "$x_0$, $y_0$, and $n$. The outputs would be the $n$ $(x,y)$ coordinates.\n",
    "The following code implements this function."
   ]
  },
  {
   "cell_type": "code",
   "execution_count": 30,
   "metadata": {
    "collapsed": false,
    "slideshow": {
     "slide_type": "slide"
    }
   },
   "outputs": [
    {
     "data": {
      "image/png": "[encoded data removed]",
      "text/plain": [
       "<Figure size 432x288 with 1 Axes>"
      ]
     },
     "metadata": {
      "needs_background": "light"
     },
     "output_type": "display_data"
    }
   ],
   "source": [
    "def circle(r, x0, y0, n):  \n",
    "    theta = np.linspace(0., 2.*np.pi, n) \n",
    "    x = r * np.cos(theta) \n",
    "    y = r * np.sin(theta) \n",
    "    return x0+x, y0+y\n",
    "\n",
    "import matplotlib.pyplot as plt\n",
    "\n",
    "x, y = circle(4, 0., 0., 100)\n",
    "plt.plot(x,y)\n",
    "plt.axis('equal');"
   ]
  },
  {
   "cell_type": "markdown",
   "metadata": {
    "slideshow": {
     "slide_type": "slide"
    }
   },
   "source": [
    "Functions can also return nothing to the calling program but just\n",
    "perform some task. For example, here is a program that clears the\n",
    "terminal screen"
   ]
  },
  {
   "cell_type": "code",
   "execution_count": 16,
   "metadata": {
    "collapsed": false,
    "slideshow": {
     "slide_type": "fragment"
    }
   },
   "outputs": [],
   "source": [
    "import subprocess \n",
    "import platform\n",
    "\n",
    "def clear():  \n",
    "    subprocess.Popen( \"cls\" if platform.system() ==  \"Windows\" else \"clear\", shell=True)"
   ]
  },
  {
   "cell_type": "code",
   "execution_count": 17,
   "metadata": {
    "collapsed": false,
    "slideshow": {
     "slide_type": "fragment"
    }
   },
   "outputs": [],
   "source": [
    "clear()"
   ]
  },
  {
   "cell_type": "markdown",
   "metadata": {
    "slideshow": {
     "slide_type": "slide"
    }
   },
   "source": [
    "The function is invoked by typing `clear()`. It has no inputs and no\n",
    "outputs but it performs a useful task. "
   ]
  }
 ],
 "metadata": {
  "celltoolbar": "Slideshow",
  "kernelspec": {
   "display_name": "Python 3",
   "language": "python",
   "name": "python3"
  },
  "language_info": {
   "codemirror_mode": {
    "name": "ipython",
    "version": 3
   },
   "file_extension": ".py",
   "mimetype": "text/x-python",
   "name": "python",
   "nbconvert_exporter": "python",
   "pygments_lexer": "ipython3",
   "version": "3.7.0"
  }
 },
 "nbformat": 4,
 "nbformat_minor": 2
}

{
 "cells": [
  {
   "cell_type": "markdown",
   "metadata": {
    "slideshow": {
     "slide_type": "slide"
    }
   },
   "source": [
    "## SES494 Exploring Data with Python\n",
    "\n",
    "## SES598 Python for Graduate Research\n",
    "\n",
    "\n",
    "\n",
    "Instructor: Prof. Mingming Li\n",
    "\n",
    "TA: Alexandra Pye"
   ]
  },
  {
   "cell_type": "markdown",
   "metadata": {
    "slideshow": {
     "slide_type": "slide"
    }
   },
   "source": [
    "# Instructor - Mingming Li\n",
    "\n",
    "- Geophysics, Geodynamics, Numerical modeling\n",
    "- Email: Mingming.Li@asu.edu\n",
    "- Office: ISTB4-579\n"
   ]
  },
  {
   "cell_type": "markdown",
   "metadata": {},
   "source": [
    "# Teaching assistant\n",
    "- Alexandra Pye\n",
    "- Email:  Alexandra.Pye@asu.edu \n",
    "- Office:"
   ]
  },
  {
   "cell_type": "markdown",
   "metadata": {
    "slideshow": {
     "slide_type": "slide"
    }
   },
   "source": [
    "# Syllabus (handout syllabus)"
   ]
  },
  {
   "cell_type": "markdown",
   "metadata": {},
   "source": [
    "# Lecture time and place\n",
    "- Tuesday, Thursday 10:30-11:45 am\n",
    "\n",
    "- Room PSH 461\n",
    "\n",
    "- Attending lecture is mandatory. The only exception is if you provide advanced notice that you cannot attend due to research-related reasons, religious practices, or university sanctioned events.\n"
   ]
  },
  {
   "cell_type": "markdown",
   "metadata": {
    "slideshow": {
     "slide_type": "slide"
    }
   },
   "source": [
    "## * We learn coding as a tool to understand data.  \n",
    "\n",
    "## * This course is not a computer science course."
   ]
  },
  {
   "cell_type": "markdown",
   "metadata": {
    "slideshow": {
     "slide_type": "slide"
    }
   },
   "source": [
    "# Class\n",
    "\n",
    "- Class will be interactive.  \n",
    "\n",
    "- We will do a lot of coding during class and lab.\n",
    "\n",
    "- During in-class coding exercises, the instructor and TA will go around and help.\n",
    "\n",
    "- Creative approaches are always welcome.\n",
    "\n",
    "- For in-class coding exercises, you are encouraged to help each other."
   ]
  },
  {
   "cell_type": "markdown",
   "metadata": {
    "slideshow": {
     "slide_type": "slide"
    }
   },
   "source": [
    "# Computers\n",
    "\n",
    "- You can bring and use your own laptop computer in the classroom.\n",
    "\n",
    "- We have 16 desktops available in this room for students and we have more students.\n",
    "\n",
    "- We need at least 9 students who can bring their laptops.\n",
    "\n",
    "- Do not save your personal information (including password) in the classroom computers."
   ]
  },
  {
   "cell_type": "markdown",
   "metadata": {
    "slideshow": {
     "slide_type": "slide"
    }
   },
   "source": [
    "# Audits\n",
    "\n",
    "- Limited number of computers available in the classroom and the priority will go to the registered student.\n",
    "\n",
    "- Room capacity, fire code.  \n",
    "\n",
    "- Auditing students can still learn python through the Anaconda installation.  We will install Anaconda together on Thursday.\n",
    "\n",
    "- Coding experience."
   ]
  },
  {
   "cell_type": "markdown",
   "metadata": {
    "slideshow": {
     "slide_type": "slide"
    }
   },
   "source": [
    "# This Thursday -- Bring your laptop\n",
    "\n",
    "- We will help you to install python (Anaconda) on Thursday in week 1.\n",
    "\n",
    "- Even if you decide to use the desktop computers in the classroom, please bring your laptop on Thursday.\n",
    "\n",
    "- Anaconda is the most popular Python data science platform"
   ]
  }
 ],
 "metadata": {
  "anaconda-cloud": {},
  "celltoolbar": "Slideshow",
  "kernelspec": {
   "display_name": "Python 3",
   "language": "python",
   "name": "python3"
  },
  "language_info": {
   "codemirror_mode": {
    "name": "ipython",
    "version": 3
   },
   "file_extension": ".py",
   "mimetype": "text/x-python",
   "name": "python",
   "nbconvert_exporter": "python",
   "pygments_lexer": "ipython3",
   "version": "3.7.0"
  },
  "latex_envs": {
   "bibliofile": "biblio.bib",
   "cite_by": "apalike",
   "current_citInitial": 1,
   "eqLabelWithNumbers": true,
   "eqNumInitial": 0
  },
  "livereveal": {
   "height": "720",
   "scroll": "True",
   "start_slideshow_at": "selected",
   "theme": "white",
   "transition": "none",
   "width": "1280"
  },
  "nbpresent": {
   "slides": {
    "0a67a003-a391-40a4-9a75-0be700ae1945": {
     "id": "0a67a003-a391-40a4-9a75-0be700ae1945",
     "prev": "b5f69939-53d6-41d7-a7e6-23942c94efa0",
     "regions": {
      "da7fe5ce-e03a-4bd0-a79c-240fbcbcdb7a": {
       "attrs": {
        "height": 0.8,
        "width": 0.8,
        "x": 0.1,
        "y": 0.1
       },
       "content": {
        "cell": "2197b5a1-cc40-44ae-9158-73ccf33660a7",
        "part": "whole"
       },
       "id": "da7fe5ce-e03a-4bd0-a79c-240fbcbcdb7a"
      }
     }
    },
    "2c1842dc-8f9f-408f-be20-83298db80dcc": {
     "id": "2c1842dc-8f9f-408f-be20-83298db80dcc",
     "prev": "dc7be06e-039c-4c64-98cf-c3fd1a2add30",
     "regions": {
      "127c1719-a726-4673-81cb-a7e8c9b97d22": {
       "attrs": {
        "height": 0.8,
        "width": 0.8,
        "x": 0.1,
        "y": 0.1
       },
       "content": {
        "cell": "0f25fb42-609a-496c-bc9f-7b941df6e4dc",
        "part": "whole"
       },
       "id": "127c1719-a726-4673-81cb-a7e8c9b97d22"
      }
     }
    },
    "680b4891-1886-44a6-9a26-3173950fc5be": {
     "id": "680b4891-1886-44a6-9a26-3173950fc5be",
     "prev": "2c1842dc-8f9f-408f-be20-83298db80dcc",
     "regions": {
      "25287fe3-2e3c-459e-bd2e-1ada05227c08": {
       "attrs": {
        "height": 0.8,
        "width": 0.8,
        "x": 0.1,
        "y": 0.1
       },
       "content": {
        "cell": "8a29eef4-b703-4984-97a3-3943cf25bf36",
        "part": "whole"
       },
       "id": "25287fe3-2e3c-459e-bd2e-1ada05227c08"
      },
      "4a9822c4-11ce-465a-b718-54a32ece6746": {
       "attrs": {
        "height": 0.4,
        "width": 0.8,
        "x": 0.1,
        "y": 0.5
       },
       "content": {
        "cell": "ce480587-4539-4040-9c39-98ca273965b4",
        "part": "whole"
       },
       "id": "4a9822c4-11ce-465a-b718-54a32ece6746"
      }
     }
    },
    "8911a1a6-8a60-4c07-8185-91e06293e42d": {
     "id": "8911a1a6-8a60-4c07-8185-91e06293e42d",
     "prev": "0a67a003-a391-40a4-9a75-0be700ae1945",
     "regions": {
      "129710c2-bed4-472b-aead-d45e967efbf2": {
       "attrs": {
        "height": 0.8,
        "width": 0.8,
        "x": 0.1,
        "y": 0.1
       },
       "content": {
        "cell": "770a562a-1638-4e14-82d2-57999cb876b2",
        "part": "whole"
       },
       "id": "129710c2-bed4-472b-aead-d45e967efbf2"
      }
     }
    },
    "b5f69939-53d6-41d7-a7e6-23942c94efa0": {
     "id": "b5f69939-53d6-41d7-a7e6-23942c94efa0",
     "prev": null,
     "regions": {
      "f7c52ec8-980d-4169-82b9-50fdd8817434": {
       "attrs": {
        "height": 0.8,
        "width": 0.8,
        "x": 0.1,
        "y": 0.1
       },
       "content": {
        "cell": "dffca9ec-74df-41d4-a4fa-a499729f262b",
        "part": "whole"
       },
       "id": "f7c52ec8-980d-4169-82b9-50fdd8817434"
      }
     }
    },
    "dc7be06e-039c-4c64-98cf-c3fd1a2add30": {
     "id": "dc7be06e-039c-4c64-98cf-c3fd1a2add30",
     "prev": "8911a1a6-8a60-4c07-8185-91e06293e42d",
     "regions": {
      "ba142a16-ad21-4c96-bd8d-3c578164b882": {
       "attrs": {
        "height": 0.8,
        "width": 0.8,
        "x": 0.1,
        "y": 0.1
       },
       "content": {
        "cell": "428b57b8-6a3f-41bc-a607-a5cb1b005bc3",
        "part": "whole"
       },
       "id": "ba142a16-ad21-4c96-bd8d-3c578164b882"
      }
     }
    }
   },
   "themes": {
    "default": "94c91476-ab92-4793-8b73-1a21ed51b3fa",
    "theme": {}
   }
  }
 },
 "nbformat": 4,
 "nbformat_minor": 2
}

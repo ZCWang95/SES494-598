{
 "cells": [
  {
   "cell_type": "markdown",
   "metadata": {
    "slideshow": {
     "slide_type": "slide"
    }
   },
   "source": [
    "# Modules"
   ]
  },
  {
   "cell_type": "markdown",
   "metadata": {
    "slideshow": {
     "slide_type": "slide"
    }
   },
   "source": [
    "## Python Modules\n",
    "\n",
    "- The Python computer language consists of a \"core\" language plus supplementary software in **modules**.\n",
    "\n",
    "- Some modules come with the standard Python distribution. \n",
    "\n",
    "- Other modules provide more specialized capabilities that not every user may want. "
   ]
  },
  {
   "cell_type": "markdown",
   "metadata": {
    "slideshow": {
     "slide_type": "slide"
    }
   },
   "source": [
    "## NumPy\n",
    "\n",
    "- A standard Python package for scientific computing.\n",
    "\n",
    "- `array` data structure\n",
    "\n",
    "- Tools for indexing, sorting, logical operations, and element-by-element arithmetic operations.\n",
    "\n",
    "- Basic functions of trigonometry, exponentials, and logarithms.\n",
    "\n",
    "- Special functions (Bessel functions, *etc.*), statistical functions, and random number generators. \n",
    "\n",
    "- Linear algebra routines."
   ]
  },
  {
   "cell_type": "markdown",
   "metadata": {
    "slideshow": {
     "slide_type": "slide"
    }
   },
   "source": [
    "## SciPy\n",
    "\n",
    "- Mathematical functions and numerical routines for Python. \n",
    "\n",
    "- Works closely with Numpy\n",
    "\n",
    "- Python \"wrappers\" for numerical software written in other languages."
   ]
  },
  {
   "cell_type": "markdown",
   "metadata": {
    "slideshow": {
     "slide_type": "slide"
    }
   },
   "source": [
    "## MatPlotLib\n",
    "\n",
    "- 2D and 3D plots\n",
    "\n",
    "- Makes extensive use of NumPy arrays. "
   ]
  },
  {
   "cell_type": "markdown",
   "metadata": {
    "slideshow": {
     "slide_type": "slide"
    }
   },
   "source": [
    "# Functions"
   ]
  },
  {
   "cell_type": "markdown",
   "metadata": {
    "slideshow": {
     "slide_type": "slide"
    }
   },
   "source": [
    "## Python functions: a first look\n",
    "\n",
    "- Similar to a mathematical function. \n",
    "\n",
    "- Consists of a name and one or more arguments contained inside parentheses, and it produces some output. \n"
   ]
  },
  {
   "cell_type": "markdown",
   "metadata": {
    "slideshow": {
     "slide_type": "slide"
    }
   },
   "source": [
    "For example, the NumPy function `sin(x)` calculates the sine of the number `x` (where `x` is expressed in\n",
    "radians).\n"
   ]
  },
  {
   "cell_type": "code",
   "execution_count": 1,
   "metadata": {
    "slideshow": {
     "slide_type": "fragment"
    }
   },
   "outputs": [],
   "source": [
    "import numpy as np"
   ]
  },
  {
   "cell_type": "code",
   "execution_count": 3,
   "metadata": {
    "slideshow": {
     "slide_type": "fragment"
    }
   },
   "outputs": [
    {
     "data": {
      "text/plain": [
       "0.47942553860420301"
      ]
     },
     "execution_count": 3,
     "metadata": {},
     "output_type": "execute_result"
    }
   ],
   "source": [
    "np.sin(0.5)"
   ]
  },
  {
   "cell_type": "markdown",
   "metadata": {
    "slideshow": {
     "slide_type": "slide"
    }
   },
   "source": [
    "The argument of the function can be a number or any kind of expression whose output produces a number. \n",
    "\n",
    "All of the following expressions are legal and produce the expected output:"
   ]
  },
  {
   "cell_type": "code",
   "execution_count": 4,
   "metadata": {
    "slideshow": {
     "slide_type": "fragment"
    }
   },
   "outputs": [
    {
     "data": {
      "text/plain": [
       "-0.73516668638531424"
      ]
     },
     "execution_count": 4,
     "metadata": {},
     "output_type": "execute_result"
    }
   ],
   "source": [
    "np.log(np.sin(0.5))"
   ]
  },
  {
   "cell_type": "code",
   "execution_count": 5,
   "metadata": {
    "slideshow": {
     "slide_type": "fragment"
    }
   },
   "outputs": [
    {
     "data": {
      "text/plain": [
       "0.39165386283471759"
      ]
     },
     "execution_count": 5,
     "metadata": {},
     "output_type": "execute_result"
    }
   ],
   "source": [
    "np.log(np.sin(0.5) + 1.0)"
   ]
  },
  {
   "cell_type": "code",
   "execution_count": 6,
   "metadata": {
    "slideshow": {
     "slide_type": "fragment"
    }
   },
   "outputs": [
    {
     "data": {
      "text/plain": [
       "1.5224265354444708"
      ]
     },
     "execution_count": 6,
     "metadata": {},
     "output_type": "execute_result"
    }
   ],
   "source": [
    "np.log(5.5/1.2)"
   ]
  },
  {
   "cell_type": "markdown",
   "metadata": {
    "slideshow": {
     "slide_type": "slide"
    }
   },
   "source": [
    "## Some NumPy functions\n",
    "\n",
    "<table>\n",
    "<colgroup>\n",
    "<col style=\"width: 22%\" />\n",
    "<col style=\"width: 77%\" />\n",
    "</colgroup>\n",
    "<thead>\n",
    "<tr class=\"header\">\n",
    "<th><strong>Function</strong></th>\n",
    "<th><strong>Description</strong></th>\n",
    "</tr>\n",
    "</thead>\n",
    "<tbody>\n",
    "<tr class=\"odd\">\n",
    "<td><code>sqrt(x)</code></td>\n",
    "<td>Square root of <span class=\"math inline\"><em>x</em></span></td>\n",
    "</tr>\n",
    "<tr class=\"even\">\n",
    "<td><code>exp(x)</code></td>\n",
    "<td>Exponential of x, <em>i.e.</em> <span class=\"math inline\"><em>e</em><sup><em>x</em></sup></span></td>\n",
    "</tr>\n",
    "<tr class=\"odd\">\n",
    "<td><code>log(x)</code></td>\n",
    "<td>Natural log of x, <em>i.e.</em> <span class=\"math inline\">ln <em>x</em></span></td>\n",
    "</tr>\n",
    "<tr class=\"even\">\n",
    "<td><code>log10(x)</code></td>\n",
    "<td>Base 10 log of <span class=\"math inline\"><em>x</em></span></td>\n",
    "</tr>\n",
    "<tr class=\"odd\">\n",
    "<td><code>degrees(x)</code></td>\n",
    "<td>Converts <span class=\"math inline\"><em>x</em></span> from radians to degrees</td>\n",
    "</tr>\n",
    "<tr class=\"even\">\n",
    "<td><code>radians(x)</code></td>\n",
    "<td>Converts <span class=\"math inline\"><em>x</em></span> from degrees to radians</td>\n",
    "</tr>\n",
    "<tr class=\"odd\">\n",
    "<td><code>sin(x)</code></td>\n",
    "<td>Sine of <span class=\"math inline\"><em>x</em></span> (<span class=\"math inline\"><em>x</em></span> in radians)</td>\n",
    "</tr>\n",
    "<tr class=\"even\">\n",
    "<td><code>cos(x)</code></td>\n",
    "<td>Cosine <span class=\"math inline\"><em>x</em></span> (<span class=\"math inline\"><em>x</em></span> in radians)</td>\n",
    "</tr>\n",
    "<tr class=\"odd\">\n",
    "<td><code>tan(x)</code></td>\n",
    "<td>Tangent <span class=\"math inline\"><em>x</em></span> (<span class=\"math inline\"><em>x</em></span> in radians)</td>\n",
    "</tr>\n",
    "<tr class=\"even\">\n",
    "<td><code>arcsin(x)</code></td>\n",
    "<td>Arc sine (in radians) of <span class=\"math inline\"><em>x</em></span></td>\n",
    "</tr>\n",
    "<tr class=\"odd\">\n",
    "<td><code>arccos(x)</code></td>\n",
    "<td>Arc cosine (in radians) of <span class=\"math inline\"><em>x</em></span></td>\n",
    "</tr>\n",
    "<tr class=\"even\">\n",
    "<td><code>arctan(x)</code></td>\n",
    "<td>Arc tangent (in radians) of <span class=\"math inline\"><em>x</em></span></td>\n",
    "</tr>\n",
    "<tr class=\"odd\">\n",
    "<td><code>fabs(x)</code></td>\n",
    "<td>Absolute value of <span class=\"math inline\"><em>x</em></span></td>\n",
    "</tr>\n",
    "<tr class=\"even\">\n",
    "<td><code>round(x)</code></td>\n",
    "<td>Rounds a float to nearest integer</td>\n",
    "</tr>\n",
    "<tr class=\"odd\">\n",
    "<td><code>floor(x)</code></td>\n",
    "<td>Rounds a float <em>down</em> to nearest integer</td>\n",
    "</tr>\n",
    "<tr class=\"even\">\n",
    "<td><code>ceil(x)</code></td>\n",
    "<td>Rounds a float <em>up</em> to nearest integer</td>\n",
    "</tr>\n",
    "<tr class=\"odd\">\n",
    "<td><code>sign(x)</code></td>\n",
    "<td>-1 if <span class=\"math inline\"><em>x</em> &lt; 0</span>, +1 if <span class=\"math inline\"><em>x</em> &gt; 0</span>, 0 if <span class=\"math inline\"><em>x</em> = 0</span></td>\n",
    "</tr>\n",
    "</tbody>\n",
    "</table>\n"
   ]
  },
  {
   "cell_type": "markdown",
   "metadata": {
    "slideshow": {
     "slide_type": "slide"
    }
   },
   "source": [
    "## Keyword arguments\n",
    "\n",
    "- In addition to regular arguments, Python functions can have keyword arguments (`kwargs`). \n",
    "\n",
    "- Keyword arguments are *optional* arguments that need not be specified when a function is called. \n"
   ]
  },
  {
   "cell_type": "markdown",
   "metadata": {
    "slideshow": {
     "slide_type": "slide"
    }
   },
   "source": [
    "# Variables"
   ]
  },
  {
   "cell_type": "markdown",
   "metadata": {
    "slideshow": {
     "slide_type": "slide"
    }
   },
   "source": [
    "## Names and the assignment operator\n",
    "\n",
    "- A variable is a name that is used to store data. \n",
    "\n",
    "- It can be used to store different kinds of data"
   ]
  },
  {
   "cell_type": "code",
   "execution_count": 7,
   "metadata": {
    "slideshow": {
     "slide_type": "slide"
    }
   },
   "outputs": [
    {
     "data": {
      "text/plain": [
       "23"
      ]
     },
     "execution_count": 7,
     "metadata": {},
     "output_type": "execute_result"
    }
   ],
   "source": [
    "a = 23\n",
    "a"
   ]
  },
  {
   "cell_type": "markdown",
   "metadata": {
    "slideshow": {
     "slide_type": "fragment"
    }
   },
   "source": [
    "The equal sign \"`=`\" is the *assignment operator*. \n",
    "\n",
    "The name of a variable, such as `a`, is associated with a *memory location* in your computer;\n",
    "the assignment variable tells the computer to put a particular piece of data, in this case a numerical value, in that memory location."
   ]
  },
  {
   "cell_type": "code",
   "execution_count": 11,
   "metadata": {
    "slideshow": {
     "slide_type": "slide"
    }
   },
   "outputs": [
    {
     "data": {
      "text/plain": [
       "(83.4, 1.4142135623730951)"
      ]
     },
     "execution_count": 11,
     "metadata": {},
     "output_type": "execute_result"
    }
   ],
   "source": [
    "p, q = 83.4, np.sqrt(2)\n",
    "p, q"
   ]
  },
  {
   "cell_type": "markdown",
   "metadata": {
    "slideshow": {
     "slide_type": "fragment"
    }
   },
   "source": [
    "Python stores the *numerical value*, not the expression used to generate it. \n",
    "\n",
    "Thus, `q` is assigned the 17-digit number 1.4142135623730951 generated by evaluating the expression `sqrt(2)`, *not* with $\\sqrt{2}$.\n",
    "\n",
    "Actually the value of `q` is stored as a binary, base 2, number using scientific notation with a mantissa and an exponent."
   ]
  },
  {
   "cell_type": "code",
   "execution_count": 12,
   "metadata": {
    "slideshow": {
     "slide_type": "slide"
    }
   },
   "outputs": [],
   "source": [
    "a = 23"
   ]
  },
  {
   "cell_type": "code",
   "execution_count": 14,
   "metadata": {
    "slideshow": {
     "slide_type": "fragment"
    }
   },
   "outputs": [],
   "source": [
    "b = a"
   ]
  },
  {
   "cell_type": "code",
   "execution_count": 15,
   "metadata": {
    "slideshow": {
     "slide_type": "fragment"
    }
   },
   "outputs": [
    {
     "data": {
      "text/plain": [
       "(23, 23)"
      ]
     },
     "execution_count": 15,
     "metadata": {},
     "output_type": "execute_result"
    }
   ],
   "source": [
    "a, b"
   ]
  },
  {
   "cell_type": "code",
   "execution_count": 16,
   "metadata": {
    "slideshow": {
     "slide_type": "slide"
    }
   },
   "outputs": [],
   "source": [
    "a = 12"
   ]
  },
  {
   "cell_type": "code",
   "execution_count": 18,
   "metadata": {
    "slideshow": {
     "slide_type": "fragment"
    }
   },
   "outputs": [
    {
     "data": {
      "text/plain": [
       "(12, 23)"
      ]
     },
     "execution_count": 18,
     "metadata": {},
     "output_type": "execute_result"
    }
   ],
   "source": [
    "a, b"
   ]
  },
  {
   "cell_type": "markdown",
   "metadata": {
    "slideshow": {
     "slide_type": "fragment"
    }
   },
   "source": [
    "In this case Python associates a new memory location with the name `b`,\n",
    "distinct from the one associated with `a`, and sets the value stored at\n",
    "that memory location to 23, the value of `a`. "
   ]
  },
  {
   "cell_type": "markdown",
   "metadata": {
    "slideshow": {
     "slide_type": "slide"
    }
   },
   "source": [
    "The assignment variable works from right to left; that is, it assigns the value of the number on the right to the variable name on the left.\n",
    "\n",
    "Therefore, the statement \"`5 = a`\" makes no sense in Python. \n",
    "\n",
    "The assignment operator \"`=`\" in Python is not equivalent to the equals sign \"$=$\" we are accustomed to in algebra."
   ]
  },
  {
   "cell_type": "markdown",
   "metadata": {
    "slideshow": {
     "slide_type": "slide"
    }
   },
   "source": [
    "The assignment operator can be used to increment or change the value of a variable"
   ]
  },
  {
   "cell_type": "code",
   "execution_count": 19,
   "metadata": {
    "slideshow": {
     "slide_type": "fragment"
    }
   },
   "outputs": [
    {
     "data": {
      "text/plain": [
       "23"
      ]
     },
     "execution_count": 19,
     "metadata": {},
     "output_type": "execute_result"
    }
   ],
   "source": [
    "b"
   ]
  },
  {
   "cell_type": "code",
   "execution_count": 20,
   "metadata": {
    "slideshow": {
     "slide_type": "fragment"
    }
   },
   "outputs": [],
   "source": [
    "b = b + 1"
   ]
  },
  {
   "cell_type": "code",
   "execution_count": 21,
   "metadata": {
    "slideshow": {
     "slide_type": "fragment"
    }
   },
   "outputs": [
    {
     "data": {
      "text/plain": [
       "24"
      ]
     },
     "execution_count": 21,
     "metadata": {},
     "output_type": "execute_result"
    }
   ],
   "source": [
    "b"
   ]
  },
  {
   "cell_type": "markdown",
   "metadata": {
    "slideshow": {
     "slide_type": "slide"
    }
   },
   "source": [
    "This construction appears so often in computer programming that there is a special set of operators to perform such changes to a variable: `+=`, `-=`, `*=`, and `/=`. "
   ]
  },
  {
   "cell_type": "code",
   "execution_count": 26,
   "metadata": {
    "slideshow": {
     "slide_type": "fragment"
    }
   },
   "outputs": [],
   "source": [
    "c, d = 4, 7.92"
   ]
  },
  {
   "cell_type": "code",
   "execution_count": 36,
   "metadata": {
    "slideshow": {
     "slide_type": "fragment"
    }
   },
   "outputs": [],
   "source": [
    "c += 2"
   ]
  },
  {
   "cell_type": "code",
   "execution_count": 37,
   "metadata": {
    "slideshow": {
     "slide_type": "fragment"
    }
   },
   "outputs": [
    {
     "data": {
      "text/plain": [
       "16"
      ]
     },
     "execution_count": 37,
     "metadata": {},
     "output_type": "execute_result"
    }
   ],
   "source": [
    "c"
   ]
  },
  {
   "cell_type": "code",
   "execution_count": 52,
   "metadata": {
    "slideshow": {
     "slide_type": "slide"
    }
   },
   "outputs": [],
   "source": [
    "c *= 3"
   ]
  },
  {
   "cell_type": "code",
   "execution_count": 53,
   "metadata": {
    "slideshow": {
     "slide_type": "fragment"
    }
   },
   "outputs": [
    {
     "data": {
      "text/plain": [
       "104976"
      ]
     },
     "execution_count": 53,
     "metadata": {},
     "output_type": "execute_result"
    }
   ],
   "source": [
    "c"
   ]
  },
  {
   "cell_type": "code",
   "execution_count": 67,
   "metadata": {
    "slideshow": {
     "slide_type": "slide"
    }
   },
   "outputs": [],
   "source": [
    "d /= -2"
   ]
  },
  {
   "cell_type": "code",
   "execution_count": 68,
   "metadata": {
    "slideshow": {
     "slide_type": "fragment"
    }
   },
   "outputs": [
    {
     "data": {
      "text/plain": [
       "0.0309375"
      ]
     },
     "execution_count": 68,
     "metadata": {},
     "output_type": "execute_result"
    }
   ],
   "source": [
    "d"
   ]
  },
  {
   "cell_type": "code",
   "execution_count": 78,
   "metadata": {
    "slideshow": {
     "slide_type": "slide"
    }
   },
   "outputs": [],
   "source": [
    "d -= 4"
   ]
  },
  {
   "cell_type": "code",
   "execution_count": 79,
   "metadata": {
    "slideshow": {
     "slide_type": "fragment"
    }
   },
   "outputs": [
    {
     "data": {
      "text/plain": [
       "-23.9690625"
      ]
     },
     "execution_count": 79,
     "metadata": {},
     "output_type": "execute_result"
    }
   ],
   "source": [
    "d"
   ]
  },
  {
   "cell_type": "markdown",
   "metadata": {
    "slideshow": {
     "slide_type": "slide"
    }
   },
   "source": [
    "## Legal and recommended variable names\n",
    "\n",
    "Variable names in Python must start with a letter, and can be followed by as many alphanumeric characters as you like. \n",
    "\n",
    "Spaces are not allowed in variable names. \n",
    "\n",
    "The underscore character \"`_`\" is allowed, but no other character that is not a letter or a number is permitted.\n",
    "\n",
    "Python is *case sensitive*, so the variable `a` is distinct from the variable `A`.\n",
    "\n",
    "We recommend giving your variables descriptive names."
   ]
  },
  {
   "cell_type": "code",
   "execution_count": 81,
   "metadata": {
    "slideshow": {
     "slide_type": "slide"
    }
   },
   "outputs": [],
   "source": [
    "distance = 34."
   ]
  },
  {
   "cell_type": "code",
   "execution_count": 82,
   "metadata": {
    "slideshow": {
     "slide_type": "fragment"
    }
   },
   "outputs": [],
   "source": [
    "time_traveled = 0.59"
   ]
  },
  {
   "cell_type": "code",
   "execution_count": 84,
   "metadata": {
    "slideshow": {
     "slide_type": "fragment"
    }
   },
   "outputs": [],
   "source": [
    "velocity = distance / time_traveled"
   ]
  },
  {
   "cell_type": "code",
   "execution_count": 85,
   "metadata": {
    "slideshow": {
     "slide_type": "fragment"
    }
   },
   "outputs": [
    {
     "data": {
      "text/plain": [
       "57.6271186440678"
      ]
     },
     "execution_count": 85,
     "metadata": {},
     "output_type": "execute_result"
    }
   ],
   "source": [
    "velocity"
   ]
  },
  {
   "cell_type": "markdown",
   "metadata": {
    "slideshow": {
     "slide_type": "fragment"
    }
   },
   "source": [
    "Readable!"
   ]
  },
  {
   "cell_type": "markdown",
   "metadata": {
    "slideshow": {
     "slide_type": "slide"
    }
   },
   "source": [
    "## Reserved words in Python\n",
    "\n",
    "<table style=\"width:81%;\">\n",
    "<colgroup>\n",
    "<col style=\"width: 18%\" />\n",
    "<col style=\"width: 16%\" />\n",
    "<col style=\"width: 15%\" />\n",
    "<col style=\"width: 15%\" />\n",
    "<col style=\"width: 15%\" />\n",
    "</colgroup>\n",
    "<tbody>\n",
    "<tr class=\"odd\">\n",
    "<td><code>and</code></td>\n",
    "<td><code>del</code></td>\n",
    "<td><code>from</code></td>\n",
    "<td><code>not</code></td>\n",
    "<td><code>while</code></td>\n",
    "</tr>\n",
    "<tr class=\"even\">\n",
    "<td><code>as</code></td>\n",
    "<td><code>elif</code></td>\n",
    "<td><code>global</code></td>\n",
    "<td><code>or</code></td>\n",
    "<td><code>with</code></td>\n",
    "</tr>\n",
    "<tr class=\"odd\">\n",
    "<td><code>assert</code></td>\n",
    "<td><code>else</code></td>\n",
    "<td><code>if</code></td>\n",
    "<td><code>pass</code></td>\n",
    "<td><code>yield</code></td>\n",
    "</tr>\n",
    "<tr class=\"even\">\n",
    "<td><code>break</code></td>\n",
    "<td><code>except</code></td>\n",
    "<td><code>import</code></td>\n",
    "<td><code>print</code></td>\n",
    "<td></td>\n",
    "</tr>\n",
    "<tr class=\"odd\">\n",
    "<td><code>class</code></td>\n",
    "<td><code>exec</code></td>\n",
    "<td><code>in</code></td>\n",
    "<td><code>raise</code></td>\n",
    "<td></td>\n",
    "</tr>\n",
    "<tr class=\"even\">\n",
    "<td><code>continue</code></td>\n",
    "<td><code>finally</code></td>\n",
    "<td><code>is</code></td>\n",
    "<td><code>return</code></td>\n",
    "<td></td>\n",
    "</tr>\n",
    "<tr class=\"odd\">\n",
    "<td><code>def</code></td>\n",
    "<td><code>for</code></td>\n",
    "<td><code>lambda</code></td>\n",
    "<td><code>try</code></td>\n",
    "<td></td>\n",
    "</tr>\n",
    "</tbody>\n",
    "</table>\n",
    "\n",
    "In addition, you should not use function names, like `sin`, `cos`, and `sqrt`, defined in the SciPy, NumPy, or any other library that you are using.\n",
    "\n"
   ]
  },
  {
   "cell_type": "markdown",
   "metadata": {
    "slideshow": {
     "slide_type": "slide"
    }
   },
   "source": [
    "## Scripts and programs\n",
    "\n",
    "The sequence of commands is called a *script* or a *program* or sometimes a *routine*.\n",
    "\n",
    "While you need a text editor to make a script for python and ipython, in Jupyter notebook you do not need any separate tools."
   ]
  },
  {
   "cell_type": "markdown",
   "metadata": {
    "slideshow": {
     "slide_type": "slide"
    }
   },
   "source": [
    "## Scripting Example 1\n",
    "\n",
    "Suppose you are going on a road trip and you would like to estimate how long the drive will take, how much gas you will need, and the cost of the gas. As inputs, you will need the distance of the trip, your average speed, the cost of gasoline, and the mileage of your car."
   ]
  },
  {
   "cell_type": "code",
   "execution_count": 90,
   "metadata": {
    "slideshow": {
     "slide_type": "fragment"
    }
   },
   "outputs": [],
   "source": [
    "distance = 400. # miles \n",
    "mpg = 30. # car mileage \n",
    "speed = 60. #average speed \n",
    "costPerGallon = 4.10 # price of gas\n",
    "\n",
    "time = distance / speed \n",
    "gallons = distance / mpg \n",
    "cost = gallons * costPerGallon"
   ]
  },
  {
   "cell_type": "markdown",
   "metadata": {
    "slideshow": {
     "slide_type": "slide"
    }
   },
   "source": [
    "The number (or hash) symbol `#` is the \"comment\" character in Python.\n",
    "\n",
    "Anything on a line following `#` is ignored when the code is executed.\n",
    "\n",
    "Python ignores blank spaces or \"white space\" as it is sometimes called."
   ]
  },
  {
   "cell_type": "markdown",
   "metadata": {
    "slideshow": {
     "slide_type": "slide"
    }
   },
   "source": [
    "Once you have run the script, you can see the values of the variables calculated in the script simply by typing the name of the variable."
   ]
  },
  {
   "cell_type": "code",
   "execution_count": 91,
   "metadata": {
    "slideshow": {
     "slide_type": "fragment"
    }
   },
   "outputs": [
    {
     "data": {
      "text/plain": [
       "6.666666666666667"
      ]
     },
     "execution_count": 91,
     "metadata": {},
     "output_type": "execute_result"
    }
   ],
   "source": [
    "time"
   ]
  },
  {
   "cell_type": "code",
   "execution_count": 92,
   "metadata": {
    "slideshow": {
     "slide_type": "fragment"
    }
   },
   "outputs": [
    {
     "data": {
      "text/plain": [
       "13.333333333333334"
      ]
     },
     "execution_count": 92,
     "metadata": {},
     "output_type": "execute_result"
    }
   ],
   "source": [
    "gallons"
   ]
  },
  {
   "cell_type": "code",
   "execution_count": 93,
   "metadata": {
    "slideshow": {
     "slide_type": "fragment"
    }
   },
   "outputs": [
    {
     "data": {
      "text/plain": [
       "54.666666666666664"
      ]
     },
     "execution_count": 93,
     "metadata": {},
     "output_type": "execute_result"
    }
   ],
   "source": [
    "cost"
   ]
  },
  {
   "cell_type": "markdown",
   "metadata": {
    "slideshow": {
     "slide_type": "slide"
    }
   },
   "source": [
    "You can change the number of digits IPython displays using the command\n",
    "`%precision` :"
   ]
  },
  {
   "cell_type": "code",
   "execution_count": 95,
   "metadata": {
    "slideshow": {
     "slide_type": "fragment"
    }
   },
   "outputs": [
    {
     "data": {
      "text/plain": [
       "'%.2f'"
      ]
     },
     "execution_count": 95,
     "metadata": {},
     "output_type": "execute_result"
    }
   ],
   "source": [
    "%precision 2"
   ]
  },
  {
   "cell_type": "code",
   "execution_count": 96,
   "metadata": {
    "slideshow": {
     "slide_type": "fragment"
    }
   },
   "outputs": [
    {
     "data": {
      "text/plain": [
       "6.67"
      ]
     },
     "execution_count": 96,
     "metadata": {},
     "output_type": "execute_result"
    }
   ],
   "source": [
    "time"
   ]
  },
  {
   "cell_type": "code",
   "execution_count": 97,
   "metadata": {
    "slideshow": {
     "slide_type": "fragment"
    }
   },
   "outputs": [
    {
     "data": {
      "text/plain": [
       "13.33"
      ]
     },
     "execution_count": 97,
     "metadata": {},
     "output_type": "execute_result"
    }
   ],
   "source": [
    "gallons"
   ]
  },
  {
   "cell_type": "code",
   "execution_count": 98,
   "metadata": {
    "slideshow": {
     "slide_type": "fragment"
    }
   },
   "outputs": [
    {
     "data": {
      "text/plain": [
       "54.67"
      ]
     },
     "execution_count": 98,
     "metadata": {},
     "output_type": "execute_result"
    }
   ],
   "source": [
    "cost"
   ]
  },
  {
   "cell_type": "markdown",
   "metadata": {
    "slideshow": {
     "slide_type": "slide"
    }
   },
   "source": [
    "Typing `%precision` returns to its default state.\n"
   ]
  },
  {
   "cell_type": "code",
   "execution_count": 99,
   "metadata": {
    "slideshow": {
     "slide_type": "fragment"
    }
   },
   "outputs": [
    {
     "data": {
      "text/plain": [
       "'%r'"
      ]
     },
     "execution_count": 99,
     "metadata": {},
     "output_type": "execute_result"
    }
   ],
   "source": [
    "%precision"
   ]
  },
  {
   "cell_type": "code",
   "execution_count": 100,
   "metadata": {
    "slideshow": {
     "slide_type": "fragment"
    }
   },
   "outputs": [
    {
     "data": {
      "text/plain": [
       "54.666666666666664"
      ]
     },
     "execution_count": 100,
     "metadata": {},
     "output_type": "execute_result"
    }
   ],
   "source": [
    "cost"
   ]
  },
  {
   "cell_type": "markdown",
   "metadata": {
    "slideshow": {
     "slide_type": "slide"
    }
   },
   "source": [
    "`%precision %e` causes to display numbers in exponential format\n",
    "(scientific notation)."
   ]
  },
  {
   "cell_type": "code",
   "execution_count": 101,
   "metadata": {
    "slideshow": {
     "slide_type": "fragment"
    }
   },
   "outputs": [
    {
     "data": {
      "text/plain": [
       "'%e'"
      ]
     },
     "execution_count": 101,
     "metadata": {},
     "output_type": "execute_result"
    }
   ],
   "source": [
    "%precision %e"
   ]
  },
  {
   "cell_type": "code",
   "execution_count": 102,
   "metadata": {
    "slideshow": {
     "slide_type": "fragment"
    }
   },
   "outputs": [
    {
     "data": {
      "text/plain": [
       "5.466667e+01"
      ]
     },
     "execution_count": 102,
     "metadata": {},
     "output_type": "execute_result"
    }
   ],
   "source": [
    "cost"
   ]
  },
  {
   "cell_type": "code",
   "execution_count": 103,
   "metadata": {
    "slideshow": {
     "slide_type": "fragment"
    }
   },
   "outputs": [
    {
     "data": {
      "text/plain": [
       "'%r'"
      ]
     },
     "execution_count": 103,
     "metadata": {},
     "output_type": "execute_result"
    }
   ],
   "source": [
    "%precision"
   ]
  },
  {
   "cell_type": "markdown",
   "metadata": {
    "slideshow": {
     "slide_type": "slide"
    }
   },
   "source": [
    "## Note about printing\n",
    "\n",
    "If you want your script to return the value of a variable (that is,\n",
    "print the value of the variable to your computer screen), use the\n",
    "`print` function. For example, at the end of our script, if we include\n",
    "the code"
   ]
  },
  {
   "cell_type": "code",
   "execution_count": null,
   "metadata": {
    "slideshow": {
     "slide_type": "fragment"
    }
   },
   "outputs": [],
   "source": [
    "print(time)"
   ]
  },
  {
   "cell_type": "code",
   "execution_count": null,
   "metadata": {
    "slideshow": {
     "slide_type": "fragment"
    }
   },
   "outputs": [],
   "source": [
    "print(gallons)"
   ]
  },
  {
   "cell_type": "code",
   "execution_count": null,
   "metadata": {
    "slideshow": {
     "slide_type": "fragment"
    }
   },
   "outputs": [],
   "source": [
    "print(cost)"
   ]
  },
  {
   "cell_type": "markdown",
   "metadata": {
    "slideshow": {
     "slide_type": "slide"
    }
   },
   "source": [
    "## Scripting Example 2\n",
    "\n",
    "Suppose you want to find the distance between two Cartesian coordinates $(x_1, y_1, z_1)$ and $(x_2, y_2, z_2)$. The\n",
    "distance is given by the formula\n",
    "\n",
    "$$\\Delta r = \\sqrt{(x_2-x_1)^2+(y_2-y_1)^2+(z_2-z_1)^2}$$\n",
    "\n",
    "Now let's write a script to do this calculation."
   ]
  },
  {
   "cell_type": "code",
   "execution_count": 1,
   "metadata": {
    "slideshow": {
     "slide_type": "slide"
    }
   },
   "outputs": [],
   "source": [
    "import numpy as np\n",
    "x1, y1, z1 = 23.7, -9.2, -7.8 \n",
    "x2, y2, z2 = -3.5, 4.8, 8.1"
   ]
  },
  {
   "cell_type": "code",
   "execution_count": 6,
   "metadata": {
    "slideshow": {
     "slide_type": "fragment"
    }
   },
   "outputs": [],
   "source": [
    "dr = np.sqrt( (x2 - x1)**2. + (y2 - y1)**2. + (z2 - z1)**2. )"
   ]
  },
  {
   "cell_type": "code",
   "execution_count": 5,
   "metadata": {
    "slideshow": {
     "slide_type": "fragment"
    }
   },
   "outputs": [
    {
     "data": {
      "text/plain": [
       "34.476803796175766"
      ]
     },
     "execution_count": 5,
     "metadata": {},
     "output_type": "execute_result"
    }
   ],
   "source": [
    "dr"
   ]
  },
  {
   "cell_type": "markdown",
   "metadata": {
    "slideshow": {
     "slide_type": "slide"
    }
   },
   "source": [
    "## Line continuation\n",
    "\n",
    "If a line of code in a script will be unusually long, it can make the code difficult to read. In such cases, it is advisable to split the code onto several lines. "
   ]
  },
  {
   "cell_type": "code",
   "execution_count": null,
   "metadata": {
    "slideshow": {
     "slide_type": "fragment"
    }
   },
   "outputs": [],
   "source": [
    "dr = np.sqrt( (x2-x1)**2 + \n",
    "             (y2-y1)**2  -   \n",
    "             (z2-z1)**2 )"
   ]
  },
  {
   "cell_type": "markdown",
   "metadata": {
    "slideshow": {
     "slide_type": "slide"
    }
   },
   "source": [
    "You can generally continue an expression on another line in Python for\n",
    "code that is within a function argument, as it is here where the line is\n",
    "split inside the argument of the square root function. \n",
    "\n",
    "Note that the\n",
    "sub-expressions written on different lines are lined up. This is done\n",
    "solely to improve readability; Python does not require it. \n",
    "\n",
    "As the whole point of splitting a line is to improve readability, it's\n",
    "best to line up expressions so as to maximize readability.\n",
    "\n",
    "You can split any Python line inside of parentheses, brackets, and\n",
    "braces, as illustrated above. "
   ]
  },
  {
   "cell_type": "markdown",
   "metadata": {
    "slideshow": {
     "slide_type": "slide"
    }
   },
   "source": [
    "You can split it other places as well by\n",
    "using the backslash (`\\`) character. "
   ]
  },
  {
   "cell_type": "code",
   "execution_count": null,
   "metadata": {
    "slideshow": {
     "slide_type": "fragment"
    }
   },
   "outputs": [],
   "source": [
    "a = 1 + 2 + \\\n",
    "    3 + 4"
   ]
  },
  {
   "cell_type": "markdown",
   "metadata": {
    "slideshow": {
     "slide_type": "fragment"
    }
   },
   "source": [
    "is equivalent to"
   ]
  },
  {
   "cell_type": "code",
   "execution_count": null,
   "metadata": {
    "slideshow": {
     "slide_type": "fragment"
    }
   },
   "outputs": [],
   "source": [
    "a = 1 + 2 + 3 + 4"
   ]
  },
  {
   "cell_type": "markdown",
   "metadata": {
    "slideshow": {
     "slide_type": "fragment"
    }
   },
   "source": [
    "So you can use backslash character (`\\`) of explicit line continuation\n",
    "when implicit line continuation won't work.\n"
   ]
  },
  {
   "cell_type": "markdown",
   "metadata": {
    "slideshow": {
     "slide_type": "slide"
    }
   },
   "source": [
    "## Importing Modules"
   ]
  },
  {
   "cell_type": "code",
   "execution_count": null,
   "metadata": {
    "slideshow": {
     "slide_type": "fragment"
    }
   },
   "outputs": [],
   "source": [
    "import numpy as np \n",
    "import matplotlib.pyplot as plt"
   ]
  },
  {
   "cell_type": "markdown",
   "metadata": {
    "slideshow": {
     "slide_type": "fragment"
    }
   },
   "source": [
    "These statements import the entire library named in the `import`\n",
    "statement and associate a prefix with the imported library: `np` and\n",
    "`plt` in the above examples. \n",
    "\n",
    "Functions from within these libraries are\n",
    "then called by attaching the appropriate prefix with a period *before*\n",
    "the function name. \n",
    "\n",
    "Thus, the functions `sqrt` or `sin` from the NumPy\n",
    "library are called using the syntax `np.sqrt` or `np.sin`.\n",
    "\n"
   ]
  },
  {
   "cell_type": "markdown",
   "metadata": {
    "slideshow": {
     "slide_type": "slide"
    }
   },
   "source": [
    "Alternatively, the NumPy and MatPlotLib libraries can be called simply\n",
    "by writing"
   ]
  },
  {
   "cell_type": "code",
   "execution_count": null,
   "metadata": {
    "slideshow": {
     "slide_type": "fragment"
    }
   },
   "outputs": [],
   "source": [
    "import numpy \n",
    "import matplotlib.pyplot"
   ]
  },
  {
   "cell_type": "markdown",
   "metadata": {
    "slideshow": {
     "slide_type": "fragment"
    }
   },
   "source": [
    "When loaded this way, the `sqrt` function would be called as\n",
    "`numpy.sqrt`. \n",
    "\n",
    "The `import as` syntax allows you to define nicknames for `numpy` and `maplotlib.pyplot`. \n",
    "\n",
    "Nearly any nickname can be chosen, but the Python community has settled on the nicknames `np` and\n",
    "`plt` for `numpy` and `maplotlib.pyplot`."
   ]
  },
  {
   "cell_type": "markdown",
   "metadata": {
    "slideshow": {
     "slide_type": "slide"
    }
   },
   "source": [
    "You can also import a single functions or subset of functions from a\n",
    "module without importing the entire module. For example, suppose you\n",
    "wanted to import just the natural log function `log` from NumPy. "
   ]
  },
  {
   "cell_type": "code",
   "execution_count": null,
   "metadata": {
    "slideshow": {
     "slide_type": "fragment"
    }
   },
   "outputs": [],
   "source": [
    "from numpy import log"
   ]
  },
  {
   "cell_type": "markdown",
   "metadata": {
    "slideshow": {
     "slide_type": "fragment"
    }
   },
   "source": [
    "To use the `log` function in a script, you would write"
   ]
  },
  {
   "cell_type": "code",
   "execution_count": null,
   "metadata": {
    "slideshow": {
     "slide_type": "fragment"
    }
   },
   "outputs": [],
   "source": [
    "a = log(5)"
   ]
  },
  {
   "cell_type": "markdown",
   "metadata": {
    "slideshow": {
     "slide_type": "fragment"
    }
   },
   "source": [
    "If you wanted to import the three functions, `log`, `sin`, and `cos`,\n",
    "you would write"
   ]
  },
  {
   "cell_type": "code",
   "execution_count": null,
   "metadata": {
    "slideshow": {
     "slide_type": "slide"
    }
   },
   "outputs": [],
   "source": [
    "from numpy import log, sin, cos"
   ]
  },
  {
   "cell_type": "markdown",
   "metadata": {
    "slideshow": {
     "slide_type": "fragment"
    }
   },
   "source": [
    "In general, we\n",
    "do not recommend using the the `from` *module* `import ...` way of\n",
    "importing functions. \n",
    "\n",
    "When reading code, it makes it harder to determine\n",
    "from which modules functions are imported, and can lead to clashes\n",
    "between similarly named functions from different modules. "
   ]
  },
  {
   "cell_type": "markdown",
   "metadata": {
    "slideshow": {
     "slide_type": "slide"
    }
   },
   "source": [
    "## Getting help"
   ]
  },
  {
   "cell_type": "code",
   "execution_count": null,
   "metadata": {
    "slideshow": {
     "slide_type": "fragment"
    }
   },
   "outputs": [],
   "source": [
    "help(np.sin)"
   ]
  }
 ],
 "metadata": {
  "celltoolbar": "Slideshow",
  "kernelspec": {
   "display_name": "Python 3",
   "language": "python",
   "name": "python3"
  },
  "language_info": {
   "codemirror_mode": {
    "name": "ipython",
    "version": 3
   },
   "file_extension": ".py",
   "mimetype": "text/x-python",
   "name": "python",
   "nbconvert_exporter": "python",
   "pygments_lexer": "ipython3",
   "version": "3.7.0"
  }
 },
 "nbformat": 4,
 "nbformat_minor": 2
}

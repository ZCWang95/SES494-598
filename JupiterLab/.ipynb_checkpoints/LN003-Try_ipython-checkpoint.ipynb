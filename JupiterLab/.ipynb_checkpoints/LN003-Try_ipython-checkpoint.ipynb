{
 "cells": [
  {
   "cell_type": "markdown",
   "metadata": {
    "slideshow": {
     "slide_type": "slide"
    }
   },
   "source": [
    "# IPython\n",
    "\n",
    "* An interactive shell\n",
    "\n",
    "* Much more user-friendly\n",
    "\n",
    "* Very useful for quick test of codes and small-scale calculations\n",
    "\n"
   ]
  },
  {
   "cell_type": "markdown",
   "metadata": {
    "slideshow": {
     "slide_type": "slide"
    }
   },
   "source": [
    "<img src=\"./figs/ipython.png\" width=\"600\">"
   ]
  },
  {
   "cell_type": "markdown",
   "metadata": {
    "slideshow": {
     "slide_type": "slide"
    }
   },
   "source": [
    "# Start ipython\n",
    "\n",
    "- In terminal:\n",
    "\n",
    "```bash\n",
    "$ ipython\n",
    "```"
   ]
  },
  {
   "cell_type": "markdown",
   "metadata": {
    "slideshow": {
     "slide_type": "slide"
    }
   },
   "source": [
    "# Try...\n",
    "\n",
    "```ipython\n",
    "In [1]: print(\"hello world\")\n",
    "\n",
    "In [2]: a = \"hello world\"\n",
    "\n",
    "In [3]: a\n",
    "\n",
    "In [4]: print(a)\n",
    "\n",
    "```"
   ]
  },
  {
   "cell_type": "markdown",
   "metadata": {
    "slideshow": {
     "slide_type": "slide"
    }
   },
   "source": [
    "# Try...\n",
    "\n",
    "```ipython\n",
    "\n",
    "In [1]: import numpy as np\n",
    "\n",
    "In [2]: x = np.linspace(0, 100, 101)\n",
    "\n",
    "In [3]: x\n",
    "\n",
    "In [4]: y = 0.5 * x + 10.\n",
    "\n",
    "In [5]: y\n",
    "```"
   ]
  }
 ],
 "metadata": {
  "celltoolbar": "Slideshow",
  "kernelspec": {
   "display_name": "Python 3",
   "language": "python",
   "name": "python3"
  },
  "language_info": {
   "codemirror_mode": {
    "name": "ipython",
    "version": 3
   },
   "file_extension": ".py",
   "mimetype": "text/x-python",
   "name": "python",
   "nbconvert_exporter": "python",
   "pygments_lexer": "ipython3",
   "version": "3.7.0"
  }
 },
 "nbformat": 4,
 "nbformat_minor": 2
}

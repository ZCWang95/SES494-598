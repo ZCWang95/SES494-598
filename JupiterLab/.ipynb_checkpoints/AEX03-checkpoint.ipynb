{
 "cells": [
  {
   "cell_type": "markdown",
   "metadata": {
    "slideshow": {
     "slide_type": "slide"
    }
   },
   "source": [
    "## Exercise 03"
   ]
  },
  {
   "cell_type": "markdown",
   "metadata": {
    "slideshow": {
     "slide_type": "slide"
    }
   },
   "source": [
    "__1.__ Create at array of 9 evenly spaced numbers going from 0 to 29 (inclusive) and give it the variable name `r`. "
   ]
  },
  {
   "cell_type": "code",
   "execution_count": 3,
   "metadata": {
    "slideshow": {
     "slide_type": "slide"
    }
   },
   "outputs": [
    {
     "data": {
      "text/plain": [
       "array([ 0.   ,  3.625,  7.25 , 10.875, 14.5  , 18.125, 21.75 , 25.375,\n",
       "       29.   ])"
      ]
     },
     "execution_count": 3,
     "metadata": {},
     "output_type": "execute_result"
    }
   ],
   "source": [
    "import numpy as np\n",
    "r = np.linspace(0, 29, 9)\n",
    "r"
   ]
  },
  {
   "cell_type": "code",
   "execution_count": 4,
   "metadata": {
    "slideshow": {
     "slide_type": "slide"
    }
   },
   "outputs": [
    {
     "data": {
      "text/plain": [
       "array([ 0.   ,  3.625,  7.25 , 10.875, 14.5  , 18.125, 21.75 , 25.375,\n",
       "       29.   ])"
      ]
     },
     "execution_count": 4,
     "metadata": {},
     "output_type": "execute_result"
    }
   ],
   "source": [
    "r"
   ]
  },
  {
   "cell_type": "markdown",
   "metadata": {
    "slideshow": {
     "slide_type": "fragment"
    }
   },
   "source": [
    "Find the square of each element of the array (as simply as possible). "
   ]
  },
  {
   "cell_type": "code",
   "execution_count": 5,
   "metadata": {
    "slideshow": {
     "slide_type": "fragment"
    }
   },
   "outputs": [
    {
     "data": {
      "text/plain": [
       "array([  0.      ,  13.140625,  52.5625  , 118.265625, 210.25    ,\n",
       "       328.515625, 473.0625  , 643.890625, 841.      ])"
      ]
     },
     "execution_count": 5,
     "metadata": {},
     "output_type": "execute_result"
    }
   ],
   "source": [
    "np.power(r, 2)\n",
    "rr = r * r\n",
    "rr"
   ]
  },
  {
   "cell_type": "code",
   "execution_count": 6,
   "metadata": {
    "slideshow": {
     "slide_type": "slide"
    }
   },
   "outputs": [
    {
     "data": {
      "text/plain": [
       "array([ 0.   ,  3.625,  7.25 , 10.875, 14.5  , 18.125, 21.75 , 25.375,\n",
       "       29.   ])"
      ]
     },
     "execution_count": 6,
     "metadata": {},
     "output_type": "execute_result"
    }
   ],
   "source": [
    "r"
   ]
  },
  {
   "cell_type": "markdown",
   "metadata": {
    "slideshow": {
     "slide_type": "fragment"
    }
   },
   "source": [
    "Find twice the value of each element of the array in two different ways: (*i*) using addition and (*ii*) using multiplication."
   ]
  },
  {
   "cell_type": "code",
   "execution_count": 7,
   "metadata": {
    "slideshow": {
     "slide_type": "fragment"
    }
   },
   "outputs": [
    {
     "data": {
      "text/plain": [
       "array([ 0.  ,  7.25, 14.5 , 21.75, 29.  , 36.25, 43.5 , 50.75, 58.  ])"
      ]
     },
     "execution_count": 7,
     "metadata": {},
     "output_type": "execute_result"
    }
   ],
   "source": [
    "r + r"
   ]
  },
  {
   "cell_type": "code",
   "execution_count": 8,
   "metadata": {
    "slideshow": {
     "slide_type": "fragment"
    }
   },
   "outputs": [
    {
     "data": {
      "text/plain": [
       "array([ 0.  ,  7.25, 14.5 , 21.75, 29.  , 36.25, 43.5 , 50.75, 58.  ])"
      ]
     },
     "execution_count": 8,
     "metadata": {},
     "output_type": "execute_result"
    }
   ],
   "source": [
    "r * 2."
   ]
  },
  {
   "cell_type": "markdown",
   "metadata": {
    "slideshow": {
     "slide_type": "slide"
    }
   },
   "source": [
    "__2.__ Create the following arrays:\n",
    "\n",
    "(a)  an array of 100 elements all equal to $e$, the base of the natural logarithm;"
   ]
  },
  {
   "cell_type": "code",
   "execution_count": 9,
   "metadata": {
    "slideshow": {
     "slide_type": "fragment"
    }
   },
   "outputs": [
    {
     "data": {
      "text/plain": [
       "array([2.71828183, 2.71828183, 2.71828183, 2.71828183, 2.71828183,\n",
       "       2.71828183, 2.71828183, 2.71828183, 2.71828183, 2.71828183,\n",
       "       2.71828183, 2.71828183, 2.71828183, 2.71828183, 2.71828183,\n",
       "       2.71828183, 2.71828183, 2.71828183, 2.71828183, 2.71828183,\n",
       "       2.71828183, 2.71828183, 2.71828183, 2.71828183, 2.71828183,\n",
       "       2.71828183, 2.71828183, 2.71828183, 2.71828183, 2.71828183,\n",
       "       2.71828183, 2.71828183, 2.71828183, 2.71828183, 2.71828183,\n",
       "       2.71828183, 2.71828183, 2.71828183, 2.71828183, 2.71828183,\n",
       "       2.71828183, 2.71828183, 2.71828183, 2.71828183, 2.71828183,\n",
       "       2.71828183, 2.71828183, 2.71828183, 2.71828183, 2.71828183,\n",
       "       2.71828183, 2.71828183, 2.71828183, 2.71828183, 2.71828183,\n",
       "       2.71828183, 2.71828183, 2.71828183, 2.71828183, 2.71828183,\n",
       "       2.71828183, 2.71828183, 2.71828183, 2.71828183, 2.71828183,\n",
       "       2.71828183, 2.71828183, 2.71828183, 2.71828183, 2.71828183,\n",
       "       2.71828183, 2.71828183, 2.71828183, 2.71828183, 2.71828183,\n",
       "       2.71828183, 2.71828183, 2.71828183, 2.71828183, 2.71828183,\n",
       "       2.71828183, 2.71828183, 2.71828183, 2.71828183, 2.71828183,\n",
       "       2.71828183, 2.71828183, 2.71828183, 2.71828183, 2.71828183,\n",
       "       2.71828183, 2.71828183, 2.71828183, 2.71828183, 2.71828183,\n",
       "       2.71828183, 2.71828183, 2.71828183, 2.71828183, 2.71828183])"
      ]
     },
     "execution_count": 9,
     "metadata": {},
     "output_type": "execute_result"
    }
   ],
   "source": [
    "np.e * np.ones(100)"
   ]
  },
  {
   "cell_type": "markdown",
   "metadata": {
    "slideshow": {
     "slide_type": "slide"
    }
   },
   "source": [
    "(b) an array in 1-degree increments of all the angles in degrees from 0 to 360 degrees;"
   ]
  },
  {
   "cell_type": "code",
   "execution_count": 10,
   "metadata": {
    "slideshow": {
     "slide_type": "fragment"
    }
   },
   "outputs": [
    {
     "data": {
      "text/plain": [
       "array([  0,   1,   2,   3,   4,   5,   6,   7,   8,   9,  10,  11,  12,\n",
       "        13,  14,  15,  16,  17,  18,  19,  20,  21,  22,  23,  24,  25,\n",
       "        26,  27,  28,  29,  30,  31,  32,  33,  34,  35,  36,  37,  38,\n",
       "        39,  40,  41,  42,  43,  44,  45,  46,  47,  48,  49,  50,  51,\n",
       "        52,  53,  54,  55,  56,  57,  58,  59,  60,  61,  62,  63,  64,\n",
       "        65,  66,  67,  68,  69,  70,  71,  72,  73,  74,  75,  76,  77,\n",
       "        78,  79,  80,  81,  82,  83,  84,  85,  86,  87,  88,  89,  90,\n",
       "        91,  92,  93,  94,  95,  96,  97,  98,  99, 100, 101, 102, 103,\n",
       "       104, 105, 106, 107, 108, 109, 110, 111, 112, 113, 114, 115, 116,\n",
       "       117, 118, 119, 120, 121, 122, 123, 124, 125, 126, 127, 128, 129,\n",
       "       130, 131, 132, 133, 134, 135, 136, 137, 138, 139, 140, 141, 142,\n",
       "       143, 144, 145, 146, 147, 148, 149, 150, 151, 152, 153, 154, 155,\n",
       "       156, 157, 158, 159, 160, 161, 162, 163, 164, 165, 166, 167, 168,\n",
       "       169, 170, 171, 172, 173, 174, 175, 176, 177, 178, 179, 180, 181,\n",
       "       182, 183, 184, 185, 186, 187, 188, 189, 190, 191, 192, 193, 194,\n",
       "       195, 196, 197, 198, 199, 200, 201, 202, 203, 204, 205, 206, 207,\n",
       "       208, 209, 210, 211, 212, 213, 214, 215, 216, 217, 218, 219, 220,\n",
       "       221, 222, 223, 224, 225, 226, 227, 228, 229, 230, 231, 232, 233,\n",
       "       234, 235, 236, 237, 238, 239, 240, 241, 242, 243, 244, 245, 246,\n",
       "       247, 248, 249, 250, 251, 252, 253, 254, 255, 256, 257, 258, 259,\n",
       "       260, 261, 262, 263, 264, 265, 266, 267, 268, 269, 270, 271, 272,\n",
       "       273, 274, 275, 276, 277, 278, 279, 280, 281, 282, 283, 284, 285,\n",
       "       286, 287, 288, 289, 290, 291, 292, 293, 294, 295, 296, 297, 298,\n",
       "       299, 300, 301, 302, 303, 304, 305, 306, 307, 308, 309, 310, 311,\n",
       "       312, 313, 314, 315, 316, 317, 318, 319, 320, 321, 322, 323, 324,\n",
       "       325, 326, 327, 328, 329, 330, 331, 332, 333, 334, 335, 336, 337,\n",
       "       338, 339, 340, 341, 342, 343, 344, 345, 346, 347, 348, 349, 350,\n",
       "       351, 352, 353, 354, 355, 356, 357, 358, 359, 360])"
      ]
     },
     "execution_count": 10,
     "metadata": {},
     "output_type": "execute_result"
    }
   ],
   "source": [
    "np.arange(0, 361, 1)"
   ]
  },
  {
   "cell_type": "markdown",
   "metadata": {
    "slideshow": {
     "slide_type": "slide"
    }
   },
   "source": [
    "(c)  an array in 1-degree increments of all the angles in radians from 0 to 360 degrees;"
   ]
  },
  {
   "cell_type": "code",
   "execution_count": 11,
   "metadata": {
    "slideshow": {
     "slide_type": "fragment"
    }
   },
   "outputs": [
    {
     "data": {
      "text/plain": [
       "array([0.        , 0.01745329, 0.03490659, 0.05235988, 0.06981317,\n",
       "       0.08726646, 0.10471976, 0.12217305, 0.13962634, 0.15707963,\n",
       "       0.17453293, 0.19198622, 0.20943951, 0.2268928 , 0.2443461 ,\n",
       "       0.26179939, 0.27925268, 0.29670597, 0.31415927, 0.33161256,\n",
       "       0.34906585, 0.36651914, 0.38397244, 0.40142573, 0.41887902,\n",
       "       0.43633231, 0.45378561, 0.4712389 , 0.48869219, 0.50614548,\n",
       "       0.52359878, 0.54105207, 0.55850536, 0.57595865, 0.59341195,\n",
       "       0.61086524, 0.62831853, 0.64577182, 0.66322512, 0.68067841,\n",
       "       0.6981317 , 0.71558499, 0.73303829, 0.75049158, 0.76794487,\n",
       "       0.78539816, 0.80285146, 0.82030475, 0.83775804, 0.85521133,\n",
       "       0.87266463, 0.89011792, 0.90757121, 0.9250245 , 0.9424778 ,\n",
       "       0.95993109, 0.97738438, 0.99483767, 1.01229097, 1.02974426,\n",
       "       1.04719755, 1.06465084, 1.08210414, 1.09955743, 1.11701072,\n",
       "       1.13446401, 1.15191731, 1.1693706 , 1.18682389, 1.20427718,\n",
       "       1.22173048, 1.23918377, 1.25663706, 1.27409035, 1.29154365,\n",
       "       1.30899694, 1.32645023, 1.34390352, 1.36135682, 1.37881011,\n",
       "       1.3962634 , 1.41371669, 1.43116999, 1.44862328, 1.46607657,\n",
       "       1.48352986, 1.50098316, 1.51843645, 1.53588974, 1.55334303,\n",
       "       1.57079633, 1.58824962, 1.60570291, 1.6231562 , 1.6406095 ,\n",
       "       1.65806279, 1.67551608, 1.69296937, 1.71042267, 1.72787596,\n",
       "       1.74532925, 1.76278254, 1.78023584, 1.79768913, 1.81514242,\n",
       "       1.83259571, 1.85004901, 1.8675023 , 1.88495559, 1.90240888,\n",
       "       1.91986218, 1.93731547, 1.95476876, 1.97222205, 1.98967535,\n",
       "       2.00712864, 2.02458193, 2.04203522, 2.05948852, 2.07694181,\n",
       "       2.0943951 , 2.11184839, 2.12930169, 2.14675498, 2.16420827,\n",
       "       2.18166156, 2.19911486, 2.21656815, 2.23402144, 2.25147474,\n",
       "       2.26892803, 2.28638132, 2.30383461, 2.32128791, 2.3387412 ,\n",
       "       2.35619449, 2.37364778, 2.39110108, 2.40855437, 2.42600766,\n",
       "       2.44346095, 2.46091425, 2.47836754, 2.49582083, 2.51327412,\n",
       "       2.53072742, 2.54818071, 2.565634  , 2.58308729, 2.60054059,\n",
       "       2.61799388, 2.63544717, 2.65290046, 2.67035376, 2.68780705,\n",
       "       2.70526034, 2.72271363, 2.74016693, 2.75762022, 2.77507351,\n",
       "       2.7925268 , 2.8099801 , 2.82743339, 2.84488668, 2.86233997,\n",
       "       2.87979327, 2.89724656, 2.91469985, 2.93215314, 2.94960644,\n",
       "       2.96705973, 2.98451302, 3.00196631, 3.01941961, 3.0368729 ,\n",
       "       3.05432619, 3.07177948, 3.08923278, 3.10668607, 3.12413936,\n",
       "       3.14159265, 3.15904595, 3.17649924, 3.19395253, 3.21140582,\n",
       "       3.22885912, 3.24631241, 3.2637657 , 3.28121899, 3.29867229,\n",
       "       3.31612558, 3.33357887, 3.35103216, 3.36848546, 3.38593875,\n",
       "       3.40339204, 3.42084533, 3.43829863, 3.45575192, 3.47320521,\n",
       "       3.4906585 , 3.5081118 , 3.52556509, 3.54301838, 3.56047167,\n",
       "       3.57792497, 3.59537826, 3.61283155, 3.63028484, 3.64773814,\n",
       "       3.66519143, 3.68264472, 3.70009801, 3.71755131, 3.7350046 ,\n",
       "       3.75245789, 3.76991118, 3.78736448, 3.80481777, 3.82227106,\n",
       "       3.83972435, 3.85717765, 3.87463094, 3.89208423, 3.90953752,\n",
       "       3.92699082, 3.94444411, 3.9618974 , 3.97935069, 3.99680399,\n",
       "       4.01425728, 4.03171057, 4.04916386, 4.06661716, 4.08407045,\n",
       "       4.10152374, 4.11897703, 4.13643033, 4.15388362, 4.17133691,\n",
       "       4.1887902 , 4.2062435 , 4.22369679, 4.24115008, 4.25860337,\n",
       "       4.27605667, 4.29350996, 4.31096325, 4.32841654, 4.34586984,\n",
       "       4.36332313, 4.38077642, 4.39822972, 4.41568301, 4.4331363 ,\n",
       "       4.45058959, 4.46804289, 4.48549618, 4.50294947, 4.52040276,\n",
       "       4.53785606, 4.55530935, 4.57276264, 4.59021593, 4.60766923,\n",
       "       4.62512252, 4.64257581, 4.6600291 , 4.6774824 , 4.69493569,\n",
       "       4.71238898, 4.72984227, 4.74729557, 4.76474886, 4.78220215,\n",
       "       4.79965544, 4.81710874, 4.83456203, 4.85201532, 4.86946861,\n",
       "       4.88692191, 4.9043752 , 4.92182849, 4.93928178, 4.95673508,\n",
       "       4.97418837, 4.99164166, 5.00909495, 5.02654825, 5.04400154,\n",
       "       5.06145483, 5.07890812, 5.09636142, 5.11381471, 5.131268  ,\n",
       "       5.14872129, 5.16617459, 5.18362788, 5.20108117, 5.21853446,\n",
       "       5.23598776, 5.25344105, 5.27089434, 5.28834763, 5.30580093,\n",
       "       5.32325422, 5.34070751, 5.3581608 , 5.3756141 , 5.39306739,\n",
       "       5.41052068, 5.42797397, 5.44542727, 5.46288056, 5.48033385,\n",
       "       5.49778714, 5.51524044, 5.53269373, 5.55014702, 5.56760031,\n",
       "       5.58505361, 5.6025069 , 5.61996019, 5.63741348, 5.65486678,\n",
       "       5.67232007, 5.68977336, 5.70722665, 5.72467995, 5.74213324,\n",
       "       5.75958653, 5.77703982, 5.79449312, 5.81194641, 5.8293997 ,\n",
       "       5.84685299, 5.86430629, 5.88175958, 5.89921287, 5.91666616,\n",
       "       5.93411946, 5.95157275, 5.96902604, 5.98647933, 6.00393263,\n",
       "       6.02138592, 6.03883921, 6.0562925 , 6.0737458 , 6.09119909,\n",
       "       6.10865238, 6.12610567, 6.14355897, 6.16101226, 6.17846555,\n",
       "       6.19591884, 6.21337214, 6.23082543, 6.24827872, 6.26573201,\n",
       "       6.28318531])"
      ]
     },
     "execution_count": 11,
     "metadata": {},
     "output_type": "execute_result"
    }
   ],
   "source": [
    "np.deg2rad(np.arange(0, 361, 1))"
   ]
  },
  {
   "cell_type": "markdown",
   "metadata": {
    "slideshow": {
     "slide_type": "slide"
    }
   },
   "source": [
    "(d)  an array from 12 to 17, not including 17, in 0.2 increments;"
   ]
  },
  {
   "cell_type": "code",
   "execution_count": 12,
   "metadata": {
    "slideshow": {
     "slide_type": "fragment"
    }
   },
   "outputs": [
    {
     "data": {
      "text/plain": [
       "array([12. , 12.2, 12.4, 12.6, 12.8, 13. , 13.2, 13.4, 13.6, 13.8, 14. ,\n",
       "       14.2, 14.4, 14.6, 14.8, 15. , 15.2, 15.4, 15.6, 15.8, 16. , 16.2,\n",
       "       16.4, 16.6, 16.8])"
      ]
     },
     "execution_count": 12,
     "metadata": {},
     "output_type": "execute_result"
    }
   ],
   "source": [
    "np.arange(12,17,0.2)"
   ]
  },
  {
   "cell_type": "markdown",
   "metadata": {
    "slideshow": {
     "slide_type": "slide"
    }
   },
   "source": [
    "(e)  an array from 12 to 17, including 17, in 0.2 increments."
   ]
  },
  {
   "cell_type": "code",
   "execution_count": 13,
   "metadata": {
    "slideshow": {
     "slide_type": "fragment"
    }
   },
   "outputs": [
    {
     "data": {
      "text/plain": [
       "array([12. , 12.2, 12.4, 12.6, 12.8, 13. , 13.2, 13.4, 13.6, 13.8, 14. ,\n",
       "       14.2, 14.4, 14.6, 14.8, 15. , 15.2, 15.4, 15.6, 15.8, 16. , 16.2,\n",
       "       16.4, 16.6, 16.8, 17. ])"
      ]
     },
     "execution_count": 13,
     "metadata": {},
     "output_type": "execute_result"
    }
   ],
   "source": [
    "np.arange(12,17.1, 0.2)"
   ]
  },
  {
   "cell_type": "markdown",
   "metadata": {
    "slideshow": {
     "slide_type": "slide"
    }
   },
   "source": [
    "__3.__ The position of a ball at time $t$ dropped with zero initial velocity from a height $h_0$ is given by\n",
    "\n",
    "\n",
    "$$y = h_0 - \\tfrac{1}{2}gt^2$$\n",
    "\n",
    "where $g=9.8~\\mathrm{m/s}^2$. Suppose $h_0=10~\\mathrm{m}$. Find the sequence of times when the ball passes each half meter assuming the ball is dropped at $t=0$. Hint: Create a NumPy array for $y$ that goes from 10 to 0 in increments of -0.5 using the `arange` function. Solving the above equation for $t$, show that\n",
    "\n",
    "$$t = \\sqrt{\\frac{2(h_0-y)}{g}} \\;.$$\n",
    "\n",
    "Using this equation and the array you created, find the sequence of times when the ball passes each half meter. "
   ]
  },
  {
   "cell_type": "code",
   "execution_count": 14,
   "metadata": {
    "slideshow": {
     "slide_type": "slide"
    }
   },
   "outputs": [
    {
     "data": {
      "text/plain": [
       "array([10. ,  9.5,  9. ,  8.5,  8. ,  7.5,  7. ,  6.5,  6. ,  5.5,  5. ,\n",
       "        4.5,  4. ,  3.5,  3. ,  2.5,  2. ,  1.5,  1. ,  0.5])"
      ]
     },
     "execution_count": 14,
     "metadata": {},
     "output_type": "execute_result"
    }
   ],
   "source": [
    "y = np.arange(10, 0, -0.5)\n",
    "y"
   ]
  },
  {
   "cell_type": "code",
   "execution_count": 15,
   "metadata": {
    "slideshow": {
     "slide_type": "fragment"
    }
   },
   "outputs": [
    {
     "data": {
      "text/plain": [
       "array([0.        , 0.31943828, 0.45175395, 0.55328334, 0.63887656,\n",
       "       0.71428571, 0.7824608 , 0.84515425, 0.9035079 , 0.95831485,\n",
       "       1.01015254, 1.05945693, 1.10656667, 1.15175111, 1.19522861,\n",
       "       1.23717915, 1.27775313, 1.31707778, 1.35526185, 1.39239919])"
      ]
     },
     "execution_count": 15,
     "metadata": {},
     "output_type": "execute_result"
    }
   ],
   "source": [
    "h0 = 10.\n",
    "g = 9.8\n",
    "t = np.sqrt( ( 2.* (h0 - y)) / g )\n",
    "t"
   ]
  },
  {
   "cell_type": "code",
   "execution_count": 16,
   "metadata": {
    "slideshow": {
     "slide_type": "slide"
    }
   },
   "outputs": [
    {
     "data": {
      "text/plain": [
       "[<matplotlib.lines.Line2D at 0x1185c79b0>]"
      ]
     },
     "execution_count": 16,
     "metadata": {},
     "output_type": "execute_result"
    }
   ],
   "source": [
    "import matplotlib.pyplot as plt\n",
    "\n",
    "plt.plot(t, y)"
   ]
  },
  {
   "cell_type": "markdown",
   "metadata": {
    "slideshow": {
     "slide_type": "slide"
    }
   },
   "source": [
    "__4.__ We have two arrays $y$, and $t$ for position *vs* time of a UFO and we want to use these data to calculate the velocity as a function of time."
   ]
  },
  {
   "cell_type": "code",
   "execution_count": 17,
   "metadata": {
    "slideshow": {
     "slide_type": "fragment"
    }
   },
   "outputs": [],
   "source": [
    "y = np.array([ 0. , 1.3, 5. , 10.9, 18.9, 28.7, 40. ])\n",
    "t = np.array([ 0. , 0.49, 1. , 1.5 , 2.08, 2.55, 3.2 ])"
   ]
  },
  {
   "cell_type": "markdown",
   "metadata": {
    "slideshow": {
     "slide_type": "slide"
    }
   },
   "source": [
    "Plot the data."
   ]
  },
  {
   "cell_type": "code",
   "execution_count": 18,
   "metadata": {
    "slideshow": {
     "slide_type": "fragment"
    }
   },
   "outputs": [
    {
     "data": {
      "text/plain": [
       "[<matplotlib.lines.Line2D at 0x1187b2160>]"
      ]
     },
     "execution_count": 18,
     "metadata": {},
     "output_type": "execute_result"
    },
    {
     "data": {
      "image/png": "[encoded data removed]",
      "text/plain": [
       "<Figure size 432x288 with 1 Axes>"
      ]
     },
     "metadata": {
      "needs_background": "light"
     },
     "output_type": "display_data"
    }
   ],
   "source": [
    "plt.plot(t, y)"
   ]
  },
  {
   "cell_type": "markdown",
   "metadata": {
    "slideshow": {
     "slide_type": "slide"
    }
   },
   "source": [
    "We can find the average velocity for time interval $i$ by the formula\n",
    "\n",
    "$$v_i = \\frac{y_i-y_{i-1}}{t_i-t_{i-1}}$$\n",
    "\n",
    "Calculate the entire array of of velocities using the slicing and vectorized subtraction properties of NumPy arrays: note that we can create two `y` arrays displaced by one index"
   ]
  },
  {
   "cell_type": "markdown",
   "metadata": {
    "slideshow": {
     "slide_type": "slide"
    }
   },
   "source": [
    "For $y_{i-1}$:"
   ]
  },
  {
   "cell_type": "code",
   "execution_count": 19,
   "metadata": {
    "slideshow": {
     "slide_type": "fragment"
    }
   },
   "outputs": [
    {
     "data": {
      "text/plain": [
       "array([ 0. ,  1.3,  5. , 10.9, 18.9, 28.7])"
      ]
     },
     "execution_count": 19,
     "metadata": {},
     "output_type": "execute_result"
    }
   ],
   "source": [
    "y[:-1]"
   ]
  },
  {
   "cell_type": "markdown",
   "metadata": {
    "slideshow": {
     "slide_type": "fragment"
    }
   },
   "source": [
    "For $y_{i}$:"
   ]
  },
  {
   "cell_type": "code",
   "execution_count": 20,
   "metadata": {
    "slideshow": {
     "slide_type": "fragment"
    }
   },
   "outputs": [
    {
     "data": {
      "text/plain": [
       "array([ 1.3,  5. , 10.9, 18.9, 28.7, 40. ])"
      ]
     },
     "execution_count": 20,
     "metadata": {},
     "output_type": "execute_result"
    }
   ],
   "source": [
    "y[1:]"
   ]
  },
  {
   "cell_type": "markdown",
   "metadata": {
    "slideshow": {
     "slide_type": "fragment"
    }
   },
   "source": [
    "For $y_i - y_{i-1}$:"
   ]
  },
  {
   "cell_type": "code",
   "execution_count": 21,
   "metadata": {
    "slideshow": {
     "slide_type": "fragment"
    }
   },
   "outputs": [
    {
     "data": {
      "text/plain": [
       "array([ 1.3,  3.7,  5.9,  8. ,  9.8, 11.3])"
      ]
     },
     "execution_count": 21,
     "metadata": {},
     "output_type": "execute_result"
    }
   ],
   "source": [
    "y[1:] - y[:-1]"
   ]
  },
  {
   "cell_type": "markdown",
   "metadata": {
    "slideshow": {
     "slide_type": "slide"
    }
   },
   "source": [
    "The element-by-element difference of the two arrays `y[1:]-y[:-1]` divided by `t[1:]-t[:-1]` gives the entire array of velocities"
   ]
  },
  {
   "cell_type": "code",
   "execution_count": 22,
   "metadata": {
    "slideshow": {
     "slide_type": "fragment"
    }
   },
   "outputs": [
    {
     "data": {
      "text/plain": [
       "array([ 2.65306122,  7.25490196, 11.8       , 13.79310345, 20.85106383,\n",
       "       17.38461538])"
      ]
     },
     "execution_count": 22,
     "metadata": {},
     "output_type": "execute_result"
    }
   ],
   "source": [
    "v_avg = (y[1:]-y[:-1])/(t[1:]-t[:-1])\n",
    "v_avg"
   ]
  },
  {
   "cell_type": "markdown",
   "metadata": {
    "slideshow": {
     "slide_type": "fragment"
    }
   },
   "source": [
    "Of course, these are the average velocities over each interval so the times best associated with each interval are the times halfway in between the original time array, which we can calculate using a similar trick of slicing:"
   ]
  },
  {
   "cell_type": "code",
   "execution_count": 23,
   "metadata": {
    "slideshow": {
     "slide_type": "fragment"
    }
   },
   "outputs": [
    {
     "data": {
      "text/plain": [
       "array([0.245, 0.745, 1.25 , 1.79 , 2.315, 2.875])"
      ]
     },
     "execution_count": 23,
     "metadata": {},
     "output_type": "execute_result"
    }
   ],
   "source": [
    "t_avg = (t[1:] + t[:-1]) / 2.\n",
    "t_avg"
   ]
  },
  {
   "cell_type": "markdown",
   "metadata": {
    "slideshow": {
     "slide_type": "slide"
    }
   },
   "source": [
    "Plot the calculation results."
   ]
  },
  {
   "cell_type": "code",
   "execution_count": 24,
   "metadata": {
    "slideshow": {
     "slide_type": "fragment"
    }
   },
   "outputs": [
    {
     "data": {
      "text/plain": [
       "[<matplotlib.lines.Line2D at 0x118887c18>]"
      ]
     },
     "execution_count": 24,
     "metadata": {},
     "output_type": "execute_result"
    },
    {
     "data": {
      "image/png": "[encoded data removed]",
      "text/plain": [
       "<Figure size 432x288 with 1 Axes>"
      ]
     },
     "metadata": {
      "needs_background": "light"
     },
     "output_type": "display_data"
    }
   ],
   "source": [
    "plt.plot(t, y, 'o')\n"
   ]
  },
  {
   "cell_type": "code",
   "execution_count": 25,
   "metadata": {},
   "outputs": [
    {
     "data": {
      "text/plain": [
       "[<matplotlib.lines.Line2D at 0x1188f0160>]"
      ]
     },
     "execution_count": 25,
     "metadata": {},
     "output_type": "execute_result"
    },
    {
     "data": {
      "image/png": "[encoded data removed]",
      "text/plain": [
       "<Figure size 432x288 with 1 Axes>"
      ]
     },
     "metadata": {
      "needs_background": "light"
     },
     "output_type": "display_data"
    }
   ],
   "source": [
    "plt.plot(t_avg, v_avg, 'o')"
   ]
  },
  {
   "cell_type": "code",
   "execution_count": 26,
   "metadata": {
    "slideshow": {
     "slide_type": "slide"
    }
   },
   "outputs": [],
   "source": [
    "matrix = np.asarray([[0, 1, 2],\n",
    "                      [3, 4, 5],\n",
    "                      [6, 7, 8]])"
   ]
  },
  {
   "cell_type": "markdown",
   "metadata": {
    "slideshow": {
     "slide_type": "fragment"
    }
   },
   "source": [
    "Get the second row:"
   ]
  },
  {
   "cell_type": "code",
   "execution_count": 27,
   "metadata": {},
   "outputs": [
    {
     "data": {
      "text/plain": [
       "array([3, 4, 5])"
      ]
     },
     "execution_count": 27,
     "metadata": {},
     "output_type": "execute_result"
    }
   ],
   "source": [
    "matrix[1]"
   ]
  },
  {
   "cell_type": "code",
   "execution_count": 28,
   "metadata": {
    "slideshow": {
     "slide_type": "fragment"
    }
   },
   "outputs": [
    {
     "data": {
      "text/plain": [
       "array([3, 4, 5])"
      ]
     },
     "execution_count": 28,
     "metadata": {},
     "output_type": "execute_result"
    }
   ],
   "source": [
    "matrix[1,:]"
   ]
  },
  {
   "cell_type": "markdown",
   "metadata": {
    "slideshow": {
     "slide_type": "fragment"
    }
   },
   "source": [
    "Get the second column"
   ]
  },
  {
   "cell_type": "code",
   "execution_count": 29,
   "metadata": {
    "slideshow": {
     "slide_type": "fragment"
    }
   },
   "outputs": [
    {
     "data": {
      "text/plain": [
       "array([1, 4, 7])"
      ]
     },
     "execution_count": 29,
     "metadata": {},
     "output_type": "execute_result"
    }
   ],
   "source": [
    "matrix[:,1]"
   ]
  },
  {
   "cell_type": "code",
   "execution_count": 30,
   "metadata": {
    "slideshow": {
     "slide_type": "slide"
    }
   },
   "outputs": [
    {
     "data": {
      "text/plain": [
       "array([[ 0,  1,  2,  3,  4,  5,  6,  7],\n",
       "       [ 8,  9, 10, 11, 12, 13, 14, 15],\n",
       "       [16, 17, 18, 19, 20, 21, 22, 23],\n",
       "       [24, 25, 26, 27, 28, 29, 30, 31],\n",
       "       [32, 33, 34, 35, 36, 37, 38, 39]])"
      ]
     },
     "execution_count": 30,
     "metadata": {},
     "output_type": "execute_result"
    }
   ],
   "source": [
    "aa = np.arange(40).reshape(5, 8)\n",
    "aa"
   ]
  },
  {
   "cell_type": "markdown",
   "metadata": {
    "slideshow": {
     "slide_type": "fragment"
    }
   },
   "source": [
    "Show the last 3x3 part of `aa`"
   ]
  },
  {
   "cell_type": "code",
   "execution_count": 31,
   "metadata": {
    "slideshow": {
     "slide_type": "fragment"
    }
   },
   "outputs": [
    {
     "data": {
      "text/plain": [
       "array([[21, 22, 23],\n",
       "       [29, 30, 31],\n",
       "       [37, 38, 39]])"
      ]
     },
     "execution_count": 31,
     "metadata": {},
     "output_type": "execute_result"
    }
   ],
   "source": [
    "aa[-3:, -3:]"
   ]
  }
 ],
 "metadata": {
  "celltoolbar": "Slideshow",
  "kernelspec": {
   "display_name": "Python 3",
   "language": "python",
   "name": "python3"
  },
  "language_info": {
   "codemirror_mode": {
    "name": "ipython",
    "version": 3
   },
   "file_extension": ".py",
   "mimetype": "text/x-python",
   "name": "python",
   "nbconvert_exporter": "python",
   "pygments_lexer": "ipython3",
   "version": "3.7.1"
  }
 },
 "nbformat": 4,
 "nbformat_minor": 2
}

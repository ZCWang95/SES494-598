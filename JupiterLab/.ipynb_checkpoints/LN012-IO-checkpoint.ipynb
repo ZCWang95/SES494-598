{
 "cells": [
  {
   "cell_type": "markdown",
   "metadata": {
    "slideshow": {
     "slide_type": "slide"
    }
   },
   "source": [
    "## Input and Output\n",
    "\n",
    "When you have Python perform some task, you need to feed it information---input. \n",
    "\n",
    "When it is done with that task, it reports back to you the results of its calculations---output."
   ]
  },
  {
   "cell_type": "markdown",
   "metadata": {
    "slideshow": {
     "slide_type": "slide"
    }
   },
   "source": [
    "## Keyboard input\n",
    "\n",
    "Python has a function called `input` for getting input from the user and assigning it a variable name. "
   ]
  },
  {
   "cell_type": "code",
   "execution_count": 40,
   "metadata": {
    "cocalc": {
     "outputs": {
      "0": {
       "name": "input",
       "opts": {
        "password": false,
        "prompt": "prompt to user"
       },
       "output_type": "stream",
       "value": "Shim"
      }
     }
    }
   },
   "outputs": [
    {
     "name": "stdout",
     "output_type": "stream",
     "text": [
      "prompt to userShim\n"
     ]
    }
   ],
   "source": [
    "strname = input(\"prompt to user\")"
   ]
  },
  {
   "cell_type": "code",
   "execution_count": 41,
   "metadata": {
    "slideshow": {
     "slide_type": "fragment"
    }
   },
   "outputs": [
    {
     "data": {
      "text/plain": [
       "'Shim'"
      ]
     },
     "execution_count": 41,
     "metadata": {},
     "output_type": "execute_result"
    }
   ],
   "source": [
    "strname"
   ]
  },
  {
   "cell_type": "markdown",
   "metadata": {
    "slideshow": {
     "slide_type": "slide"
    }
   },
   "source": [
    "When the `input` statement is executed, it prints the text in the quotes to the computer screen and waits for input from the user. The user types a string of characters and presses the return key. The `input` function then assigns that string to the variable name on the right of the assignment operator `=`."
   ]
  },
  {
   "cell_type": "code",
   "execution_count": 42,
   "metadata": {
    "cocalc": {
     "outputs": {
      "0": {
       "name": "input",
       "opts": {
        "password": false,
        "prompt": "Input distance of trip in miles: "
       },
       "output_type": "stream",
       "value": "450"
      }
     }
    }
   },
   "outputs": [
    {
     "name": "stdout",
     "output_type": "stream",
     "text": [
      "Input distance of trip in miles: 400\n"
     ]
    }
   ],
   "source": [
    "distance = input(\"Input distance of trip in miles: \")"
   ]
  },
  {
   "cell_type": "markdown",
   "metadata": {
    "slideshow": {
     "slide_type": "fragment"
    }
   },
   "source": [
    "Python prints out the string argument of the `input` function and waits for a response from you. \n",
    "\n",
    "Type `450` for \"450 miles\" and press return. \n",
    "\n",
    "Now type the variable name `distance` to see its value"
   ]
  },
  {
   "cell_type": "code",
   "execution_count": 43,
   "metadata": {
    "slideshow": {
     "slide_type": "slide"
    }
   },
   "outputs": [
    {
     "data": {
      "text/plain": [
       "'400'"
      ]
     },
     "execution_count": 43,
     "metadata": {},
     "output_type": "execute_result"
    }
   ],
   "source": [
    "distance"
   ]
  },
  {
   "cell_type": "markdown",
   "metadata": {
    "slideshow": {
     "slide_type": "fragment"
    }
   },
   "source": [
    "The value of the `distance` is `450` as expected, but it is a string. \n",
    "\n",
    "Because we want to use `450` as a number, we need to convert it from a string to a number."
   ]
  },
  {
   "cell_type": "code",
   "execution_count": 44,
   "metadata": {
    "slideshow": {
     "slide_type": "fragment"
    }
   },
   "outputs": [],
   "source": [
    "distance = eval(distance)"
   ]
  },
  {
   "cell_type": "code",
   "execution_count": 45,
   "metadata": {
    "slideshow": {
     "slide_type": "fragment"
    }
   },
   "outputs": [
    {
     "data": {
      "text/plain": [
       "400"
      ]
     },
     "execution_count": 45,
     "metadata": {},
     "output_type": "execute_result"
    }
   ],
   "source": [
    "distance"
   ]
  },
  {
   "cell_type": "markdown",
   "metadata": {
    "slideshow": {
     "slide_type": "slide"
    }
   },
   "source": [
    "The `eval` function has converted `distance` to an integer. However, we might prefer that `distance` be a float instead of an integer. "
   ]
  },
  {
   "cell_type": "code",
   "execution_count": 46,
   "metadata": {
    "cocalc": {
     "outputs": {
      "0": {
       "name": "input",
       "opts": {
        "password": false,
        "prompt": "Input distance of trip in miles: "
       },
       "output_type": "stream",
       "value": "200"
      }
     }
    }
   },
   "outputs": [
    {
     "name": "stdout",
     "output_type": "stream",
     "text": [
      "Input distance of trip in miles: 200\n"
     ]
    }
   ],
   "source": [
    "distance = input(\"Input distance of trip in miles: \")"
   ]
  },
  {
   "cell_type": "code",
   "execution_count": 47,
   "metadata": {
    "slideshow": {
     "slide_type": "fragment"
    }
   },
   "outputs": [
    {
     "data": {
      "text/plain": [
       "'200'"
      ]
     },
     "execution_count": 47,
     "metadata": {},
     "output_type": "execute_result"
    }
   ],
   "source": [
    "distance"
   ]
  },
  {
   "cell_type": "code",
   "execution_count": 48,
   "metadata": {
    "slideshow": {
     "slide_type": "fragment"
    }
   },
   "outputs": [],
   "source": [
    "distance = float(distance)"
   ]
  },
  {
   "cell_type": "code",
   "execution_count": 10,
   "metadata": {
    "slideshow": {
     "slide_type": "fragment"
    }
   },
   "outputs": [
    {
     "data": {
      "text/plain": [
       "200.0"
      ]
     },
     "execution_count": 10,
     "metadata": {},
     "output_type": "execute_result"
    }
   ],
   "source": [
    "distance"
   ]
  },
  {
   "cell_type": "markdown",
   "metadata": {
    "slideshow": {
     "slide_type": "slide"
    }
   },
   "source": [
    "## Make your code better"
   ]
  },
  {
   "cell_type": "code",
   "execution_count": 49,
   "metadata": {
    "cocalc": {
     "outputs": {
      "0": {
       "name": "input",
       "opts": {
        "password": false,
        "prompt": "Input distance of trip in miles: "
       },
       "output_type": "stream",
       "value": "400"
      }
     }
    }
   },
   "outputs": [
    {
     "name": "stdout",
     "output_type": "stream",
     "text": [
      "Input distance of trip in miles: 400\n"
     ]
    }
   ],
   "source": [
    "# Calculates time, gallons of gas used, and cost of gasoline for a trip\n",
    "distance = input(\"Input distance of trip in miles: \")\n",
    "distance = float(distance)\n",
    "mpg = 30.\n",
    "speed = 60.\n",
    "costPerGallon = 4.10\n",
    "time = distance / speed\n",
    "gallons = distance / mpg\n",
    "cost = gallons * costPerGallon"
   ]
  },
  {
   "cell_type": "markdown",
   "metadata": {
    "slideshow": {
     "slide_type": "slide"
    }
   },
   "source": [
    "Lines 4 and 5 can be combined into a single line, which is a little more efficient:\n",
    "\n",
    "\n",
    "```python\n",
    "distance = float(input(\"Input distance of trip in miles: \"))\n",
    "```"
   ]
  },
  {
   "cell_type": "markdown",
   "metadata": {
    "collapsed": true,
    "slideshow": {
     "slide_type": "slide"
    }
   },
   "source": [
    "## Screen output\n",
    "\n",
    "It would be much more convenient if the program in the previous section would simply write its output to the computer screen, instead of requiring the user to type `time`, `gallons`, and `cost` to view the results. This can be accomplished very simply using Python's `print` function. "
   ]
  },
  {
   "cell_type": "code",
   "execution_count": 12,
   "metadata": {
    "cocalc": {
     "outputs": {
      "0": {
       "name": "input",
       "opts": {
        "password": false,
        "prompt": "Input distance of trip in miles: "
       },
       "output_type": "stream",
       "value": "50"
      }
     }
    }
   },
   "outputs": [
    {
     "name": "stdout",
     "output_type": "stream",
     "text": [
      "Input distance of trip in miles: 200\n",
      "3.3333333333333335 6.666666666666667 27.333333333333332\n"
     ]
    }
   ],
   "source": [
    "# Calculates time, gallons of gas used, and cost of gasoline for a trip\n",
    "distance = input(\"Input distance of trip in miles: \")\n",
    "distance = float(distance)\n",
    "mpg = 30.\n",
    "speed = 60.\n",
    "costPerGallon = 4.10\n",
    "time = distance / speed\n",
    "gallons = distance / mpg\n",
    "cost = gallons * costPerGallon\n",
    "print(time, gallons, cost)"
   ]
  },
  {
   "cell_type": "markdown",
   "metadata": {
    "slideshow": {
     "slide_type": "fragment"
    }
   },
   "source": [
    "The program prints out the results as a tuple of time (in hours), gasoline used (in gallons), and cost (in dollars)."
   ]
  },
  {
   "cell_type": "markdown",
   "metadata": {
    "slideshow": {
     "slide_type": "slide"
    }
   },
   "source": [
    "## Formatting output with `str.format()`"
   ]
  },
  {
   "cell_type": "code",
   "execution_count": 13,
   "metadata": {
    "cocalc": {
     "outputs": {
      "0": {
       "name": "input",
       "opts": {
        "password": false,
        "prompt": "Input distance of trip in miles: "
       },
       "output_type": "stream",
       "value": "10"
      }
     }
    }
   },
   "outputs": [
    {
     "name": "stdout",
     "output_type": "stream",
     "text": [
      "Input distance of trip in miles: 200\n",
      "\n",
      "Duration of trip = 3.3 hours\n",
      "Gasoline used = 6.7 gallons (@ 30 mpg)\n",
      "Cost of gasoline = $27.33 (@ $4.10/gallon)\n"
     ]
    }
   ],
   "source": [
    "distance = float(input(\"Input distance of trip in miles: \"))\n",
    "mpg = 30.\n",
    "speed = 60.\n",
    "costPerGallon = 4.10\n",
    "time = distance/speed\n",
    "gallons = distance/mpg\n",
    "cost = gallons*costPerGallon\n",
    "print(\"\\nDuration of trip = {0:0.1f} hours\".format(time)) \n",
    "print(\"Gasoline used = {0:0.1f} gallons (@ {1:0.0f} mpg)\"\n",
    ".format(gallons, mpg))\n",
    "print(\"Cost of gasoline = ${0:0.2f} (@ ${1:0.2f}/gallon)\"\n",
    "      .format(cost, costPerGallon))"
   ]
  },
  {
   "cell_type": "markdown",
   "metadata": {
    "slideshow": {
     "slide_type": "fragment"
    }
   },
   "source": [
    "The final two `print` function calls in this script are continued on a second line in order to improve readability."
   ]
  },
  {
   "cell_type": "markdown",
   "metadata": {
    "slideshow": {
     "slide_type": "slide"
    }
   },
   "source": [
    "The argument of the `print` function is of the form `str.format()` where `str` is a string that contains text that is written to be the screen, as well as certain format specifiers contained in curly braces `{}`. The `format` function contains the list of variables that are to be printed."
   ]
  },
  {
   "cell_type": "markdown",
   "metadata": {
    "slideshow": {
     "slide_type": "slide"
    }
   },
   "source": [
    "-   The `\\n` is the newline character. It creates the blank line before the output is printed.\n",
    "\n",
    "-   The positions of the curly braces determine where the variables in the `format` function at the end of the statement are printed.\n",
    "\n",
    "-   The format string inside the curly braces specifies how each variable in the `format` function is printed."
   ]
  },
  {
   "cell_type": "markdown",
   "metadata": {
    "slideshow": {
     "slide_type": "slide"
    }
   },
   "source": [
    "-   The number before the colon in the format string specifies which variable in the list in the `format` function is printed. Remember, Python is zero-indexed, so 0 means the first variable is printed, 1 means the second variable, *etc*.\n",
    "\n",
    "-   The zero after the colon specifies the *minimum* number of spaces reserved for printing out the variable in the format function. A zero means that only as many spaces as needed will be used.\n",
    "\n",
    "-   The number after the period specifies the number of digits to the right of the decimal point that will be printed: `1` for `time` and `gallons` and `2` for `cost`.\n",
    "\n",
    "-   The `f` specifies that a number with a fixed number of decimal points. If the `f` format specifier is replaced with `e`, then the number is printed out in exponential format (scientific notation)."
   ]
  },
  {
   "cell_type": "markdown",
   "metadata": {
    "slideshow": {
     "slide_type": "slide"
    }
   },
   "source": [
    "In addition to `f` and `e` format types, there are two more that are commonly used: `d` for integers (digits) and `s` for strings. \n",
    "\n",
    "There are many more formatting possibilities. <http://docs.python.org/library/string.html#formatspec>. "
   ]
  },
  {
   "cell_type": "markdown",
   "metadata": {
    "slideshow": {
     "slide_type": "slide"
    }
   },
   "source": [
    "Make predictions for the outputs."
   ]
  },
  {
   "cell_type": "code",
   "execution_count": 14,
   "metadata": {
    "slideshow": {
     "slide_type": "fragment"
    }
   },
   "outputs": [],
   "source": [
    "string1 = \"How\"\n",
    "string2 = \"are you my friend?\"\n",
    "int1 = 34\n",
    "int2 = 942885\n",
    "float1 = -3.0\n",
    "float2 = 3.141592653589793e-14"
   ]
  },
  {
   "cell_type": "code",
   "execution_count": 15,
   "metadata": {
    "slideshow": {
     "slide_type": "fragment"
    }
   },
   "outputs": [
    {
     "name": "stdout",
     "output_type": "stream",
     "text": [
      " ***\n",
      "How\n",
      "How are you my friend?\n"
     ]
    }
   ],
   "source": [
    "print(' ***')\n",
    "print(string1)\n",
    "print(string1 + ' ' + string2)"
   ]
  },
  {
   "cell_type": "code",
   "execution_count": 16,
   "metadata": {
    "slideshow": {
     "slide_type": "fragment"
    }
   },
   "outputs": [
    {
     "name": "stdout",
     "output_type": "stream",
     "text": [
      " 1. How are you my friend?\n",
      " 2. How are you my friend?\n",
      " 3. How How are you my friend? - How are you my friend?\n",
      " 4. How       are you my friend?\n"
     ]
    }
   ],
   "source": [
    "print(' 1. {} {}'.format(string1, string2)) \n",
    "print(' 2. {0:s} {1:s}'.format(string1, string2)) \n",
    "print(' 3. {0:s} {0:s} {1:s} - {0:s} {1:s}'.format(string1, string2)) \n",
    "print(' 4. {0:10s}{1:5s}'.format(string1, string2)) "
   ]
  },
  {
   "cell_type": "code",
   "execution_count": 17,
   "metadata": {
    "slideshow": {
     "slide_type": "slide"
    }
   },
   "outputs": [
    {
     "name": "stdout",
     "output_type": "stream",
     "text": [
      " ***\n",
      "34 942885\n",
      " 6. 34 942885\n",
      " 7.       34     942885\n",
      " ***\n",
      "-3.0\n",
      " 8. -3.000\n",
      " 9. -3.000\n",
      "10.   -3.000\n",
      "11.   -3.00011.   -3.000\n"
     ]
    }
   ],
   "source": [
    "print(' ***')\n",
    "print(int1, int2)\n",
    "print(' 6. {0:d} {1:d}'.format(int1, int2)) \n",
    "print(' 7. {0:8d} {1:10d}'.format(int1, int2)) \n",
    "print(' ***')\n",
    "print(float1)\n",
    "print(' 8. {0:0.3f}'.format(float1))\n",
    "print(' 9. {0:6.3f}'.format(float1)) \n",
    "print('10. {0:8.3f}'.format(float1)) \n",
    "print(2*'11. {0:8.3f}'.format(float1))"
   ]
  },
  {
   "cell_type": "code",
   "execution_count": 18,
   "metadata": {
    "slideshow": {
     "slide_type": "slide"
    }
   },
   "outputs": [
    {
     "name": "stdout",
     "output_type": "stream",
     "text": [
      " ***\n",
      "3.141592653589793e-14\n",
      "12. 3.142e-14\n",
      "13.  3.142e-14\n",
      "14.      0.000\n",
      " ***\n",
      "15. 12345678901234567890\n",
      "16. are you my friend?--      34, 3.142e-14\n"
     ]
    }
   ],
   "source": [
    "print(' ***')\n",
    "print(float2)\n",
    "print('12. {0:0.3e}'.format(float2)) \n",
    "print('13. {0:10.3e}'.format(float2)) \n",
    "print('14. {0:10.3f}'.format(float2))\n",
    "print(' ***')\n",
    "print('15. 12345678901234567890')\n",
    "print('16. {0:s}--{1:8d},{2:10.3e}'\n",
    "      .format(string2, int1, float2))"
   ]
  },
  {
   "cell_type": "markdown",
   "metadata": {
    "slideshow": {
     "slide_type": "slide"
    }
   },
   "source": [
    "## Printing arrays\n",
    "\n",
    "Formatting NumPy arrays for printing requires another approach. As an example, let's create an array and then format it in various ways. "
   ]
  },
  {
   "cell_type": "code",
   "execution_count": 19,
   "metadata": {
    "slideshow": {
     "slide_type": "fragment"
    }
   },
   "outputs": [],
   "source": [
    "import numpy as np"
   ]
  },
  {
   "cell_type": "code",
   "execution_count": 20,
   "metadata": {
    "slideshow": {
     "slide_type": "fragment"
    }
   },
   "outputs": [
    {
     "name": "stdout",
     "output_type": "stream",
     "text": [
      "[  3.           5.66666667   8.33333333  11.          13.66666667\n",
      "  16.33333333  19.        ]\n"
     ]
    }
   ],
   "source": [
    "a = np.linspace(3, 19, 7)\n",
    "print(a)"
   ]
  },
  {
   "cell_type": "markdown",
   "metadata": {
    "collapsed": true,
    "slideshow": {
     "slide_type": "slide"
    }
   },
   "source": [
    "Simply using the `print` function does print out the array, but perhaps not in the format you desire. \n",
    "\n",
    "To control the output format, you use the NumPy function `set_printoptions`. \n",
    "\n",
    "For example, suppose you want to see no more than two digits to the right of the decimal point. Then you simply write"
   ]
  },
  {
   "cell_type": "code",
   "execution_count": 21,
   "metadata": {
    "slideshow": {
     "slide_type": "fragment"
    }
   },
   "outputs": [],
   "source": [
    "np.set_printoptions(precision=2)"
   ]
  },
  {
   "cell_type": "code",
   "execution_count": 22,
   "metadata": {
    "slideshow": {
     "slide_type": "fragment"
    }
   },
   "outputs": [
    {
     "name": "stdout",
     "output_type": "stream",
     "text": [
      "[  3.     5.67   8.33  11.    13.67  16.33  19.  ]\n"
     ]
    }
   ],
   "source": [
    "print(a)"
   ]
  },
  {
   "cell_type": "markdown",
   "metadata": {
    "slideshow": {
     "slide_type": "slide"
    }
   },
   "source": [
    "If you want to change the number of digits to the right of the decimal point to 4, you set the keyword argument `precision` to 4"
   ]
  },
  {
   "cell_type": "code",
   "execution_count": 23,
   "metadata": {
    "slideshow": {
     "slide_type": "fragment"
    }
   },
   "outputs": [],
   "source": [
    "np.set_printoptions(precision=4)"
   ]
  },
  {
   "cell_type": "code",
   "execution_count": 24,
   "metadata": {
    "slideshow": {
     "slide_type": "fragment"
    }
   },
   "outputs": [
    {
     "name": "stdout",
     "output_type": "stream",
     "text": [
      "[  3.       5.6667   8.3333  11.      13.6667  16.3333  19.    ]\n"
     ]
    }
   ],
   "source": [
    "print(a)"
   ]
  },
  {
   "cell_type": "markdown",
   "metadata": {
    "slideshow": {
     "slide_type": "slide"
    }
   },
   "source": [
    "To return to the default format, type the following"
   ]
  },
  {
   "cell_type": "code",
   "execution_count": 25,
   "metadata": {
    "slideshow": {
     "slide_type": "fragment"
    }
   },
   "outputs": [],
   "source": [
    "np.set_printoptions(precision=8)"
   ]
  },
  {
   "cell_type": "code",
   "execution_count": 26,
   "metadata": {
    "slideshow": {
     "slide_type": "fragment"
    }
   },
   "outputs": [
    {
     "name": "stdout",
     "output_type": "stream",
     "text": [
      "[  3.           5.66666667   8.33333333  11.          13.66666667\n",
      "  16.33333333  19.        ]\n"
     ]
    }
   ],
   "source": [
    "print(a)"
   ]
  },
  {
   "cell_type": "markdown",
   "metadata": {
    "slideshow": {
     "slide_type": "slide"
    }
   },
   "source": [
    "The `set_printoptions` is a NumPy function, so if you use it in a script or program, you should call it by writing `np.set_printoptions`."
   ]
  },
  {
   "cell_type": "markdown",
   "metadata": {
    "slideshow": {
     "slide_type": "slide"
    }
   },
   "source": [
    "## File input\n",
    "\n",
    "### Reading data from a text file\n",
    "\n",
    "Often you would like to analyze data that you have stored in a text file. Consider, for example, the data file below for an experiment measuring the free fall of a mass."
   ]
  },
  {
   "cell_type": "code",
   "execution_count": 27,
   "metadata": {
    "slideshow": {
     "slide_type": "slide"
    }
   },
   "outputs": [
    {
     "name": "stdout",
     "output_type": "stream",
     "text": [
      "/bin/sh: /ext/anaconda3/lib/libtinfo.so.5: no version information available (required by /bin/sh)\r\n",
      "Data for falling mass experiment\r\n",
      "Date: 16-Aug-2013\r\n",
      "Data taken by Lauren and John\r\n",
      "\r\n",
      "data point      time (sec)      height (mm)     uncertainty (mm)\r\n",
      "    0               0               180             3.5\r\n",
      "    1               0.5             182             4.5\r\n",
      "    2               1               178             4.0\r\n",
      "    3               1.5             165             5.5\r\n",
      "    4               2               160             2.5\r\n",
      "    5               2.5             148             3.0\r\n",
      "    6               3               136             2.5\r\n",
      "    7               3.5             120             3.0\r\n",
      "    8               4                99             4.0\r\n",
      "    9               4.5              83             2.5\r\n",
      "   10               5                55             3.6\r\n",
      "   11               5.5              35             1.75\r\n",
      "   12               6                 5             0.75\r\n"
     ]
    }
   ],
   "source": [
    "%cat MyData.txt"
   ]
  },
  {
   "cell_type": "markdown",
   "metadata": {
    "slideshow": {
     "slide_type": "slide"
    }
   },
   "source": [
    "We would like to read these data into a Python program, associating the data in each column with an appropriately named array. \n",
    "\n",
    "While there are a multitude of ways to do this in Python, the simplest by far is to use the NumPy `loadtxt` function. "
   ]
  },
  {
   "cell_type": "markdown",
   "metadata": {
    "slideshow": {
     "slide_type": "slide"
    }
   },
   "source": [
    "Suppose that the name of the text file is `MyData.txt`. Then we can read the data into four different arrays with the following statement"
   ]
  },
  {
   "cell_type": "code",
   "execution_count": 50,
   "metadata": {
    "slideshow": {
     "slide_type": "fragment"
    }
   },
   "outputs": [],
   "source": [
    "dataPt, time, height, error = np.loadtxt(\"MyData.txt\", skiprows=5 , unpack=True)"
   ]
  },
  {
   "cell_type": "markdown",
   "metadata": {
    "slideshow": {
     "slide_type": "slide"
    }
   },
   "source": [
    "```python\n",
    "dataPt, time, height, error = np.loadtxt(\"MyData.txt\", skiprows=5 , unpack=True)\n",
    "```\n",
    "\n",
    "Arguments:\n",
    "\n",
    "1. the name of the file to be read\n",
    "\n",
    "2. skip the first 5 lines at the top of file, sometimes called the *header*\n",
    "\n",
    "3. output the data (*unpack* the data) so that it can be directly read into arrays. "
   ]
  },
  {
   "cell_type": "markdown",
   "metadata": {
    "slideshow": {
     "slide_type": "slide"
    }
   },
   "source": [
    "The names labeling the columns in the text file are not used, but you are free to choose the same or similar names, of course, as long as they are legal array names. \n",
    "\n",
    "If the file is not under your current folder, you need to specify the directory path with the file name.\n",
    "\n",
    "It is important that the data file be a *text* file. "
   ]
  },
  {
   "cell_type": "markdown",
   "metadata": {
    "slideshow": {
     "slide_type": "slide"
    }
   },
   "source": [
    "If you don't want to read in all the columns of data, you can specify which columns to read in using the `usecols` key word."
   ]
  },
  {
   "cell_type": "code",
   "execution_count": 29,
   "metadata": {
    "slideshow": {
     "slide_type": "fragment"
    }
   },
   "outputs": [],
   "source": [
    "time, height = np.loadtxt('MyData.txt', \n",
    "                       skiprows=5 , usecols = (1,2), unpack=True)"
   ]
  },
  {
   "cell_type": "markdown",
   "metadata": {
    "slideshow": {
     "slide_type": "subslide"
    }
   },
   "source": [
    "reads in only columns 1 and 2; columns 0 and 3 are skipped. \n",
    "\n",
    "Only two array names are included to the left of the \"`=`\" sign, corresponding to the two column that are read.\n",
    "\n",
    "Writing `usecols = (0,2,3)` would skip column 1 and read in only the data in colums 0, 2, and 3. In this case, 3 array names would need to be provided on the left hand side of the \"`=`\" sign."
   ]
  },
  {
   "cell_type": "markdown",
   "metadata": {
    "slideshow": {
     "slide_type": "slide"
    }
   },
   "source": [
    "One convenient feature of the `loadtxt` function is that it recognizes any *white space* as a column separator: spaces, tabs, *etc.*\n",
    "\n",
    "Finally you should remember that `loadtxt` is a NumPy function. So if you are using it in a Python module, you must be sure to include an \"`import numpy as np`\" statement before calling \"`np.loadtxt`\"."
   ]
  },
  {
   "cell_type": "markdown",
   "metadata": {
    "slideshow": {
     "slide_type": "slide"
    }
   },
   "source": [
    "## Reading data from a CSV file\n",
    "\n",
    "Sometimes you have data stored in a spreadsheet program like Excel that you would like to read into a Python program. The [fig-ExcelWindow](fig-ExcelWindow.ipynb) shown here contains the same data set we saw above in a text file.\n",
    "\n",
    "![Excel data sheet](ExcelDataFile.png)"
   ]
  },
  {
   "cell_type": "markdown",
   "metadata": {
    "slideshow": {
     "slide_type": "slide"
    }
   },
   "source": [
    "One of the simplest of most robust is to save the spreadsheet as a CSV (\"comma separated value\") file, a format which all common spreadsheet programs can create and read. \n",
    "\n",
    "So, if your Excel spreadsheet was called `MyData.xlsx`, the CSV file saved using Excel's `Save As` command would by default be `MyData.csv`. It would look like this\n"
   ]
  },
  {
   "cell_type": "code",
   "execution_count": 51,
   "metadata": {
    "slideshow": {
     "slide_type": "slide"
    }
   },
   "outputs": [],
   "source": [
    "%less MyData.csv"
   ]
  },
  {
   "cell_type": "markdown",
   "metadata": {
    "slideshow": {
     "slide_type": "slide"
    }
   },
   "source": [
    "The CSV file is simply a text file with the data that was formerly in spreadsheet columns now separated by commas. \n",
    "\n",
    "We can read the data in this file into a Python program using the `loadtxt` NumPy function once again. "
   ]
  },
  {
   "cell_type": "code",
   "execution_count": 31,
   "metadata": {
    "slideshow": {
     "slide_type": "slide"
    }
   },
   "outputs": [],
   "source": [
    "dataPt, time, height, error = np.loadtxt(\"MyData.csv\", \n",
    "                                      skiprows=5 , unpack=True, delimiter=',')"
   ]
  },
  {
   "cell_type": "markdown",
   "metadata": {
    "slideshow": {
     "slide_type": "fragment"
    }
   },
   "source": [
    "The form of the function is exactly the same as before except we have added the argument `delimiter=','` that tells `loadtxt` that the columns are separated by commas instead of white space (spaces or tabs), which is the default. "
   ]
  },
  {
   "cell_type": "markdown",
   "metadata": {
    "slideshow": {
     "slide_type": "slide"
    }
   },
   "source": [
    "## Writing data to a text file\n",
    "\n",
    "We will stick to one very simple one that's suitable for writing data files in text format. It uses the NumPy `savetxt` routine, which is the counterpart of the `loadtxt` routine. "
   ]
  },
  {
   "cell_type": "markdown",
   "metadata": {
    "slideshow": {
     "slide_type": "slide"
    }
   },
   "source": [
    "```python\n",
    "np.savetxt(filename, array, fmt=\"%0.18e\", delimiter=\" \", newline=\"\\n\", header=\"\", footer=\"\", comments=\"# \")\n",
    "```"
   ]
  },
  {
   "cell_type": "code",
   "execution_count": 32,
   "metadata": {
    "slideshow": {
     "slide_type": "fragment"
    }
   },
   "outputs": [],
   "source": [
    "import numpy as np\n",
    "\n",
    "dataPt, time, height, error = np.loadtxt(\"MyData.txt\", skiprows=5, unpack=True)\n",
    "\n",
    "np.savetxt('MyDataOut.txt', np.array([dataPt, time, height, error]).T, fmt=\"%12.1f\")"
   ]
  },
  {
   "cell_type": "markdown",
   "metadata": {
    "slideshow": {
     "slide_type": "fragment"
    }
   },
   "source": [
    "**[ds]** zip produces a separate object in python 3 and therefore the original script in the textbook does not work in python 3 for the `savetxt` line above.  "
   ]
  },
  {
   "cell_type": "code",
   "execution_count": 33,
   "metadata": {
    "slideshow": {
     "slide_type": "slide"
    }
   },
   "outputs": [
    {
     "name": "stdout",
     "output_type": "stream",
     "text": [
      "/bin/sh: /ext/anaconda3/lib/libtinfo.so.5: no version information available (required by /bin/sh)\r\n",
      "         0.0          0.0        180.0          3.5\r\n",
      "         1.0          0.5        182.0          4.5\r\n",
      "         2.0          1.0        178.0          4.0\r\n",
      "         3.0          1.5        165.0          5.5\r\n",
      "         4.0          2.0        160.0          2.5\r\n",
      "         5.0          2.5        148.0          3.0\r\n",
      "         6.0          3.0        136.0          2.5\r\n",
      "         7.0          3.5        120.0          3.0\r\n",
      "         8.0          4.0         99.0          4.0\r\n",
      "         9.0          4.5         83.0          2.5\r\n",
      "        10.0          5.0         55.0          3.6\r\n",
      "        11.0          5.5         35.0          1.8\r\n",
      "        12.0          6.0          5.0          0.8\r\n"
     ]
    }
   ],
   "source": [
    "%cat MyDataOut.txt"
   ]
  },
  {
   "cell_type": "markdown",
   "metadata": {
    "slideshow": {
     "slide_type": "slide"
    }
   },
   "source": [
    "```python\n",
    "np.savetxt(filename, array, fmt=\"%0.18e\", delimiter=\" \", newline=\"\\n\", header=\"\", footer=\"\", comments=\"# \")\n",
    "```\n",
    "\n",
    "__1.__ the name of the data file to be created. If there is already a file of that name on your computer, it will be overwritten.\n",
    "\n",
    "__2.__ the data array the is to be written to the data file. Because we want to write not one but four data arrays to the file, we have to package the four data arrays as one and then transpose to make them column.\n",
    "\n",
    "Note that the first two arguments, the filename and data array, are regular arguments and thus must appear as the first and second arguments in the correct order. "
   ]
  },
  {
   "cell_type": "markdown",
   "metadata": {
    "slideshow": {
     "slide_type": "slide"
    }
   },
   "source": [
    "```python\n",
    "np.savetxt(filename, array, fmt=\"%0.18e\", delimiter=\" \", newline=\"\\n\", header=\"\", footer=\"\", comments=\"# \")\n",
    "```\n",
    "\n",
    "The remaining arguments are all keyword arguments, meaning that they are optional and can appear in any order.\n",
    "\n",
    "__3.__ a format string that determines how the elements of the array are displayed in the data file. We choose  `12.1f`, which is a float displayed with 1 digit to the right of the decimal point and a minimum width of 12. By choosing 12, which is more digits than any of the numbers in the various arrays have, we ensure that all the columns will have the same width. It also ensures that the decimal points in column of numbers are aligned. "
   ]
  },
  {
   "cell_type": "code",
   "execution_count": 34,
   "metadata": {
    "slideshow": {
     "slide_type": "slide"
    }
   },
   "outputs": [
    {
     "name": "stdout",
     "output_type": "stream",
     "text": [
      "/bin/sh: /ext/anaconda3/lib/libtinfo.so.5: no version information available (required by /bin/sh)\r\n",
      "         0.0          0.0        180.0          3.5\r\n",
      "         1.0          0.5        182.0          4.5\r\n",
      "         2.0          1.0        178.0          4.0\r\n",
      "         3.0          1.5        165.0          5.5\r\n",
      "         4.0          2.0        160.0          2.5\r\n",
      "         5.0          2.5        148.0          3.0\r\n",
      "         6.0          3.0        136.0          2.5\r\n",
      "         7.0          3.5        120.0          3.0\r\n",
      "         8.0          4.0         99.0          4.0\r\n",
      "         9.0          4.5         83.0          2.5\r\n",
      "        10.0          5.0         55.0          3.6\r\n",
      "        11.0          5.5         35.0          1.8\r\n",
      "        12.0          6.0          5.0          0.8\r\n"
     ]
    }
   ],
   "source": [
    "%cat MyDataOut.txt"
   ]
  },
  {
   "cell_type": "markdown",
   "metadata": {
    "slideshow": {
     "slide_type": "slide"
    }
   },
   "source": [
    "```python\n",
    "np.savetxt(filename, array, fmt=\"%0.18e\", delimiter=\" \", newline=\"\\n\", header=\"\", footer=\"\", comments=\"# \")\n",
    "```\n",
    "\n",
    "__4.__ `delimiter` keyword argument, which leaves the delimiter as the default space.\n",
    "\n",
    "__5.__ `header` keyword argument, which is a string variable that allows you to write header text above the data. \n"
   ]
  },
  {
   "cell_type": "code",
   "execution_count": 35,
   "metadata": {
    "slideshow": {
     "slide_type": "slide"
    }
   },
   "outputs": [],
   "source": [
    "import numpy as np\n",
    "\n",
    "dataPt, time, height, error = np.loadtxt(\"MyData.txt\",\n",
    "                                 skiprows=5, unpack=True)\n",
    "info = 'Data for falling mass experiment'\n",
    "info += '\\nDate: 16-Aug-2013'\n",
    "info += '\\nData taken by Lauren and John'\n",
    "info += '\\n\\n data point time (sec) height (mm) ' \n",
    "info += 'uncertainty (mm)'\n",
    "\n",
    "np.savetxt('MyDataOut.txt', np.array([dataPt, time, height, error]).T, header=info, fmt=\"%12.1f\")"
   ]
  },
  {
   "cell_type": "markdown",
   "metadata": {
    "slideshow": {
     "slide_type": "slide"
    }
   },
   "source": [
    "Now the data file produces has a header preceding the data. Notice that the header rows all start with a `#` comment character, which is the default setting for the `savetxt` function. This can be changed using the keyword argument `comments`. You can find more information about `savetxt` using the IPython `help` function or from the online NumPy documentation."
   ]
  },
  {
   "cell_type": "code",
   "execution_count": 36,
   "metadata": {
    "slideshow": {
     "slide_type": "slide"
    }
   },
   "outputs": [
    {
     "name": "stdout",
     "output_type": "stream",
     "text": [
      "/bin/sh: /ext/anaconda3/lib/libtinfo.so.5: no version information available (required by /bin/sh)\r\n",
      "ExcelDataFile.png  MyData.txt   MyDataOut.csv  TestData.txt\r\n",
      "MyData.csv         MyData.xlsx  MyDataOut.txt  chap4_io-slides.ipynb\r\n"
     ]
    }
   ],
   "source": [
    "%ls"
   ]
  },
  {
   "cell_type": "code",
   "execution_count": 37,
   "metadata": {
    "slideshow": {
     "slide_type": "slide"
    }
   },
   "outputs": [
    {
     "name": "stdout",
     "output_type": "stream",
     "text": [
      "/bin/sh: /ext/anaconda3/lib/libtinfo.so.5: no version information available (required by /bin/sh)\r\n",
      "# Data for falling mass experiment\r\n",
      "# Date: 16-Aug-2013\r\n",
      "# Data taken by Lauren and John\r\n",
      "# \r\n",
      "#  data point time (sec) height (mm) uncertainty (mm)\r\n",
      "         0.0          0.0        180.0          3.5\r\n",
      "         1.0          0.5        182.0          4.5\r\n",
      "         2.0          1.0        178.0          4.0\r\n",
      "         3.0          1.5        165.0          5.5\r\n",
      "         4.0          2.0        160.0          2.5\r\n",
      "         5.0          2.5        148.0          3.0\r\n",
      "         6.0          3.0        136.0          2.5\r\n",
      "         7.0          3.5        120.0          3.0\r\n",
      "         8.0          4.0         99.0          4.0\r\n",
      "         9.0          4.5         83.0          2.5\r\n",
      "        10.0          5.0         55.0          3.6\r\n",
      "        11.0          5.5         35.0          1.8\r\n",
      "        12.0          6.0          5.0          0.8\r\n"
     ]
    }
   ],
   "source": [
    "%cat MyDataOut.txt"
   ]
  },
  {
   "cell_type": "markdown",
   "metadata": {
    "slideshow": {
     "slide_type": "slide"
    }
   },
   "source": [
    "## Writing data to a CSV file\n",
    "\n",
    "To produce a CSV file, you would specify a comma as the delimiter. You might use the `0.1f` format specifier, which leaves no extra spaces between the comma data separators, as the file is to be read by a spreadsheet program, which will determine how the numbers are displayed. The code, which could be substituted for the `savetxt` line in the above code reads."
   ]
  },
  {
   "cell_type": "code",
   "execution_count": 38,
   "metadata": {
    "slideshow": {
     "slide_type": "fragment"
    }
   },
   "outputs": [],
   "source": [
    "np.savetxt('MyDataOut.csv', np.asarray([dataPt, time, height, error]).T, fmt=\"%0.1f\", delimiter=\",\")"
   ]
  },
  {
   "cell_type": "code",
   "execution_count": 39,
   "metadata": {
    "slideshow": {
     "slide_type": "slide"
    }
   },
   "outputs": [
    {
     "name": "stdout",
     "output_type": "stream",
     "text": [
      "/bin/sh: /ext/anaconda3/lib/libtinfo.so.5: no version information available (required by /bin/sh)\r\n",
      "0.0,0.0,180.0,3.5\r\n",
      "1.0,0.5,182.0,4.5\r\n",
      "2.0,1.0,178.0,4.0\r\n",
      "3.0,1.5,165.0,5.5\r\n",
      "4.0,2.0,160.0,2.5\r\n",
      "5.0,2.5,148.0,3.0\r\n",
      "6.0,3.0,136.0,2.5\r\n",
      "7.0,3.5,120.0,3.0\r\n",
      "8.0,4.0,99.0,4.0\r\n",
      "9.0,4.5,83.0,2.5\r\n",
      "10.0,5.0,55.0,3.6\r\n",
      "11.0,5.5,35.0,1.8\r\n",
      "12.0,6.0,5.0,0.8\r\n"
     ]
    }
   ],
   "source": [
    "%cat MyDataOut.csv"
   ]
  }
 ],
 "metadata": {
  "celltoolbar": "Slideshow",
  "kernelspec": {
   "display_name": "Python 3 (Anaconda)",
   "language": "python",
   "name": "anaconda3"
  },
  "language_info": {
   "codemirror_mode": {
    "name": "ipython",
    "version": 3
   },
   "file_extension": ".py",
   "mimetype": "text/x-python",
   "name": "python",
   "nbconvert_exporter": "python",
   "pygments_lexer": "ipython3",
   "version": "3.5.4"
  }
 },
 "nbformat": 4,
 "nbformat_minor": 1
}

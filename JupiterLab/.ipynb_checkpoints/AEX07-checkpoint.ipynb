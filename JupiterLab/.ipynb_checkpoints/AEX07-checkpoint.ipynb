{
 "cells": [
  {
   "cell_type": "markdown",
   "metadata": {
    "collapsed": false,
    "slideshow": {
     "slide_type": "slide"
    }
   },
   "source": [
    "## Exercises"
   ]
  },
  {
   "cell_type": "markdown",
   "metadata": {
    "collapsed": false,
    "slideshow": {
     "slide_type": "slide"
    }
   },
   "source": [
    "Write a function to calculate the factorial function using a Python `for` loop."
   ]
  },
  {
   "cell_type": "code",
   "execution_count": 1,
   "metadata": {
    "collapsed": false,
    "slideshow": {
     "slide_type": "slide"
    }
   },
   "outputs": [
   ],
   "source": [
    "def factorial(z):\n",
    "    a = 1\n",
    "    for i in range(z,0,-1):\n",
    "        a = i * a \n",
    "    return a"
   ]
  },
  {
   "cell_type": "code",
   "execution_count": 15,
   "metadata": {
    "collapsed": false,
    "slideshow": {
     "slide_type": "fragment"
    }
   },
   "outputs": [
    {
     "data": {
      "text/plain": [
       "24"
      ]
     },
     "execution_count": 15,
     "metadata": {
     },
     "output_type": "execute_result"
    }
   ],
   "source": [
    "factorial(4)"
   ]
  },
  {
   "cell_type": "markdown",
   "metadata": {
    "collapsed": false,
    "slideshow": {
     "slide_type": "slide"
    }
   },
   "source": [
    "Write a function to return `True` if a number is a prime number.  If not, it needs to return `False`."
   ]
  },
  {
   "cell_type": "code",
   "execution_count": 1,
   "metadata": {
    "collapsed": false,
    "slideshow": {
     "slide_type": "slide"
    }
   },
   "outputs": [
   ],
   "source": [
    "def prime_number(n):\n",
    "    i = 2\n",
    "    while (n % i) != 0: \n",
    "        i += 1\n",
    "    if i == n:\n",
    "        return True\n",
    "    else:\n",
    "        return False"
   ]
  },
  {
   "cell_type": "code",
   "execution_count": 3,
   "metadata": {
    "collapsed": false,
    "slideshow": {
     "slide_type": "fragment"
    }
   },
   "outputs": [
    {
     "data": {
      "text/plain": [
       "True"
      ]
     },
     "execution_count": 3,
     "metadata": {
     },
     "output_type": "execute_result"
    }
   ],
   "source": [
    "prime_number(3)"
   ]
  },
  {
   "cell_type": "markdown",
   "metadata": {
    "collapsed": false,
    "slideshow": {
     "slide_type": "slide"
    }
   },
   "source": [
    "Write a script to print prime numbers between 1000 and 1100 using the `prime_number` function."
   ]
  },
  {
   "cell_type": "code",
   "execution_count": 4,
   "metadata": {
    "collapsed": false,
    "slideshow": {
     "slide_type": "slide"
    }
   },
   "outputs": [
    {
     "name": "stdout",
     "output_type": "stream",
     "text": [
      "1009\n",
      "1013\n",
      "1019\n",
      "1021\n",
      "1031\n",
      "1033\n",
      "1039\n",
      "1049\n",
      "1051\n",
      "1061\n",
      "1063\n",
      "1069\n",
      "1087\n",
      "1091\n",
      "1093\n",
      "1097\n"
     ]
    }
   ],
   "source": [
    "for n in range(1000, 1101):\n",
    "    if prime_number(n):\n",
    "        print(n)\n",
    "        "
   ]
  },
  {
   "cell_type": "markdown",
   "metadata": {
    "collapsed": false,
    "slideshow": {
     "slide_type": "slide"
    }
   },
   "source": [
    "Write a function to print a multiplication table of `n`"
   ]
  },
  {
   "cell_type": "code",
   "execution_count": 5,
   "metadata": {
    "collapsed": false,
    "slideshow": {
     "slide_type": "slide"
    }
   },
   "outputs": [
   ],
   "source": [
    "def print_multiplication_table_of(n):\n",
    "    multi_tab = {}\n",
    "\n",
    "    print('Multiplication table of ', n)\n",
    "    for j in range(1,10):\n",
    "        multi_tab[\"{0:}x{1:}\".format(n,j)] = n * j\n",
    "\n",
    "    print(multi_tab)"
   ]
  },
  {
   "cell_type": "code",
   "execution_count": 6,
   "metadata": {
    "collapsed": false,
    "slideshow": {
     "slide_type": "fragment"
    }
   },
   "outputs": [
    {
     "name": "stdout",
     "output_type": "stream",
     "text": [
      "Multiplication table of  3\n",
      "{'3x5': 15, '3x6': 18, '3x9': 27, '3x7': 21, '3x4': 12, '3x2': 6, '3x8': 24, '3x3': 9, '3x1': 3}\n"
     ]
    }
   ],
   "source": [
    "print_multiplication_table_of(3)"
   ]
  },
  {
   "cell_type": "markdown",
   "metadata": {
    "collapsed": false,
    "slideshow": {
     "slide_type": "slide"
    }
   },
   "source": [
    "Write a script to print multiplication table from 1 to 9 using the `print_multiplication_table_of` function."
   ]
  },
  {
   "cell_type": "code",
   "execution_count": 5,
   "metadata": {
    "collapsed": false,
    "slideshow": {
     "slide_type": "slide"
    }
   },
   "outputs": [
    {
     "name": "stdout",
     "output_type": "stream",
     "text": [
      "Multiplication table of  1\n",
      "{'1x1': 1, '1x6': 6, '1x4': 4, '1x7': 7, '1x5': 5, '1x8': 8, '1x9': 9, '1x2': 2, '1x3': 3}\n",
      "Multiplication table of  2\n",
      "{'2x9': 18, '2x5': 10, '2x1': 2, '2x7': 14, '2x8': 16, '2x3': 6, '2x2': 4, '2x4': 8, '2x6': 12}\n",
      "Multiplication table of  3\n",
      "{'3x7': 21, '3x4': 12, '3x5': 15, '3x3': 9, '3x1': 3, '3x6': 18, '3x8': 24, '3x2': 6, '3x9': 27}\n",
      "Multiplication table of  4\n",
      "{'4x3': 12, '4x8': 32, '4x2': 8, '4x1': 4, '4x7': 28, '4x9': 36, '4x5': 20, '4x6': 24, '4x4': 16}\n",
      "Multiplication table of  5\n",
      "{'5x8': 40, '5x5': 25, '5x9': 45, '5x1': 5, '5x7': 35, '5x3': 15, '5x4': 20, '5x2': 10, '5x6': 30}\n",
      "Multiplication table of  6\n",
      "{'6x5': 30, '6x3': 18, '6x4': 24, '6x7': 42, '6x2': 12, '6x8': 48, '6x6': 36, '6x1': 6, '6x9': 54}\n",
      "Multiplication table of  7\n",
      "{'7x5': 35, '7x8': 56, '7x1': 7, '7x4': 28, '7x7': 49, '7x3': 21, '7x2': 14, '7x9': 63, '7x6': 42}\n",
      "Multiplication table of  8\n",
      "{'8x6': 48, '8x2': 16, '8x4': 32, '8x3': 24, '8x8': 64, '8x5': 40, '8x1': 8, '8x9': 72, '8x7': 56}\n",
      "Multiplication table of  9\n",
      "{'9x4': 36, '9x5': 45, '9x8': 72, '9x9': 81, '9x6': 54, '9x1': 9, '9x2': 18, '9x3': 27, '9x7': 63}\n"
     ]
    }
   ],
   "source": [
    "for i in range(1,10):\n",
    "    print_multiplication_table_of(i)"
   ]
  },
  {
   "cell_type": "markdown",
   "metadata": {
    "collapsed": false,
    "slideshow": {
     "slide_type": "slide"
    }
   },
   "source": [
    "Write a function which will returns a list containing all such numbers which are divisible by 7 but are not a multiple of an integer, `n`, between two integers (i_low, i_high) (both included)."
   ]
  },
  {
   "cell_type": "code",
   "execution_count": 6,
   "metadata": {
    "collapsed": false,
    "slideshow": {
     "slide_type": "slide"
    }
   },
   "outputs": [
   ],
   "source": [
    "def div_7_not(n, i_low, i_high):\n",
    "    l = []\n",
    "    for i in range(i_low, i_high + 1):\n",
    "        if (i % 7 == 0) and (i % n != 0):\n",
    "            l.append(str(i))\n",
    "    return l\n",
    "    "
   ]
  },
  {
   "cell_type": "code",
   "execution_count": 7,
   "metadata": {
    "collapsed": false,
    "slideshow": {
     "slide_type": "slide"
    }
   },
   "outputs": [
    {
     "data": {
      "text/plain": [
       "['2002',\n",
       " '2009',\n",
       " '2016',\n",
       " '2023',\n",
       " '2037',\n",
       " '2044',\n",
       " '2051',\n",
       " '2058',\n",
       " '2072',\n",
       " '2079',\n",
       " '2086',\n",
       " '2093',\n",
       " '2107',\n",
       " '2114',\n",
       " '2121',\n",
       " '2128',\n",
       " '2142',\n",
       " '2149',\n",
       " '2156',\n",
       " '2163',\n",
       " '2177',\n",
       " '2184',\n",
       " '2191',\n",
       " '2198',\n",
       " '2212',\n",
       " '2219',\n",
       " '2226',\n",
       " '2233',\n",
       " '2247',\n",
       " '2254',\n",
       " '2261',\n",
       " '2268',\n",
       " '2282',\n",
       " '2289',\n",
       " '2296',\n",
       " '2303',\n",
       " '2317',\n",
       " '2324',\n",
       " '2331',\n",
       " '2338',\n",
       " '2352',\n",
       " '2359',\n",
       " '2366',\n",
       " '2373',\n",
       " '2387',\n",
       " '2394',\n",
       " '2401',\n",
       " '2408',\n",
       " '2422',\n",
       " '2429',\n",
       " '2436',\n",
       " '2443',\n",
       " '2457',\n",
       " '2464',\n",
       " '2471',\n",
       " '2478',\n",
       " '2492',\n",
       " '2499',\n",
       " '2506',\n",
       " '2513',\n",
       " '2527',\n",
       " '2534',\n",
       " '2541',\n",
       " '2548',\n",
       " '2562',\n",
       " '2569',\n",
       " '2576',\n",
       " '2583',\n",
       " '2597',\n",
       " '2604',\n",
       " '2611',\n",
       " '2618',\n",
       " '2632',\n",
       " '2639',\n",
       " '2646',\n",
       " '2653',\n",
       " '2667',\n",
       " '2674',\n",
       " '2681',\n",
       " '2688',\n",
       " '2702',\n",
       " '2709',\n",
       " '2716',\n",
       " '2723',\n",
       " '2737',\n",
       " '2744',\n",
       " '2751',\n",
       " '2758',\n",
       " '2772',\n",
       " '2779',\n",
       " '2786',\n",
       " '2793',\n",
       " '2807',\n",
       " '2814',\n",
       " '2821',\n",
       " '2828',\n",
       " '2842',\n",
       " '2849',\n",
       " '2856',\n",
       " '2863',\n",
       " '2877',\n",
       " '2884',\n",
       " '2891',\n",
       " '2898',\n",
       " '2912',\n",
       " '2919',\n",
       " '2926',\n",
       " '2933',\n",
       " '2947',\n",
       " '2954',\n",
       " '2961',\n",
       " '2968',\n",
       " '2982',\n",
       " '2989',\n",
       " '2996',\n",
       " '3003',\n",
       " '3017',\n",
       " '3024',\n",
       " '3031',\n",
       " '3038',\n",
       " '3052',\n",
       " '3059',\n",
       " '3066',\n",
       " '3073',\n",
       " '3087',\n",
       " '3094',\n",
       " '3101',\n",
       " '3108',\n",
       " '3122',\n",
       " '3129',\n",
       " '3136',\n",
       " '3143',\n",
       " '3157',\n",
       " '3164',\n",
       " '3171',\n",
       " '3178',\n",
       " '3192',\n",
       " '3199']"
      ]
     },
     "execution_count": 7,
     "metadata": {
     },
     "output_type": "execute_result"
    }
   ],
   "source": [
    "div_7_not(5, 2000, 3200)"
   ]
  },
  {
   "cell_type": "markdown",
   "metadata": {
    "collapsed": false,
    "slideshow": {
     "slide_type": "slide"
    }
   },
   "source": [
    "Write a function to calculate the Fibonacci numbers smaller than `n` using a `while` loop."
   ]
  },
  {
   "cell_type": "code",
   "execution_count": 1,
   "metadata": {
    "collapsed": false,
    "slideshow": {
     "slide_type": "slide"
    }
   },
   "outputs": [
   ],
   "source": [
    "def fibonacci(n):\n",
    "    result = []\n",
    "    x, y = 0, 1\n",
    "    while x < n:\n",
    "        result.append(x)\n",
    "        x, y = y, x + y\n",
    "    return result"
   ]
  },
  {
   "cell_type": "code",
   "execution_count": 2,
   "metadata": {
    "collapsed": false,
    "slideshow": {
     "slide_type": "slide"
    }
   },
   "outputs": [
    {
     "data": {
      "text/plain": [
       "[0, 1, 1, 2, 3, 5, 8, 13, 21, 34, 55, 89, 144, 233, 377, 610, 987]"
      ]
     },
     "execution_count": 2,
     "metadata": {
     },
     "output_type": "execute_result"
    }
   ],
   "source": [
    "fibonacci(1000)"
   ]
  },
  {
   "cell_type": "markdown",
   "metadata": {
    "collapsed": false,
    "slideshow": {
     "slide_type": "slide"
    }
   },
   "source": [
    "Using the `circle` function in the lecture note draw a circle in a graph using `matplotlib`."
   ]
  },
  {
   "cell_type": "code",
   "execution_count": 8,
   "metadata": {
    "collapsed": false,
    "slideshow": {
     "slide_type": "slide"
    }
   },
   "outputs": [
   ],
   "source": [
    "def circle(r, x0=0.0, y0=0.0, n=12):  \n",
    "    theta = np.linspace(0., 2.*np.pi, n, endpoint=False) \n",
    "    x = r * np.cos(theta) \n",
    "    y = r * np.sin(theta) \n",
    "    return x0+x, y0+y"
   ]
  },
  {
   "cell_type": "code",
   "execution_count": 11,
   "metadata": {
    "collapsed": false,
    "slideshow": {
     "slide_type": "slide"
    }
   },
   "outputs": [
    {
     "data": {
      "image/png": "[encoded data removed]"
     },
     "execution_count": 11,
     "metadata": {
     },
     "output_type": "execute_result"
    }
   ],
   "source": [
    "import matplotlib.pyplot as plt\n",
    "import numpy as np\n",
    "\n",
    "x, y = circle(3., n=100)\n",
    "plt.plot(x, y)\n",
    "plt.axis('equal');"
   ]
  },
  {
   "cell_type": "markdown",
   "metadata": {
    "collapsed": false,
    "slideshow": {
     "slide_type": "slide"
    }
   },
   "source": [
    "Write a script to plot 10 concentric circles with $r_i = 2 \\times r_{i-1}$. "
   ]
  },
  {
   "cell_type": "code",
   "execution_count": 28,
   "metadata": {
    "collapsed": false,
    "slideshow": {
     "slide_type": "slide"
    }
   },
   "outputs": [
    {
     "data": {
      "image/png": "[encoded data removed]"
     },
     "execution_count": 28,
     "metadata": {
     },
     "output_type": "execute_result"
    }
   ],
   "source": [
    "radius = 1.\n",
    "import numpy.random as rand\n",
    "for i in range(0,10):\n",
    "    radius *= 2.\n",
    "    x, y = circle(10., x0=rand.rand(1)*500, \n",
    "                  y0=rand.rand(1)*500, n=100)\n",
    "    plt.plot(x, y)\n",
    "plt.axis('equal');"
   ]
  },
  {
   "cell_type": "code",
   "execution_count": 0,
   "metadata": {
    "collapsed": false
   },
   "outputs": [
   ],
   "source": [
   ]
  }
 ],
 "metadata": {
  "celltoolbar": "Slideshow",
  "kernelspec": {
   "display_name": "Python 3 (Anaconda)",
   "language": "python",
   "name": "anaconda3"
  },
  "language_info": {
   "codemirror_mode": {
    "name": "ipython",
    "version": 3
   },
   "file_extension": ".py",
   "mimetype": "text/x-python",
   "name": "python",
   "nbconvert_exporter": "python",
   "pygments_lexer": "ipython3",
   "version": "3.5.4"
  }
 },
 "nbformat": 4,
 "nbformat_minor": 0
}
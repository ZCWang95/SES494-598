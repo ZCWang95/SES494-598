{
 "cells": [
  {
   "cell_type": "markdown",
   "metadata": {},
   "source": [
    "# Object-oriented programing"
   ]
  },
  {
   "cell_type": "markdown",
   "metadata": {},
   "source": [
    "- There is another way in which Python implements things that act like functions.\n",
    "\n",
    "- To understand what they are, you need to understand that variables, strings, arrays, lists, and other such data structures in Python are not merely the numbers or strings we have defined them to be. They are objects.\n",
    "\n",
    "- In general, an object in Python has associated with it a number of attributes and a number of specialized functions called methods that act on the object.\n",
    "\n",
    "- OOP gives the user more options and greater control. Perhaps the most efficient way to learn this alternative syntax is to look at an example. "
   ]
  },
  {
   "cell_type": "markdown",
   "metadata": {},
   "source": [
    "## Methods and attributes\n",
    "In general, an object in Python has associated with it a number of *attributes* and a number of specialized functions called *methods* that act on the object. \n",
    "\n"
   ]
  },
  {
   "cell_type": "code",
   "execution_count": 4,
   "metadata": {},
   "outputs": [],
   "source": [
    "import numpy as np\n",
    "a = np.arange(10.0)"
   ]
  },
  {
   "cell_type": "markdown",
   "metadata": {},
   "source": [
    "In the above, the variable $a$ is a numpy array. It is also an $object$. As an object, it has $attributes$ and $methods$"
   ]
  },
  {
   "cell_type": "code",
   "execution_count": 5,
   "metadata": {},
   "outputs": [
    {
     "data": {
      "text/plain": [
       "10"
      ]
     },
     "execution_count": 5,
     "metadata": {},
     "output_type": "execute_result"
    }
   ],
   "source": [
    "a.size"
   ]
  },
  {
   "cell_type": "markdown",
   "metadata": {},
   "source": [
    "Here, $size$ is one of the attributes of object $a$, which gives the number of elements in this object."
   ]
  },
  {
   "cell_type": "code",
   "execution_count": 6,
   "metadata": {},
   "outputs": [
    {
     "data": {
      "text/plain": [
       "dtype('float64')"
      ]
     },
     "execution_count": 6,
     "metadata": {},
     "output_type": "execute_result"
    }
   ],
   "source": [
    "a.dtype"
   ]
  },
  {
   "cell_type": "markdown",
   "metadata": {},
   "source": [
    "Here, $dtype$ is another $attibute$ of obejct $a$, which is the data type of each elements of array $a$."
   ]
  },
  {
   "cell_type": "markdown",
   "metadata": {},
   "source": [
    "We see that the attibutes of an object stores lots of important informatino for an object.\n",
    "\n",
    "In general, attributes involve properties of the object that are stored by Python with the object and require no computation. Python just looks up the attribute and returns its value."
   ]
  },
  {
   "cell_type": "markdown",
   "metadata": {},
   "source": [
    "In contrast to attributes, methods generally involve Python performing some kind of computation. "
   ]
  },
  {
   "cell_type": "markdown",
   "metadata": {},
   "source": [
    "Methods are accessed in a fashion similar to attributes, by\n",
    "appending a period followed the method's name, which is followed by a\n",
    "pair of open-close parentheses, consistent with methods being a kind of\n",
    "function that acts on the object. "
   ]
  },
  {
   "cell_type": "code",
   "execution_count": 7,
   "metadata": {},
   "outputs": [
    {
     "data": {
      "text/plain": [
       "45.0"
      ]
     },
     "execution_count": 7,
     "metadata": {},
     "output_type": "execute_result"
    }
   ],
   "source": [
    "a.sum() #summation"
   ]
  },
  {
   "cell_type": "code",
   "execution_count": 8,
   "metadata": {},
   "outputs": [
    {
     "data": {
      "text/plain": [
       "4.5"
      ]
     },
     "execution_count": 8,
     "metadata": {},
     "output_type": "execute_result"
    }
   ],
   "source": [
    "a.mean() #average"
   ]
  },
  {
   "cell_type": "code",
   "execution_count": 9,
   "metadata": {},
   "outputs": [
    {
     "data": {
      "text/plain": [
       "2.8722813232690143"
      ]
     },
     "execution_count": 9,
     "metadata": {},
     "output_type": "execute_result"
    }
   ],
   "source": [
    "a.std() #standard deviation"
   ]
  },
  {
   "cell_type": "markdown",
   "metadata": {},
   "source": [
    "#### How many attributes and methods do a numpy array has? What are they?"
   ]
  },
  {
   "cell_type": "code",
   "execution_count": 55,
   "metadata": {},
   "outputs": [
    {
     "data": {
      "text/plain": [
       "['__class__',\n",
       " '__delattr__',\n",
       " '__dict__',\n",
       " '__dir__',\n",
       " '__doc__',\n",
       " '__eq__',\n",
       " '__format__',\n",
       " '__ge__',\n",
       " '__getattribute__',\n",
       " '__gt__',\n",
       " '__hash__',\n",
       " '__init__',\n",
       " '__init_subclass__',\n",
       " '__le__',\n",
       " '__lt__',\n",
       " '__module__',\n",
       " '__ne__',\n",
       " '__new__',\n",
       " '__reduce__',\n",
       " '__reduce_ex__',\n",
       " '__repr__',\n",
       " '__setattr__',\n",
       " '__sizeof__',\n",
       " '__str__',\n",
       " '__subclasshook__',\n",
       " '__weakref__']"
      ]
     },
     "execution_count": 55,
     "metadata": {},
     "output_type": "execute_result"
    }
   ],
   "source": [
    "dir(a)"
   ]
  },
  {
   "cell_type": "markdown",
   "metadata": {},
   "source": [
    "#### Be more inofrmative on the $dir$ function"
   ]
  },
  {
   "cell_type": "code",
   "execution_count": 13,
   "metadata": {},
   "outputs": [
    {
     "data": {
      "text/plain": [
       "[('T', 'attr'),\n",
       " ('__abs__', 'func'),\n",
       " ('__add__', 'func'),\n",
       " ('__and__', 'func'),\n",
       " ('__array__', 'func'),\n",
       " ('__array_finalize__', 'attr'),\n",
       " ('__array_interface__', 'attr'),\n",
       " ('__array_prepare__', 'func'),\n",
       " ('__array_priority__', 'attr'),\n",
       " ('__array_struct__', 'attr'),\n",
       " ('__array_ufunc__', 'func'),\n",
       " ('__array_wrap__', 'func'),\n",
       " ('__bool__', 'func'),\n",
       " ('__class__', 'func'),\n",
       " ('__complex__', 'func'),\n",
       " ('__contains__', 'func'),\n",
       " ('__copy__', 'func'),\n",
       " ('__deepcopy__', 'func'),\n",
       " ('__delattr__', 'func'),\n",
       " ('__delitem__', 'func'),\n",
       " ('__dir__', 'func'),\n",
       " ('__divmod__', 'func'),\n",
       " ('__doc__', 'attr'),\n",
       " ('__eq__', 'func'),\n",
       " ('__float__', 'func'),\n",
       " ('__floordiv__', 'func'),\n",
       " ('__format__', 'func'),\n",
       " ('__ge__', 'func'),\n",
       " ('__getattribute__', 'func'),\n",
       " ('__getitem__', 'func'),\n",
       " ('__gt__', 'func'),\n",
       " ('__hash__', 'attr'),\n",
       " ('__iadd__', 'func'),\n",
       " ('__iand__', 'func'),\n",
       " ('__ifloordiv__', 'func'),\n",
       " ('__ilshift__', 'func'),\n",
       " ('__imatmul__', 'func'),\n",
       " ('__imod__', 'func'),\n",
       " ('__imul__', 'func'),\n",
       " ('__index__', 'func'),\n",
       " ('__init__', 'func'),\n",
       " ('__init_subclass__', 'func'),\n",
       " ('__int__', 'func'),\n",
       " ('__invert__', 'func'),\n",
       " ('__ior__', 'func'),\n",
       " ('__ipow__', 'func'),\n",
       " ('__irshift__', 'func'),\n",
       " ('__isub__', 'func'),\n",
       " ('__iter__', 'func'),\n",
       " ('__itruediv__', 'func'),\n",
       " ('__ixor__', 'func'),\n",
       " ('__le__', 'func'),\n",
       " ('__len__', 'func'),\n",
       " ('__lshift__', 'func'),\n",
       " ('__lt__', 'func'),\n",
       " ('__matmul__', 'func'),\n",
       " ('__mod__', 'func'),\n",
       " ('__mul__', 'func'),\n",
       " ('__ne__', 'func'),\n",
       " ('__neg__', 'func'),\n",
       " ('__new__', 'func'),\n",
       " ('__or__', 'func'),\n",
       " ('__pos__', 'func'),\n",
       " ('__pow__', 'func'),\n",
       " ('__radd__', 'func'),\n",
       " ('__rand__', 'func'),\n",
       " ('__rdivmod__', 'func'),\n",
       " ('__reduce__', 'func'),\n",
       " ('__reduce_ex__', 'func'),\n",
       " ('__repr__', 'func'),\n",
       " ('__rfloordiv__', 'func'),\n",
       " ('__rlshift__', 'func'),\n",
       " ('__rmatmul__', 'func'),\n",
       " ('__rmod__', 'func'),\n",
       " ('__rmul__', 'func'),\n",
       " ('__ror__', 'func'),\n",
       " ('__rpow__', 'func'),\n",
       " ('__rrshift__', 'func'),\n",
       " ('__rshift__', 'func'),\n",
       " ('__rsub__', 'func'),\n",
       " ('__rtruediv__', 'func'),\n",
       " ('__rxor__', 'func'),\n",
       " ('__setattr__', 'func'),\n",
       " ('__setitem__', 'func'),\n",
       " ('__setstate__', 'func'),\n",
       " ('__sizeof__', 'func'),\n",
       " ('__str__', 'func'),\n",
       " ('__sub__', 'func'),\n",
       " ('__subclasshook__', 'func'),\n",
       " ('__truediv__', 'func'),\n",
       " ('__xor__', 'func'),\n",
       " ('all', 'func'),\n",
       " ('any', 'func'),\n",
       " ('argmax', 'func'),\n",
       " ('argmin', 'func'),\n",
       " ('argpartition', 'func'),\n",
       " ('argsort', 'func'),\n",
       " ('astype', 'func'),\n",
       " ('base', 'attr'),\n",
       " ('byteswap', 'func'),\n",
       " ('choose', 'func'),\n",
       " ('clip', 'func'),\n",
       " ('compress', 'func'),\n",
       " ('conj', 'func'),\n",
       " ('conjugate', 'func'),\n",
       " ('copy', 'func'),\n",
       " ('ctypes', 'attr'),\n",
       " ('cumprod', 'func'),\n",
       " ('cumsum', 'func'),\n",
       " ('data', 'attr'),\n",
       " ('diagonal', 'func'),\n",
       " ('dot', 'func'),\n",
       " ('dtype', 'attr'),\n",
       " ('dump', 'func'),\n",
       " ('dumps', 'func'),\n",
       " ('fill', 'func'),\n",
       " ('flags', 'attr'),\n",
       " ('flat', 'attr'),\n",
       " ('flatten', 'func'),\n",
       " ('getfield', 'func'),\n",
       " ('imag', 'attr'),\n",
       " ('item', 'func'),\n",
       " ('itemset', 'func'),\n",
       " ('itemsize', 'attr'),\n",
       " ('max', 'func'),\n",
       " ('mean', 'func'),\n",
       " ('min', 'func'),\n",
       " ('nbytes', 'attr'),\n",
       " ('ndim', 'attr'),\n",
       " ('newbyteorder', 'func'),\n",
       " ('nonzero', 'func'),\n",
       " ('partition', 'func'),\n",
       " ('prod', 'func'),\n",
       " ('ptp', 'func'),\n",
       " ('put', 'func'),\n",
       " ('ravel', 'func'),\n",
       " ('real', 'attr'),\n",
       " ('repeat', 'func'),\n",
       " ('reshape', 'func'),\n",
       " ('resize', 'func'),\n",
       " ('round', 'func'),\n",
       " ('searchsorted', 'func'),\n",
       " ('setfield', 'func'),\n",
       " ('setflags', 'func'),\n",
       " ('shape', 'attr'),\n",
       " ('size', 'attr'),\n",
       " ('sort', 'func'),\n",
       " ('squeeze', 'func'),\n",
       " ('std', 'func'),\n",
       " ('strides', 'attr'),\n",
       " ('sum', 'func'),\n",
       " ('swapaxes', 'func'),\n",
       " ('take', 'func'),\n",
       " ('tobytes', 'func'),\n",
       " ('tofile', 'func'),\n",
       " ('tolist', 'func'),\n",
       " ('tostring', 'func'),\n",
       " ('trace', 'func'),\n",
       " ('transpose', 'func'),\n",
       " ('var', 'func'),\n",
       " ('view', 'func')]"
      ]
     },
     "execution_count": 13,
     "metadata": {},
     "output_type": "execute_result"
    }
   ],
   "source": [
    "[(i, 'func' if callable(getattr(a, i)) else 'attr') for i in dir(a)]"
   ]
  },
  {
   "cell_type": "code",
   "execution_count": 16,
   "metadata": {},
   "outputs": [
    {
     "name": "stdout",
     "output_type": "stream",
     "text": [
      "the following are functions\n",
      "__abs__\n",
      "__add__\n",
      "__and__\n",
      "__array__\n",
      "__array_prepare__\n",
      "__array_ufunc__\n",
      "__array_wrap__\n",
      "__bool__\n",
      "__class__\n",
      "__complex__\n",
      "__contains__\n",
      "__copy__\n",
      "__deepcopy__\n",
      "__delattr__\n",
      "__delitem__\n",
      "__dir__\n",
      "__divmod__\n",
      "__eq__\n",
      "__float__\n",
      "__floordiv__\n",
      "__format__\n",
      "__ge__\n",
      "__getattribute__\n",
      "__getitem__\n",
      "__gt__\n",
      "__iadd__\n",
      "__iand__\n",
      "__ifloordiv__\n",
      "__ilshift__\n",
      "__imatmul__\n",
      "__imod__\n",
      "__imul__\n",
      "__index__\n",
      "__init__\n",
      "__init_subclass__\n",
      "__int__\n",
      "__invert__\n",
      "__ior__\n",
      "__ipow__\n",
      "__irshift__\n",
      "__isub__\n",
      "__iter__\n",
      "__itruediv__\n",
      "__ixor__\n",
      "__le__\n",
      "__len__\n",
      "__lshift__\n",
      "__lt__\n",
      "__matmul__\n",
      "__mod__\n",
      "__mul__\n",
      "__ne__\n",
      "__neg__\n",
      "__new__\n",
      "__or__\n",
      "__pos__\n",
      "__pow__\n",
      "__radd__\n",
      "__rand__\n",
      "__rdivmod__\n",
      "__reduce__\n",
      "__reduce_ex__\n",
      "__repr__\n",
      "__rfloordiv__\n",
      "__rlshift__\n",
      "__rmatmul__\n",
      "__rmod__\n",
      "__rmul__\n",
      "__ror__\n",
      "__rpow__\n",
      "__rrshift__\n",
      "__rshift__\n",
      "__rsub__\n",
      "__rtruediv__\n",
      "__rxor__\n",
      "__setattr__\n",
      "__setitem__\n",
      "__setstate__\n",
      "__sizeof__\n",
      "__str__\n",
      "__sub__\n",
      "__subclasshook__\n",
      "__truediv__\n",
      "__xor__\n",
      "all\n",
      "any\n",
      "argmax\n",
      "argmin\n",
      "argpartition\n",
      "argsort\n",
      "astype\n",
      "byteswap\n",
      "choose\n",
      "clip\n",
      "compress\n",
      "conj\n",
      "conjugate\n",
      "copy\n",
      "cumprod\n",
      "cumsum\n",
      "diagonal\n",
      "dot\n",
      "dump\n",
      "dumps\n",
      "fill\n",
      "flatten\n",
      "getfield\n",
      "item\n",
      "itemset\n",
      "max\n",
      "mean\n",
      "min\n",
      "newbyteorder\n",
      "nonzero\n",
      "partition\n",
      "prod\n",
      "ptp\n",
      "put\n",
      "ravel\n",
      "repeat\n",
      "reshape\n",
      "resize\n",
      "round\n",
      "searchsorted\n",
      "setfield\n",
      "setflags\n",
      "sort\n",
      "squeeze\n",
      "std\n",
      "sum\n",
      "swapaxes\n",
      "take\n",
      "tobytes\n",
      "tofile\n",
      "tolist\n",
      "tostring\n",
      "trace\n",
      "transpose\n",
      "var\n",
      "view\n"
     ]
    }
   ],
   "source": [
    "print(\"the following are functions\")\n",
    "for i in dir(a):\n",
    "    if callable(getattr(a,i)):\n",
    "        print(i)"
   ]
  },
  {
   "cell_type": "code",
   "execution_count": 17,
   "metadata": {},
   "outputs": [
    {
     "name": "stdout",
     "output_type": "stream",
     "text": [
      "the following are attibutes\n",
      "T\n",
      "__array_finalize__\n",
      "__array_interface__\n",
      "__array_priority__\n",
      "__array_struct__\n",
      "__doc__\n",
      "__hash__\n",
      "base\n",
      "ctypes\n",
      "data\n",
      "dtype\n",
      "flags\n",
      "flat\n",
      "imag\n",
      "itemsize\n",
      "nbytes\n",
      "ndim\n",
      "real\n",
      "shape\n",
      "size\n",
      "strides\n"
     ]
    }
   ],
   "source": [
    "print(\"the following are attibutes\")\n",
    "for i in dir(a):\n",
    "    if not callable(getattr(a,i)):\n",
    "        print(i)"
   ]
  },
  {
   "cell_type": "markdown",
   "metadata": {},
   "source": [
    "# Class"
   ]
  },
  {
   "cell_type": "markdown",
   "metadata": {},
   "source": [
    "The following information about Python Class is based on the online materials at [realpython.com](https://realpython.com/python3-object-oriented-programming/#classes-in-python)"
   ]
  },
  {
   "cell_type": "markdown",
   "metadata": {},
   "source": [
    "The primitive data structures available in Python, like numbers, strings, and lists are designed to represent simple things like the cost of something, the name of a poem, and your favorite colors, respectively.\n",
    "\n",
    "_Classes_ are used to create new user-defined data structures that contain arbitrary information about something.\n",
    "\n",
    "It’s important to note that a class just provides structure—it’s a blueprint for how something should be defined, but it doesn’t actually provide any real content itself."
   ]
  },
  {
   "cell_type": "markdown",
   "metadata": {},
   "source": [
    "After you 'fill' a class with some information, you make an $instance$\n",
    "\n",
    "Put another way, a class is like a form or questionnaire. It defines the needed information. After you fill out the form, your specific copy is an instance of the class; it contains actual information relevant to you."
   ]
  },
  {
   "cell_type": "markdown",
   "metadata": {},
   "source": [
    "## Define a class"
   ]
  },
  {
   "cell_type": "markdown",
   "metadata": {},
   "source": [
    "Defining a class is simple in Python:"
   ]
  },
  {
   "cell_type": "code",
   "execution_count": 18,
   "metadata": {},
   "outputs": [],
   "source": [
    "class Dog:\n",
    "    pass"
   ]
  },
  {
   "cell_type": "markdown",
   "metadata": {},
   "source": [
    "You start with the class keyword to indicate that you are creating a class, then you add the name of the class"
   ]
  },
  {
   "cell_type": "markdown",
   "metadata": {},
   "source": [
    "Also, we used the Python keyword pass here. This is very often used as a place holder where code will eventually go. It allows us to run this code without throwing an error."
   ]
  },
  {
   "cell_type": "raw",
   "metadata": {},
   "source": [
    "All classes create objects, and all objects contain characteristics called attributes"
   ]
  },
  {
   "cell_type": "code",
   "execution_count": 22,
   "metadata": {},
   "outputs": [],
   "source": [
    "class Dog:\n",
    "    # Instance Attributes\n",
    "    def __init__(self, name, age):\n",
    "        self.name = name\n",
    "        self.age = age"
   ]
  },
  {
   "cell_type": "markdown",
   "metadata": {},
   "source": [
    "Use the __init__() method to initialize (e.g., specify) an object’s initial attributes by giving them their default value (or state). This method must have at least one argument as well as the self variable, which refers to the object itself (e.g., Dog).\n",
    "\n",
    "Note that we only define a data structure above. We haven't give real data yet. \n",
    "\n",
    "Here, the 'self' is a placeholder, which will be later replaced by the name of an object. The 'self.name' and 'self.age' are instance attibutes, which are specific to each object.  "
   ]
  },
  {
   "cell_type": "markdown",
   "metadata": {},
   "source": [
    "### Class attributes"
   ]
  },
  {
   "cell_type": "code",
   "execution_count": 23,
   "metadata": {},
   "outputs": [],
   "source": [
    "class Dog:\n",
    "\n",
    "    # Class Attribute\n",
    "    species = 'mammal'\n",
    "\n",
    "    # Instance Attributes\n",
    "    def __init__(self, name, age):\n",
    "        self.name = name\n",
    "        self.age = age"
   ]
  },
  {
   "cell_type": "markdown",
   "metadata": {},
   "source": [
    "While instance attributes are specific to each object, class attributes are the same for all instances—which in this case is all dogs.\n",
    "\n",
    "The 'species' is a common attibutes for all dogs. So while each dog has a unique name and age, every dog will be a mammal."
   ]
  },
  {
   "cell_type": "markdown",
   "metadata": {},
   "source": [
    "Now, we have finished defining a class named Dog. We can start to use this class."
   ]
  },
  {
   "cell_type": "code",
   "execution_count": 24,
   "metadata": {},
   "outputs": [],
   "source": [
    "philo = Dog(\"Philo\", 5)"
   ]
  },
  {
   "cell_type": "code",
   "execution_count": 26,
   "metadata": {},
   "outputs": [
    {
     "data": {
      "text/plain": [
       "5"
      ]
     },
     "execution_count": 26,
     "metadata": {},
     "output_type": "execute_result"
    }
   ],
   "source": [
    "philo.age"
   ]
  },
  {
   "cell_type": "code",
   "execution_count": 27,
   "metadata": {},
   "outputs": [],
   "source": [
    "mikey = Dog(\"Mikey\", 6)"
   ]
  },
  {
   "cell_type": "code",
   "execution_count": 28,
   "metadata": {},
   "outputs": [
    {
     "data": {
      "text/plain": [
       "6"
      ]
     },
     "execution_count": 28,
     "metadata": {},
     "output_type": "execute_result"
    }
   ],
   "source": [
    "mikey.age"
   ]
  },
  {
   "cell_type": "code",
   "execution_count": 29,
   "metadata": {},
   "outputs": [
    {
     "data": {
      "text/plain": [
       "['__class__',\n",
       " '__delattr__',\n",
       " '__dict__',\n",
       " '__dir__',\n",
       " '__doc__',\n",
       " '__eq__',\n",
       " '__format__',\n",
       " '__ge__',\n",
       " '__getattribute__',\n",
       " '__gt__',\n",
       " '__hash__',\n",
       " '__init__',\n",
       " '__init_subclass__',\n",
       " '__le__',\n",
       " '__lt__',\n",
       " '__module__',\n",
       " '__ne__',\n",
       " '__new__',\n",
       " '__reduce__',\n",
       " '__reduce_ex__',\n",
       " '__repr__',\n",
       " '__setattr__',\n",
       " '__sizeof__',\n",
       " '__str__',\n",
       " '__subclasshook__',\n",
       " '__weakref__',\n",
       " 'age',\n",
       " 'name',\n",
       " 'species']"
      ]
     },
     "execution_count": 29,
     "metadata": {},
     "output_type": "execute_result"
    }
   ],
   "source": [
    "dir(mikey)"
   ]
  },
  {
   "cell_type": "code",
   "execution_count": 30,
   "metadata": {},
   "outputs": [
    {
     "data": {
      "text/plain": [
       "'mammal'"
      ]
     },
     "execution_count": 30,
     "metadata": {},
     "output_type": "execute_result"
    }
   ],
   "source": [
    "mikey.species"
   ]
  },
  {
   "cell_type": "code",
   "execution_count": 31,
   "metadata": {},
   "outputs": [
    {
     "data": {
      "text/plain": [
       "'mammal'"
      ]
     },
     "execution_count": 31,
     "metadata": {},
     "output_type": "execute_result"
    }
   ],
   "source": [
    "philo.species"
   ]
  },
  {
   "cell_type": "markdown",
   "metadata": {},
   "source": [
    "You now see that we use $Class$ to define our own data structure, with attributes."
   ]
  },
  {
   "cell_type": "markdown",
   "metadata": {},
   "source": [
    "_______________"
   ]
  },
  {
   "cell_type": "markdown",
   "metadata": {},
   "source": [
    "##### We can also make the Dog class more complex by including methods/functions as well."
   ]
  },
  {
   "cell_type": "code",
   "execution_count": 49,
   "metadata": {},
   "outputs": [],
   "source": [
    "class Dog:\n",
    "\n",
    "    # Class Attribute\n",
    "    species = 'mammal'\n",
    "\n",
    "    # Initializer / Instance Attributes\n",
    "    def __init__(self, name, age):\n",
    "        self.name = name\n",
    "        self.age = age\n",
    "\n",
    "    # instance method\n",
    "    def description(self):\n",
    "        return (\"%s is %d years old\" % (self.name, self.age))\n",
    "\n",
    "    # instance method\n",
    "    def speak(self, sound):\n",
    "        return (\"%s says %s\" % (self.name, sound))\n"
   ]
  },
  {
   "cell_type": "code",
   "execution_count": 50,
   "metadata": {},
   "outputs": [],
   "source": [
    "mikey = Dog(\"Mikey\", 6)"
   ]
  },
  {
   "cell_type": "code",
   "execution_count": 51,
   "metadata": {},
   "outputs": [
    {
     "data": {
      "text/plain": [
       "'Mikey is 6 years old'"
      ]
     },
     "execution_count": 51,
     "metadata": {},
     "output_type": "execute_result"
    }
   ],
   "source": [
    "mikey.description()"
   ]
  },
  {
   "cell_type": "code",
   "execution_count": 53,
   "metadata": {},
   "outputs": [
    {
     "data": {
      "text/plain": [
       "'Mikey says 5'"
      ]
     },
     "execution_count": 53,
     "metadata": {},
     "output_type": "execute_result"
    }
   ],
   "source": [
    "mikey.speak(\"Gruff Gruff\")"
   ]
  },
  {
   "cell_type": "markdown",
   "metadata": {},
   "source": [
    "In the above, we define two functions/methods in Dog class. The 'description' function uses the object's name as input and print out a string. This is by default and to call this function, you don't need to specify the name of the object. The 'speak' function needs two inputs, (1) the object's name and (2) the 'sound'."
   ]
  },
  {
   "cell_type": "markdown",
   "metadata": {},
   "source": [
    "### Python Object Inheritance"
   ]
  },
  {
   "cell_type": "markdown",
   "metadata": {},
   "source": [
    "Inheritance is the process by which one class takes on the attributes and methods of another. Newly formed classes are called child classes, and the classes that child classes are derived from are called parent classes.\n",
    "\n",
    "It’s important to note that child classes override or extend the functionality (e.g., attributes and behaviors) of parent classes. "
   ]
  },
  {
   "cell_type": "code",
   "execution_count": 1,
   "metadata": {},
   "outputs": [
    {
     "name": "stdout",
     "output_type": "stream",
     "text": [
      "Jim is 12 years old\n",
      "Jim runs slowly\n"
     ]
    }
   ],
   "source": [
    "# Parent class\n",
    "class Dog:\n",
    "\n",
    "    # Class attribute\n",
    "    species = 'mammal'\n",
    "\n",
    "    # Initializer / Instance attributes\n",
    "    def __init__(self, name, age):\n",
    "        self.name = name\n",
    "        self.age = age\n",
    "\n",
    "    # instance method\n",
    "    def description(self):\n",
    "        return (\"%s is %d years old\" % (self.name, self.age))\n",
    "\n",
    "    # instance method\n",
    "    def speak(self, sound):\n",
    "        return (\"%s says %s\" % (self.name, sound))\n",
    "\n",
    "\n",
    "# Child class (inherits from Dog class)\n",
    "class Bulldog(Dog):\n",
    "    def run(self, speed):\n",
    "        return \"%s runs %s\" % (self.name, speed)"
   ]
  },
  {
   "cell_type": "code",
   "execution_count": 2,
   "metadata": {},
   "outputs": [],
   "source": [
    "jim = Bulldog(\"Jim\", 12)"
   ]
  },
  {
   "cell_type": "code",
   "execution_count": 3,
   "metadata": {},
   "outputs": [
    {
     "data": {
      "text/plain": [
       "'Jim is 12 years old'"
      ]
     },
     "execution_count": 3,
     "metadata": {},
     "output_type": "execute_result"
    }
   ],
   "source": [
    "# Child classes inherit attributes and\n",
    "# behaviors from the parent class\n",
    "jim.description()"
   ]
  },
  {
   "cell_type": "code",
   "execution_count": 4,
   "metadata": {},
   "outputs": [
    {
     "name": "stdout",
     "output_type": "stream",
     "text": [
      "Jim runs slowly\n"
     ]
    }
   ],
   "source": [
    "# Child classes have specific attributes\n",
    "# and behaviors as well\n",
    "print(jim.run(\"slowly\"))"
   ]
  },
  {
   "cell_type": "raw",
   "metadata": {},
   "source": [
    "Please be aware that OOP is a programming paradigm and not a Python concept. Most of the modern programming languages such as Java, C#, C++ follow OOP principles. So the good news is that learning object-oriented programming fundamentals will be valuable to you in a variety of circumstances—whether you’re working in Python or not."
   ]
  }
 ],
 "metadata": {
  "kernelspec": {
   "display_name": "Python 3",
   "language": "python",
   "name": "python3"
  },
  "language_info": {
   "codemirror_mode": {
    "name": "ipython",
    "version": 3
   },
   "file_extension": ".py",
   "mimetype": "text/x-python",
   "name": "python",
   "nbconvert_exporter": "python",
   "pygments_lexer": "ipython3",
   "version": "3.7.0"
  }
 },
 "nbformat": 4,
 "nbformat_minor": 2
}
